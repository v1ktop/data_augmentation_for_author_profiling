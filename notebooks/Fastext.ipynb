{
 "cells": [
  {
   "cell_type": "code",
   "execution_count": 1,
   "metadata": {},
   "outputs": [],
   "source": [
    "file_dir=\"D:/Models/fasttex/cc.en.300.bin\""
   ]
  },
  {
   "cell_type": "code",
   "execution_count": 2,
   "metadata": {},
   "outputs": [
    {
     "name": "stderr",
     "output_type": "stream",
     "text": [
      "Warning : `load_model` does not return WordVectorModel or SupervisedModel any more, but a `FastText` object which is very similar.\n"
     ]
    },
    {
     "data": {
      "text/plain": [
       "300"
      ]
     },
     "execution_count": 2,
     "metadata": {},
     "output_type": "execute_result"
    }
   ],
   "source": [
    "import fasttext.util\n",
    "ft = fasttext.load_model(file_dir)\n",
    "ft.get_dimension()"
   ]
  },
  {
   "cell_type": "code",
   "execution_count": 26,
   "metadata": {},
   "outputs": [
    {
     "data": {
      "text/plain": [
       "[(0.8587313294410706, 'accomadation'),\n",
       " (0.8280162811279297, 'acommodation'),\n",
       " (0.822644829750061, 'accommodation'),\n",
       " (0.8218739628791809, 'accomdation'),\n",
       " (0.7932754158973694, 'Accomodation'),\n",
       " (0.7560939788818359, 'accommadation'),\n",
       " (0.7393913269042969, 'accommdation'),\n",
       " (0.7347739338874817, 'acomodation'),\n",
       " (0.7130435109138489, 'accomidation'),\n",
       " (0.6888222694396973, 'accomodations')]"
      ]
     },
     "execution_count": 26,
     "metadata": {},
     "output_type": "execute_result"
    }
   ],
   "source": [
    "ft.get_nearest_neighbors('accomodation',10)"
   ]
  },
  {
   "cell_type": "code",
   "execution_count": 11,
   "metadata": {},
   "outputs": [
    {
     "data": {
      "text/plain": [
       "[(0.7554811835289001, 'queen'),\n",
       " (0.6141632199287415, 'queen-mother'),\n",
       " (0.5755330920219421, 'princess'),\n",
       " (0.5741076469421387, 'monarch'),\n",
       " (0.5688967704772949, 'kings'),\n",
       " (0.5649929046630859, 'queenship'),\n",
       " (0.5638618469238281, 'Queen'),\n",
       " (0.5544734597206116, 'empress'),\n",
       " (0.5524800419807434, 'consort'),\n",
       " (0.5497491955757141, 'queen.The'),\n",
       " (0.5494147539138794, 'royal'),\n",
       " (0.546794056892395, 'queens'),\n",
       " (0.5458797812461853, 'king-'),\n",
       " (0.5311716198921204, 'Queen-mother'),\n",
       " (0.5250647068023682, 'ex-queen'),\n",
       " (0.5218464136123657, 'lady-in-waiting'),\n",
       " (0.5176834464073181, 'king.The'),\n",
       " (0.5175904631614685, 'queen.'),\n",
       " (0.5165814757347107, 'Ahashverosh'),\n",
       " (0.5151588320732117, 'queen-')]"
      ]
     },
     "execution_count": 11,
     "metadata": {},
     "output_type": "execute_result"
    }
   ],
   "source": [
    "ft.get_analogies(\"king\", \"man\", \"woman\", 20)"
   ]
  },
  {
   "cell_type": "code",
   "execution_count": null,
   "metadata": {},
   "outputs": [],
   "source": []
  }
 ],
 "metadata": {
  "kernelspec": {
   "display_name": "Python 3",
   "language": "python",
   "name": "python3"
  },
  "language_info": {
   "codemirror_mode": {
    "name": "ipython",
    "version": 3
   },
   "file_extension": ".py",
   "mimetype": "text/x-python",
   "name": "python",
   "nbconvert_exporter": "python",
   "pygments_lexer": "ipython3",
   "version": "3.7.6"
  }
 },
 "nbformat": 4,
 "nbformat_minor": 2
}
