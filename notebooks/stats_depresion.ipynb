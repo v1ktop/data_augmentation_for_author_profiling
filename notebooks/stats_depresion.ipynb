{
 "cells": [
  {
   "cell_type": "markdown",
   "metadata": {
    "colab_type": "text",
    "id": "lh-asPJEI5eK"
   },
   "source": [
    "# Estadisiticas conjunto de depresión"
   ]
  },
  {
   "cell_type": "code",
   "execution_count": 1,
   "metadata": {
    "colab": {
     "base_uri": "https://localhost:8080/",
     "height": 34
    },
    "colab_type": "code",
    "executionInfo": {
     "elapsed": 615,
     "status": "ok",
     "timestamp": 1579215150193,
     "user": {
      "displayName": "Victor Jimenez",
      "photoUrl": "https://lh3.googleusercontent.com/a-/AAuE7mBtFZuLx3oCNyvcXAzWRaAeQKTkCl8vASUiYrpRoA=s64",
      "userId": "04272784867653659299"
     },
     "user_tz": 360
    },
    "id": "CCWrnxI7CYd1",
    "outputId": "33f5bb58-1ad2-4f84-8b24-41f419e6f347"
   },
   "outputs": [],
   "source": [
    "#from google.colab import drive\n",
    "#drive.mount('/content/drive/')"
   ]
  },
  {
   "cell_type": "code",
   "execution_count": 2,
   "metadata": {
    "colab": {},
    "colab_type": "code",
    "id": "NqSCBoBdQQcI"
   },
   "outputs": [],
   "source": [
    "repo_dir=\"D:/v1ktop/Drive/REPOS/augmentation_ap/\"\n",
    "#'/content/drive/My Drive/REPOS/augmentation_ap/'"
   ]
  },
  {
   "cell_type": "code",
   "execution_count": 3,
   "metadata": {},
   "outputs": [],
   "source": [
    " %load_ext autoreload"
   ]
  },
  {
   "cell_type": "code",
   "execution_count": 4,
   "metadata": {},
   "outputs": [],
   "source": [
    " %autoreload 2"
   ]
  },
  {
   "cell_type": "code",
   "execution_count": 5,
   "metadata": {
    "colab": {},
    "colab_type": "code",
    "id": "bmuTm9OEFCsv"
   },
   "outputs": [],
   "source": [
    "import sys\n",
    "sys.path.append(repo_dir)"
   ]
  },
  {
   "cell_type": "code",
   "execution_count": 6,
   "metadata": {
    "colab": {},
    "colab_type": "code",
    "id": "4uUVieztQPwT"
   },
   "outputs": [],
   "source": [
    "from preprocesing.load_datasets import Dataset"
   ]
  },
  {
   "cell_type": "code",
   "execution_count": 7,
   "metadata": {
    "colab": {},
    "colab_type": "code",
    "id": "u1QLl5icQzUh"
   },
   "outputs": [],
   "source": [
    "#localdir=\"/content/drive/My Drive/DATA/erisk/2017/train/\"\n",
    "localdir=\"D:/corpus/DepresionEriskCollections/2017/train/\""
   ]
  },
  {
   "cell_type": "code",
   "execution_count": 8,
   "metadata": {
    "colab": {},
    "colab_type": "code",
    "id": "8oBcwmWAI5eO"
   },
   "outputs": [],
   "source": [
    "folder_name=\"prep_chunks_joined\"\n",
    "truths_name=\"train_golden_truth_joined.txt\"\n",
    "data_key=\"erisk18_dev\""
   ]
  },
  {
   "cell_type": "code",
   "execution_count": 9,
   "metadata": {
    "colab": {},
    "colab_type": "code",
    "id": "49OL3mesI5eQ"
   },
   "outputs": [
    {
     "name": "stdout",
     "output_type": "stream",
     "text": [
      "D:\\v1ktop\\Drive-INAOE\\Code\\data_aumentation_for_author_profiling\\notebooks\n"
     ]
    }
   ],
   "source": [
    "data= Dataset(key=data_key,  doc_len=64, min_len=int(64/2), chunking=False,  remove_end=False)"
   ]
  },
  {
   "cell_type": "code",
   "execution_count": 10,
   "metadata": {},
   "outputs": [
    {
     "ename": "FileNotFoundError",
     "evalue": "[Errno 2] No such file or directory: 'train_golden_truth_joined.txt'",
     "output_type": "error",
     "traceback": [
      "\u001b[1;31m---------------------------------------------------------------------------\u001b[0m",
      "\u001b[1;31mFileNotFoundError\u001b[0m                         Traceback (most recent call last)",
      "\u001b[1;32m<ipython-input-10-e0a64c342e63>\u001b[0m in \u001b[0;36m<module>\u001b[1;34m\u001b[0m\n\u001b[0;32m      1\u001b[0m training=data.get_dataset(folder_name=folder_name, truth_name=truths_name, \n\u001b[1;32m----> 2\u001b[1;33m                           partition=\"training\")\n\u001b[0m",
      "\u001b[1;32mD:/v1ktop/Drive/REPOS/augmentation_ap\\preprocesing\\load_datasets.py\u001b[0m in \u001b[0;36mget_dataset\u001b[1;34m(self, docs_dir, folder_name, truth_name, partition, tag)\u001b[0m\n\u001b[0;32m     66\u001b[0m                                                                                 \u001b[0mencode\u001b[0m\u001b[1;33m=\u001b[0m\u001b[0mself\u001b[0m\u001b[1;33m.\u001b[0m\u001b[0mencode\u001b[0m\u001b[1;33m,\u001b[0m\u001b[1;33m\u001b[0m\u001b[1;33m\u001b[0m\u001b[0m\n\u001b[0;32m     67\u001b[0m                                                                                 \u001b[0mkey\u001b[0m\u001b[1;33m=\u001b[0m\u001b[0mself\u001b[0m\u001b[1;33m.\u001b[0m\u001b[0mkey\u001b[0m\u001b[1;33m,\u001b[0m\u001b[1;33m\u001b[0m\u001b[1;33m\u001b[0m\u001b[0m\n\u001b[1;32m---> 68\u001b[1;33m                                                                                 tagged=tag)\n\u001b[0m\u001b[0;32m     69\u001b[0m         \u001b[1;32melse\u001b[0m\u001b[1;33m:\u001b[0m\u001b[1;33m\u001b[0m\u001b[1;33m\u001b[0m\u001b[0m\n\u001b[0;32m     70\u001b[0m             docs, labels, ids, truths, lens = process_data_files.load_txt_train(\n",
      "\u001b[1;32mD:/v1ktop/Drive/REPOS/augmentation_ap\\preprocesing\\process_data_files.py\u001b[0m in \u001b[0;36mload_txt_train\u001b[1;34m(docs_dir, truth_dir, remove_end, clean, chunking, max_len, min_len, encode, key, tagged)\u001b[0m\n\u001b[0;32m    155\u001b[0m \u001b[1;33m\u001b[0m\u001b[0m\n\u001b[0;32m    156\u001b[0m     \u001b[1;32mif\u001b[0m \u001b[0mkey\u001b[0m\u001b[1;33m.\u001b[0m\u001b[0mstartswith\u001b[0m\u001b[1;33m(\u001b[0m\u001b[1;34m\"erisk\"\u001b[0m\u001b[1;33m)\u001b[0m \u001b[1;32mor\u001b[0m \u001b[0mkey\u001b[0m\u001b[1;33m.\u001b[0m\u001b[0mstartswith\u001b[0m\u001b[1;33m(\u001b[0m\u001b[1;34m\"anorexia\"\u001b[0m\u001b[1;33m)\u001b[0m\u001b[1;33m:\u001b[0m\u001b[1;33m\u001b[0m\u001b[1;33m\u001b[0m\u001b[0m\n\u001b[1;32m--> 157\u001b[1;33m         \u001b[0mauthor_ids\u001b[0m \u001b[1;33m=\u001b[0m \u001b[0mread_truth_ids\u001b[0m\u001b[1;33m(\u001b[0m\u001b[0mtruth_dir\u001b[0m\u001b[1;33m,\u001b[0m \u001b[1;32mFalse\u001b[0m\u001b[1;33m,\u001b[0m \u001b[1;34m'erisk'\u001b[0m\u001b[1;33m)\u001b[0m\u001b[1;33m\u001b[0m\u001b[1;33m\u001b[0m\u001b[0m\n\u001b[0m\u001b[0;32m    158\u001b[0m         \u001b[0mtruths\u001b[0m \u001b[1;33m=\u001b[0m \u001b[0mload_truth_erisk\u001b[0m\u001b[1;33m(\u001b[0m\u001b[0mtruth_dir\u001b[0m\u001b[1;33m,\u001b[0m \u001b[0mauthor_ids\u001b[0m\u001b[1;33m)\u001b[0m\u001b[1;33m\u001b[0m\u001b[1;33m\u001b[0m\u001b[0m\n\u001b[0;32m    159\u001b[0m         \u001b[0mfilenames\u001b[0m \u001b[1;33m=\u001b[0m \u001b[0mread_truth_ids\u001b[0m\u001b[1;33m(\u001b[0m\u001b[0mtruth_dir\u001b[0m\u001b[1;33m,\u001b[0m \u001b[1;32mTrue\u001b[0m\u001b[1;33m,\u001b[0m \u001b[1;34m'erisk'\u001b[0m\u001b[1;33m)\u001b[0m\u001b[1;33m\u001b[0m\u001b[1;33m\u001b[0m\u001b[0m\n",
      "\u001b[1;32mD:/v1ktop/Drive/REPOS/augmentation_ap\\preprocesing\\process_data_files.py\u001b[0m in \u001b[0;36mread_truth_ids\u001b[1;34m(truth_path, return_ext, dataset, extention)\u001b[0m\n\u001b[0;32m    338\u001b[0m         \u001b[0mextention\u001b[0m \u001b[1;33m=\u001b[0m \u001b[1;34m\".txt\"\u001b[0m\u001b[1;33m\u001b[0m\u001b[1;33m\u001b[0m\u001b[0m\n\u001b[0;32m    339\u001b[0m \u001b[1;33m\u001b[0m\u001b[0m\n\u001b[1;32m--> 340\u001b[1;33m     \u001b[1;32mwith\u001b[0m \u001b[0mopen\u001b[0m\u001b[1;33m(\u001b[0m\u001b[0mtruth_path\u001b[0m\u001b[1;33m,\u001b[0m \u001b[1;34m'r'\u001b[0m\u001b[1;33m)\u001b[0m \u001b[1;32mas\u001b[0m \u001b[0mtruth_file\u001b[0m\u001b[1;33m:\u001b[0m\u001b[1;33m\u001b[0m\u001b[1;33m\u001b[0m\u001b[0m\n\u001b[0m\u001b[0;32m    341\u001b[0m         \u001b[1;32mfor\u001b[0m \u001b[0mline\u001b[0m \u001b[1;32min\u001b[0m \u001b[0msorted\u001b[0m\u001b[1;33m(\u001b[0m\u001b[0mtruth_file\u001b[0m\u001b[1;33m)\u001b[0m\u001b[1;33m:\u001b[0m\u001b[1;33m\u001b[0m\u001b[1;33m\u001b[0m\u001b[0m\n\u001b[0;32m    342\u001b[0m             \u001b[0mline\u001b[0m \u001b[1;33m=\u001b[0m \u001b[0mline\u001b[0m\u001b[1;33m.\u001b[0m\u001b[0mrstrip\u001b[0m\u001b[1;33m(\u001b[0m\u001b[1;34m'\\n'\u001b[0m\u001b[1;33m)\u001b[0m\u001b[1;33m\u001b[0m\u001b[1;33m\u001b[0m\u001b[0m\n",
      "\u001b[1;31mFileNotFoundError\u001b[0m: [Errno 2] No such file or directory: 'train_golden_truth_joined.txt'"
     ]
    }
   ],
   "source": [
    "training=data.get_dataset(folder_name=folder_name, truth_name=truths_name, \n",
    "                          partition=\"training\")"
   ]
  },
  {
   "cell_type": "code",
   "execution_count": null,
   "metadata": {},
   "outputs": [],
   "source": [
    "len(training)"
   ]
  },
  {
   "cell_type": "code",
   "execution_count": null,
   "metadata": {},
   "outputs": [],
   "source": [
    "len(training[0])"
   ]
  },
  {
   "cell_type": "code",
   "execution_count": null,
   "metadata": {},
   "outputs": [],
   "source": [
    "len(training[1])"
   ]
  },
  {
   "cell_type": "markdown",
   "metadata": {
    "colab_type": "text",
    "id": "aRs5O6OoI5eS"
   },
   "source": [
    "# Corpus Statistics"
   ]
  },
  {
   "cell_type": "code",
   "execution_count": null,
   "metadata": {},
   "outputs": [],
   "source": []
  },
  {
   "cell_type": "markdown",
   "metadata": {
    "colab_type": "text",
    "id": "rTvYjmfEI5eS"
   },
   "source": [
    "### Numero de documentos entrenamiento."
   ]
  },
  {
   "cell_type": "code",
   "execution_count": null,
   "metadata": {},
   "outputs": [],
   "source": [
    "from classifier.explore_data import explore_data"
   ]
  },
  {
   "cell_type": "code",
   "execution_count": null,
   "metadata": {},
   "outputs": [],
   "source": [
    "exp_cls=explore_data(training[0],training[1],plot_dir=localdir)"
   ]
  },
  {
   "cell_type": "code",
   "execution_count": null,
   "metadata": {
    "colab": {
     "base_uri": "https://localhost:8080/",
     "height": 34
    },
    "colab_type": "code",
    "executionInfo": {
     "elapsed": 2146,
     "status": "ok",
     "timestamp": 1579215151784,
     "user": {
      "displayName": "Victor Jimenez",
      "photoUrl": "https://lh3.googleusercontent.com/a-/AAuE7mBtFZuLx3oCNyvcXAzWRaAeQKTkCl8vASUiYrpRoA=s64",
      "userId": "04272784867653659299"
     },
     "user_tz": 360
    },
    "id": "_jn3noTcI5eT",
    "outputId": "795a750e-afd8-40d9-dae8-ba861a7c72f0"
   },
   "outputs": [],
   "source": [
    "exp_cls.plot_class_distribution()"
   ]
  },
  {
   "cell_type": "markdown",
   "metadata": {
    "colab_type": "text",
    "id": "rTvYjmfEI5eS"
   },
   "source": [
    "### Numero de sub-documentos entrenamiento."
   ]
  },
  {
   "cell_type": "code",
   "execution_count": null,
   "metadata": {},
   "outputs": [],
   "source": [
    "data.chunking=True\n",
    "training_chunks=data.get_dataset(folder_name=folder_name, truth_name=truths_name, \n",
    "                          partition=\"training\")"
   ]
  },
  {
   "cell_type": "code",
   "execution_count": null,
   "metadata": {},
   "outputs": [],
   "source": [
    "exp_cls=explore_data(training_chunks[0],training_chunks[1],plot_dir=localdir)"
   ]
  },
  {
   "cell_type": "code",
   "execution_count": null,
   "metadata": {
    "colab": {
     "base_uri": "https://localhost:8080/",
     "height": 34
    },
    "colab_type": "code",
    "executionInfo": {
     "elapsed": 2146,
     "status": "ok",
     "timestamp": 1579215151784,
     "user": {
      "displayName": "Victor Jimenez",
      "photoUrl": "https://lh3.googleusercontent.com/a-/AAuE7mBtFZuLx3oCNyvcXAzWRaAeQKTkCl8vASUiYrpRoA=s64",
      "userId": "04272784867653659299"
     },
     "user_tz": 360
    },
    "id": "_jn3noTcI5eT",
    "outputId": "795a750e-afd8-40d9-dae8-ba861a7c72f0"
   },
   "outputs": [],
   "source": [
    "exp_cls.plot_class_distribution()"
   ]
  },
  {
   "cell_type": "code",
   "execution_count": null,
   "metadata": {},
   "outputs": [],
   "source": []
  },
  {
   "cell_type": "markdown",
   "metadata": {
    "colab_type": "text",
    "id": "Uyc0uEU4I5eW"
   },
   "source": [
    "## Tamaño del vocabulario"
   ]
  },
  {
   "cell_type": "code",
   "execution_count": null,
   "metadata": {
    "colab": {
     "base_uri": "https://localhost:8080/",
     "height": 63
    },
    "colab_type": "code",
    "executionInfo": {
     "elapsed": 3488,
     "status": "ok",
     "timestamp": 1579215153137,
     "user": {
      "displayName": "Victor Jimenez",
      "photoUrl": "https://lh3.googleusercontent.com/a-/AAuE7mBtFZuLx3oCNyvcXAzWRaAeQKTkCl8vASUiYrpRoA=s64",
      "userId": "04272784867653659299"
     },
     "user_tz": 360
    },
    "id": "AZAQzcaUI5eW",
    "outputId": "ee903383-5a39-4fa9-b679-849ecd999f57"
   },
   "outputs": [],
   "source": [
    "from classifier.FeactureExtraction import feature_extraction"
   ]
  },
  {
   "cell_type": "code",
   "execution_count": null,
   "metadata": {
    "colab": {},
    "colab_type": "code",
    "id": "dQuQGbyPI5eY"
   },
   "outputs": [],
   "source": [
    "extractor=feature_extraction(docs_train=training[0], method=\"count\")\n",
    "vocab=extractor.cv.vocabulary_"
   ]
  },
  {
   "cell_type": "code",
   "execution_count": null,
   "metadata": {
    "colab": {
     "base_uri": "https://localhost:8080/",
     "height": 34
    },
    "colab_type": "code",
    "executionInfo": {
     "elapsed": 9034,
     "status": "ok",
     "timestamp": 1579215158700,
     "user": {
      "displayName": "Victor Jimenez",
      "photoUrl": "https://lh3.googleusercontent.com/a-/AAuE7mBtFZuLx3oCNyvcXAzWRaAeQKTkCl8vASUiYrpRoA=s64",
      "userId": "04272784867653659299"
     },
     "user_tz": 360
    },
    "id": "RJ3eMiUaI5eb",
    "outputId": "0f672733-770e-4040-f4e4-7ad699fd7f60"
   },
   "outputs": [],
   "source": [
    "len(vocab)"
   ]
  },
  {
   "cell_type": "markdown",
   "metadata": {},
   "source": [
    "## 3-Folds"
   ]
  },
  {
   "cell_type": "code",
   "execution_count": null,
   "metadata": {},
   "outputs": [],
   "source": [
    "from sklearn.model_selection import StratifiedKFold\n",
    "import numpy as np"
   ]
  },
  {
   "cell_type": "code",
   "execution_count": null,
   "metadata": {},
   "outputs": [],
   "source": [
    "skf = StratifiedKFold(n_splits=3, random_state=None, shuffle=False)"
   ]
  },
  {
   "cell_type": "code",
   "execution_count": null,
   "metadata": {},
   "outputs": [],
   "source": [
    "X=np.array(training[2])"
   ]
  },
  {
   "cell_type": "code",
   "execution_count": null,
   "metadata": {},
   "outputs": [],
   "source": [
    "y=training[1]"
   ]
  },
  {
   "cell_type": "code",
   "execution_count": null,
   "metadata": {},
   "outputs": [],
   "source": [
    "skf.get_n_splits(X, y)"
   ]
  },
  {
   "cell_type": "code",
   "execution_count": null,
   "metadata": {},
   "outputs": [],
   "source": [
    "print(skf)"
   ]
  },
  {
   "cell_type": "code",
   "execution_count": null,
   "metadata": {},
   "outputs": [],
   "source": [
    "training_folds=[]\n",
    "test_folds=[]"
   ]
  },
  {
   "cell_type": "code",
   "execution_count": null,
   "metadata": {},
   "outputs": [],
   "source": [
    "for train_index, test_index in skf.split(X, y):\n",
    "    print(\"TRAIN:\", train_index, \"TEST:\", test_index)\n",
    "    X_train, X_test = X[train_index], X[test_index]\n",
    "    y_train, y_test = y[train_index], y[test_index]\n",
    "    \n",
    "    train_fold=X_train, y_train\n",
    "    test_fold=X_test, y_test\n",
    "    \n",
    "    training_folds.append(train_fold)\n",
    "    test_folds.append(test_fold)"
   ]
  },
  {
   "cell_type": "code",
   "execution_count": null,
   "metadata": {},
   "outputs": [],
   "source": [
    "len(training_folds[0][0])+ len(test_folds[0][0])"
   ]
  },
  {
   "cell_type": "code",
   "execution_count": null,
   "metadata": {},
   "outputs": [],
   "source": [
    "len(training[0])"
   ]
  },
  {
   "cell_type": "markdown",
   "metadata": {},
   "source": [
    "### Guardar folds"
   ]
  },
  {
   "cell_type": "code",
   "execution_count": null,
   "metadata": {},
   "outputs": [],
   "source": [
    "from preprocesing import process_data_files as pros_data"
   ]
  },
  {
   "cell_type": "code",
   "execution_count": null,
   "metadata": {},
   "outputs": [],
   "source": [
    "save_dir=r\"D:\\corpus\\DepresionEriskCollections\\2017\\train\""
   ]
  },
  {
   "cell_type": "code",
   "execution_count": null,
   "metadata": {},
   "outputs": [],
   "source": []
  },
  {
   "cell_type": "code",
   "execution_count": null,
   "metadata": {},
   "outputs": [],
   "source": [
    "for i, data in enumerate (training_folds):\n",
    "    pros_data.write_erisk_original_labels(data[0], data[1],save_dir, \n",
    "                                          file_name=\"fold_\"+str(i)+\"trainig_golden_truth.txt\")"
   ]
  },
  {
   "cell_type": "code",
   "execution_count": null,
   "metadata": {},
   "outputs": [],
   "source": [
    "save_dir=r\"D:\\corpus\\DepresionEriskCollections\\2017\\test\""
   ]
  },
  {
   "cell_type": "code",
   "execution_count": null,
   "metadata": {},
   "outputs": [],
   "source": []
  },
  {
   "cell_type": "code",
   "execution_count": null,
   "metadata": {},
   "outputs": [],
   "source": [
    "for i, data in enumerate (test_folds):\n",
    "    pros_data.write_erisk_original_labels(data[0], data[1],save_dir, \n",
    "                                          file_name=\"fold_\"+str(i)+\"test_golden_truth.txt\")"
   ]
  },
  {
   "cell_type": "markdown",
   "metadata": {},
   "source": [
    "### Documentos de evaluación"
   ]
  },
  {
   "cell_type": "code",
   "execution_count": null,
   "metadata": {},
   "outputs": [],
   "source": [
    "data= Dataset(key=\"erisk18_test\",  doc_len=64, min_len=int(64/2), chunking=True,  remove_end=True)\n",
    "eval_data= data.get_train_test()"
   ]
  },
  {
   "cell_type": "code",
   "execution_count": null,
   "metadata": {},
   "outputs": [],
   "source": [
    "len(eval_data[1][0])"
   ]
  },
  {
   "cell_type": "code",
   "execution_count": null,
   "metadata": {},
   "outputs": [],
   "source": [
    "exp_cls=explore_data(eval_data[1][0],eval_data[1][1],plot_dir=localdir)"
   ]
  },
  {
   "cell_type": "code",
   "execution_count": null,
   "metadata": {},
   "outputs": [],
   "source": [
    "exp_cls.plot_class_distribution()"
   ]
  },
  {
   "cell_type": "code",
   "execution_count": null,
   "metadata": {
    "colab": {},
    "colab_type": "code",
    "id": "0e4xWYSgXIyD"
   },
   "outputs": [],
   "source": []
  }
 ],
 "metadata": {
  "colab": {
   "collapsed_sections": [
    "9KWi3dWTI5iE"
   ],
   "name": "Erisk-overview.ipynb",
   "provenance": []
  },
  "kernelspec": {
   "display_name": "Python 3",
   "language": "python",
   "name": "python3"
  },
  "language_info": {
   "codemirror_mode": {
    "name": "ipython",
    "version": 3
   },
   "file_extension": ".py",
   "mimetype": "text/x-python",
   "name": "python",
   "nbconvert_exporter": "python",
   "pygments_lexer": "ipython3",
   "version": "3.7.6"
  }
 },
 "nbformat": 4,
 "nbformat_minor": 4
}
