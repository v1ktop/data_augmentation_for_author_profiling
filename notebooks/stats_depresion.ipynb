{
 "cells": [
  {
   "cell_type": "markdown",
   "metadata": {
    "colab_type": "text",
    "id": "lh-asPJEI5eK"
   },
   "source": [
    "# Estadisiticas conjunto de depresión"
   ]
  },
  {
   "cell_type": "code",
   "execution_count": 1,
   "metadata": {
    "colab": {
     "base_uri": "https://localhost:8080/",
     "height": 34
    },
    "colab_type": "code",
    "executionInfo": {
     "elapsed": 615,
     "status": "ok",
     "timestamp": 1579215150193,
     "user": {
      "displayName": "Victor Jimenez",
      "photoUrl": "https://lh3.googleusercontent.com/a-/AAuE7mBtFZuLx3oCNyvcXAzWRaAeQKTkCl8vASUiYrpRoA=s64",
      "userId": "04272784867653659299"
     },
     "user_tz": 360
    },
    "id": "CCWrnxI7CYd1",
    "outputId": "33f5bb58-1ad2-4f84-8b24-41f419e6f347"
   },
   "outputs": [],
   "source": [
    "#from google.colab import drive\n",
    "#drive.mount('/content/drive/')"
   ]
  },
  {
   "cell_type": "code",
   "execution_count": 2,
   "metadata": {
    "colab": {},
    "colab_type": "code",
    "id": "NqSCBoBdQQcI"
   },
   "outputs": [],
   "source": [
    "repo_dir=\"D:/v1ktop/Drive/REPOS/augmentation_ap/\"\n",
    "#'/content/drive/My Drive/REPOS/augmentation_ap/'"
   ]
  },
  {
   "cell_type": "code",
   "execution_count": 3,
   "metadata": {},
   "outputs": [],
   "source": [
    " %load_ext autoreload"
   ]
  },
  {
   "cell_type": "code",
   "execution_count": 4,
   "metadata": {},
   "outputs": [],
   "source": [
    " %autoreload 2"
   ]
  },
  {
   "cell_type": "code",
   "execution_count": 5,
   "metadata": {
    "colab": {},
    "colab_type": "code",
    "id": "bmuTm9OEFCsv"
   },
   "outputs": [],
   "source": [
    "import sys\n",
    "sys.path.append(repo_dir)"
   ]
  },
  {
   "cell_type": "code",
   "execution_count": 6,
   "metadata": {
    "colab": {},
    "colab_type": "code",
    "id": "4uUVieztQPwT"
   },
   "outputs": [],
   "source": [
    "from preprocesing.load_datasets import Dataset"
   ]
  },
  {
   "cell_type": "code",
   "execution_count": 7,
   "metadata": {
    "colab": {},
    "colab_type": "code",
    "id": "u1QLl5icQzUh"
   },
   "outputs": [],
   "source": [
    "#localdir=\"/content/drive/My Drive/DATA/erisk/2017/train/\"\n",
    "localdir=\"D:/corpus/DepresionEriskCollections/2017/train/\""
   ]
  },
  {
   "cell_type": "code",
   "execution_count": 8,
   "metadata": {
    "colab": {},
    "colab_type": "code",
    "id": "8oBcwmWAI5eO"
   },
   "outputs": [],
   "source": [
    "folder_name=\"prep_chunks_joined\"\n",
    "truths_name=\"train_golden_truth_joined.txt\"\n",
    "data_key=\"erisk18_dev\""
   ]
  },
  {
   "cell_type": "code",
   "execution_count": 9,
   "metadata": {
    "colab": {},
    "colab_type": "code",
    "id": "49OL3mesI5eQ"
   },
   "outputs": [],
   "source": [
    "data= Dataset(key=data_key,  doc_len=64, min_len=int(64/2), chunking=False,  remove_end=False)"
   ]
  },
  {
   "cell_type": "code",
   "execution_count": 10,
   "metadata": {},
   "outputs": [],
   "source": [
    "training=data.get_dataset(folder_name=folder_name, truth_name=truths_name, \n",
    "                          partition=\"training\")"
   ]
  },
  {
   "cell_type": "code",
   "execution_count": 11,
   "metadata": {},
   "outputs": [
    {
     "data": {
      "text/plain": [
       "4"
      ]
     },
     "execution_count": 11,
     "metadata": {},
     "output_type": "execute_result"
    }
   ],
   "source": [
    "len(training)"
   ]
  },
  {
   "cell_type": "code",
   "execution_count": 12,
   "metadata": {},
   "outputs": [
    {
     "data": {
      "text/plain": [
       "887"
      ]
     },
     "execution_count": 12,
     "metadata": {},
     "output_type": "execute_result"
    }
   ],
   "source": [
    "len(training[0])"
   ]
  },
  {
   "cell_type": "code",
   "execution_count": 13,
   "metadata": {},
   "outputs": [
    {
     "data": {
      "text/plain": [
       "887"
      ]
     },
     "execution_count": 13,
     "metadata": {},
     "output_type": "execute_result"
    }
   ],
   "source": [
    "len(training[1])"
   ]
  },
  {
   "cell_type": "markdown",
   "metadata": {
    "colab_type": "text",
    "id": "aRs5O6OoI5eS"
   },
   "source": [
    "# Corpus Statistics"
   ]
  },
  {
   "cell_type": "code",
   "execution_count": null,
   "metadata": {},
   "outputs": [],
   "source": []
  },
  {
   "cell_type": "markdown",
   "metadata": {
    "colab_type": "text",
    "id": "rTvYjmfEI5eS"
   },
   "source": [
    "### Numero de documentos entrenamiento."
   ]
  },
  {
   "cell_type": "code",
   "execution_count": 14,
   "metadata": {},
   "outputs": [],
   "source": [
    "from classifier.explore_data import explore_data"
   ]
  },
  {
   "cell_type": "code",
   "execution_count": 15,
   "metadata": {},
   "outputs": [],
   "source": [
    "exp_cls=explore_data(training[0],training[1],plot_dir=localdir)"
   ]
  },
  {
   "cell_type": "code",
   "execution_count": 16,
   "metadata": {
    "colab": {
     "base_uri": "https://localhost:8080/",
     "height": 34
    },
    "colab_type": "code",
    "executionInfo": {
     "elapsed": 2146,
     "status": "ok",
     "timestamp": 1579215151784,
     "user": {
      "displayName": "Victor Jimenez",
      "photoUrl": "https://lh3.googleusercontent.com/a-/AAuE7mBtFZuLx3oCNyvcXAzWRaAeQKTkCl8vASUiYrpRoA=s64",
      "userId": "04272784867653659299"
     },
     "user_tz": 360
    },
    "id": "_jn3noTcI5eT",
    "outputId": "795a750e-afd8-40d9-dae8-ba861a7c72f0"
   },
   "outputs": [
    {
     "data": {
      "image/png": "[encoded data removed]",
      "text/plain": [
       "<Figure size 432x288 with 1 Axes>"
      ]
     },
     "metadata": {
      "needs_background": "light"
     },
     "output_type": "display_data"
    }
   ],
   "source": [
    "exp_cls.plot_class_distribution()"
   ]
  },
  {
   "cell_type": "markdown",
   "metadata": {
    "colab_type": "text",
    "id": "rTvYjmfEI5eS"
   },
   "source": [
    "### Numero de sub-documentos entrenamiento."
   ]
  },
  {
   "cell_type": "code",
   "execution_count": 17,
   "metadata": {},
   "outputs": [],
   "source": [
    "data.chunking=True\n",
    "training_chunks=data.get_dataset(folder_name=folder_name, truth_name=truths_name, \n",
    "                          partition=\"training\")"
   ]
  },
  {
   "cell_type": "code",
   "execution_count": 18,
   "metadata": {},
   "outputs": [],
   "source": [
    "exp_cls=explore_data(training_chunks[0],training_chunks[1],plot_dir=localdir)"
   ]
  },
  {
   "cell_type": "code",
   "execution_count": 19,
   "metadata": {
    "colab": {
     "base_uri": "https://localhost:8080/",
     "height": 34
    },
    "colab_type": "code",
    "executionInfo": {
     "elapsed": 2146,
     "status": "ok",
     "timestamp": 1579215151784,
     "user": {
      "displayName": "Victor Jimenez",
      "photoUrl": "https://lh3.googleusercontent.com/a-/AAuE7mBtFZuLx3oCNyvcXAzWRaAeQKTkCl8vASUiYrpRoA=s64",
      "userId": "04272784867653659299"
     },
     "user_tz": 360
    },
    "id": "_jn3noTcI5eT",
    "outputId": "795a750e-afd8-40d9-dae8-ba861a7c72f0"
   },
   "outputs": [
    {
     "data": {
      "image/png": "[encoded data removed]",
      "text/plain": [
       "<Figure size 432x288 with 1 Axes>"
      ]
     },
     "metadata": {
      "needs_background": "light"
     },
     "output_type": "display_data"
    }
   ],
   "source": [
    "exp_cls.plot_class_distribution()"
   ]
  },
  {
   "cell_type": "code",
   "execution_count": null,
   "metadata": {},
   "outputs": [],
   "source": []
  },
  {
   "cell_type": "markdown",
   "metadata": {
    "colab_type": "text",
    "id": "Uyc0uEU4I5eW"
   },
   "source": [
    "## Tamaño del vocabulario"
   ]
  },
  {
   "cell_type": "code",
   "execution_count": 20,
   "metadata": {
    "colab": {
     "base_uri": "https://localhost:8080/",
     "height": 63
    },
    "colab_type": "code",
    "executionInfo": {
     "elapsed": 3488,
     "status": "ok",
     "timestamp": 1579215153137,
     "user": {
      "displayName": "Victor Jimenez",
      "photoUrl": "https://lh3.googleusercontent.com/a-/AAuE7mBtFZuLx3oCNyvcXAzWRaAeQKTkCl8vASUiYrpRoA=s64",
      "userId": "04272784867653659299"
     },
     "user_tz": 360
    },
    "id": "AZAQzcaUI5eW",
    "outputId": "ee903383-5a39-4fa9-b679-849ecd999f57"
   },
   "outputs": [],
   "source": [
    "from classifier.FeactureExtraction import feature_extraction"
   ]
  },
  {
   "cell_type": "code",
   "execution_count": null,
   "metadata": {
    "colab": {},
    "colab_type": "code",
    "id": "dQuQGbyPI5eY"
   },
   "outputs": [],
   "source": [
    "extractor=feature_extraction(docs_train=training[0], method=\"count\")\n",
    "vocab=extractor.cv.vocabulary_"
   ]
  },
  {
   "cell_type": "code",
   "execution_count": null,
   "metadata": {
    "colab": {
     "base_uri": "https://localhost:8080/",
     "height": 34
    },
    "colab_type": "code",
    "executionInfo": {
     "elapsed": 9034,
     "status": "ok",
     "timestamp": 1579215158700,
     "user": {
      "displayName": "Victor Jimenez",
      "photoUrl": "https://lh3.googleusercontent.com/a-/AAuE7mBtFZuLx3oCNyvcXAzWRaAeQKTkCl8vASUiYrpRoA=s64",
      "userId": "04272784867653659299"
     },
     "user_tz": 360
    },
    "id": "RJ3eMiUaI5eb",
    "outputId": "0f672733-770e-4040-f4e4-7ad699fd7f60"
   },
   "outputs": [],
   "source": [
    "len(vocab)"
   ]
  },
  {
   "cell_type": "markdown",
   "metadata": {},
   "source": [
    "## 3-Folds"
   ]
  },
  {
   "cell_type": "code",
   "execution_count": 45,
   "metadata": {},
   "outputs": [],
   "source": [
    "from sklearn.model_selection import StratifiedKFold\n",
    "import numpy as np"
   ]
  },
  {
   "cell_type": "code",
   "execution_count": 72,
   "metadata": {},
   "outputs": [],
   "source": [
    "skf = StratifiedKFold(n_splits=3, random_state=None, shuffle=False)"
   ]
  },
  {
   "cell_type": "code",
   "execution_count": 73,
   "metadata": {},
   "outputs": [],
   "source": [
    "X=np.array(training[2])"
   ]
  },
  {
   "cell_type": "code",
   "execution_count": 74,
   "metadata": {},
   "outputs": [],
   "source": [
    "y=training[1]"
   ]
  },
  {
   "cell_type": "code",
   "execution_count": 75,
   "metadata": {},
   "outputs": [
    {
     "data": {
      "text/plain": [
       "3"
      ]
     },
     "execution_count": 75,
     "metadata": {},
     "output_type": "execute_result"
    }
   ],
   "source": [
    "skf.get_n_splits(X, y)"
   ]
  },
  {
   "cell_type": "code",
   "execution_count": 76,
   "metadata": {},
   "outputs": [
    {
     "name": "stdout",
     "output_type": "stream",
     "text": [
      "StratifiedKFold(n_splits=3, random_state=None, shuffle=False)\n"
     ]
    }
   ],
   "source": [
    "print(skf)"
   ]
  },
  {
   "cell_type": "code",
   "execution_count": 87,
   "metadata": {},
   "outputs": [],
   "source": [
    "training_folds=[]\n",
    "test_folds=[]"
   ]
  },
  {
   "cell_type": "code",
   "execution_count": 88,
   "metadata": {},
   "outputs": [
    {
     "name": "stdout",
     "output_type": "stream",
     "text": [
      "TRAIN: [283 284 285 286 287 288 289 290 291 292 293 294 296 297 298 300 301 302\n",
      " 303 305 306 307 308 310 311 312 313 314 315 316 317 318 319 320 321 322\n",
      " 323 324 325 326 327 328 329 330 332 333 335 338 339 340 341 343 344 345\n",
      " 346 347 348 349 351 352 353 354 355 356 357 359 360 361 362 365 366 367\n",
      " 368 369 370 371 372 373 374 375 376 377 378 379 380 381 382 383 384 385\n",
      " 386 387 388 389 390 391 392 393 394 395 396 397 398 399 400 401 402 403\n",
      " 404 405 406 407 408 409 410 411 412 413 414 415 416 417 418 419 420 421\n",
      " 422 423 424 425 426 427 428 429 430 431 432 433 434 435 436 437 438 439\n",
      " 440 441 442 443 444 445 446 447 448 449 450 451 452 453 454 455 456 457\n",
      " 458 459 460 461 462 463 464 465 466 467 468 469 470 471 472 473 474 475\n",
      " 476 477 478 479 480 481 482 483 484 485 486 487 488 489 490 491 492 493\n",
      " 494 495 496 497 498 499 500 501 502 503 504 505 506 507 508 509 510 511\n",
      " 512 513 514 515 516 517 518 519 520 521 522 523 524 525 526 527 528 529\n",
      " 530 531 532 533 534 535 536 537 538 539 540 541 542 543 544 545 546 547\n",
      " 548 549 550 551 552 553 554 555 556 557 558 559 560 561 562 563 564 565\n",
      " 566 567 568 569 570 571 572 573 574 575 576 577 578 579 580 581 582 583\n",
      " 584 585 586 587 588 589 590 591 592 593 594 595 596 597 598 599 600 601\n",
      " 602 603 604 605 606 607 608 609 610 611 612 613 614 615 616 617 618 619\n",
      " 620 621 622 623 624 625 626 627 628 629 630 631 632 633 634 635 636 637\n",
      " 638 639 640 641 642 643 644 645 646 647 648 649 650 651 652 653 654 655\n",
      " 656 657 658 659 660 661 662 663 664 665 666 667 668 669 670 671 672 673\n",
      " 674 675 676 677 678 679 680 681 682 683 684 685 686 687 688 689 690 691\n",
      " 692 693 694 695 696 697 698 699 700 701 702 703 704 705 706 707 708 709\n",
      " 710 711 712 713 714 715 716 717 718 719 720 721 722 723 724 725 726 727\n",
      " 728 729 730 731 732 733 734 735 736 737 738 739 740 741 742 743 744 745\n",
      " 746 747 748 749 750 751 752 753 754 755 756 757 758 759 760 761 762 763\n",
      " 764 765 766 767 768 769 770 771 772 773 774 775 776 777 778 779 780 781\n",
      " 782 783 784 785 786 787 788 789 790 791 792 793 794 795 796 797 798 799\n",
      " 800 801 802 803 804 805 806 807 808 809 810 811 812 813 814 815 816 817\n",
      " 818 819 820 821 822 823 824 825 826 827 828 829 830 831 832 833 834 835\n",
      " 836 837 838 839 840 841 842 843 844 845 846 847 848 849 850 851 852 853\n",
      " 854 855 856 857 858 859 860 861 862 863 864 865 866 867 868 869 870 871\n",
      " 872 873 874 875 876 877 878 879 880 881 882 883 884 885 886] TEST: [  0   1   2   3   4   5   6   7   8   9  10  11  12  13  14  15  16  17\n",
      "  18  19  20  21  22  23  24  25  26  27  28  29  30  31  32  33  34  35\n",
      "  36  37  38  39  40  41  42  43  44  45  46  47  48  49  50  51  52  53\n",
      "  54  55  56  57  58  59  60  61  62  63  64  65  66  67  68  69  70  71\n",
      "  72  73  74  75  76  77  78  79  80  81  82  83  84  85  86  87  88  89\n",
      "  90  91  92  93  94  95  96  97  98  99 100 101 102 103 104 105 106 107\n",
      " 108 109 110 111 112 113 114 115 116 117 118 119 120 121 122 123 124 125\n",
      " 126 127 128 129 130 131 132 133 134 135 136 137 138 139 140 141 142 143\n",
      " 144 145 146 147 148 149 150 151 152 153 154 155 156 157 158 159 160 161\n",
      " 162 163 164 165 166 167 168 169 170 171 172 173 174 175 176 177 178 179\n",
      " 180 181 182 183 184 185 186 187 188 189 190 191 192 193 194 195 196 197\n",
      " 198 199 200 201 202 203 204 205 206 207 208 209 210 211 212 213 214 215\n",
      " 216 217 218 219 220 221 222 223 224 225 226 227 228 229 230 231 232 233\n",
      " 234 235 236 237 238 239 240 241 242 243 244 245 246 247 248 249 250 251\n",
      " 252 253 254 255 256 257 258 259 260 261 262 263 264 265 266 267 268 269\n",
      " 270 271 272 273 274 275 276 277 278 279 280 281 282 295 299 304 309 331\n",
      " 334 336 337 342 350 358 363 364]\n",
      "TRAIN: [  0   1   2   3   4   5   6   7   8   9  10  11  12  13  14  15  16  17\n",
      "  18  19  20  21  22  23  24  25  26  27  28  29  30  31  32  33  34  35\n",
      "  36  37  38  39  40  41  42  43  44  45  46  47  48  49  50  51  52  53\n",
      "  54  55  56  57  58  59  60  61  62  63  64  65  66  67  68  69  70  71\n",
      "  72  73  74  75  76  77  78  79  80  81  82  83  84  85  86  87  88  89\n",
      "  90  91  92  93  94  95  96  97  98  99 100 101 102 103 104 105 106 107\n",
      " 108 109 110 111 112 113 114 115 116 117 118 119 120 121 122 123 124 125\n",
      " 126 127 128 129 130 131 132 133 134 135 136 137 138 139 140 141 142 143\n",
      " 144 145 146 147 148 149 150 151 152 153 154 155 156 157 158 159 160 161\n",
      " 162 163 164 165 166 167 168 169 170 171 172 173 174 175 176 177 178 179\n",
      " 180 181 182 183 184 185 186 187 188 189 190 191 192 193 194 195 196 197\n",
      " 198 199 200 201 202 203 204 205 206 207 208 209 210 211 212 213 214 215\n",
      " 216 217 218 219 220 221 222 223 224 225 226 227 228 229 230 231 232 233\n",
      " 234 235 236 237 238 239 240 241 242 243 244 245 246 247 248 249 250 251\n",
      " 252 253 254 255 256 257 258 259 260 261 262 263 264 265 266 267 268 269\n",
      " 270 271 272 273 274 275 276 277 278 279 280 281 282 295 299 304 309 331\n",
      " 334 336 337 342 350 358 363 364 592 593 594 595 596 597 598 599 600 601\n",
      " 602 603 604 605 606 607 608 609 610 611 612 613 614 615 616 617 618 619\n",
      " 620 621 622 623 624 625 626 627 628 629 630 631 632 633 634 635 636 637\n",
      " 638 639 640 641 642 643 644 645 646 647 648 649 650 651 652 653 654 655\n",
      " 656 657 658 659 660 661 662 663 664 665 666 667 668 669 670 671 672 673\n",
      " 674 675 676 677 678 679 680 681 682 683 684 685 686 687 688 689 690 691\n",
      " 692 693 694 695 696 697 698 699 700 701 702 703 704 705 706 707 708 709\n",
      " 710 711 712 713 714 715 716 717 718 719 720 721 722 723 724 725 726 727\n",
      " 728 729 730 731 732 733 734 735 736 737 738 739 740 741 742 743 744 745\n",
      " 746 747 748 749 750 751 752 753 754 755 756 757 758 759 760 761 762 763\n",
      " 764 765 766 767 768 769 770 771 772 773 774 775 776 777 778 779 780 781\n",
      " 782 783 784 785 786 787 788 789 790 791 792 793 794 795 796 797 798 799\n",
      " 800 801 802 803 804 805 806 807 808 809 810 811 812 813 814 815 816 817\n",
      " 818 819 820 821 822 823 824 825 826 827 828 829 830 831 832 833 834 835\n",
      " 836 837 838 839 840 841 842 843 844 845 846 847 848 849 850 851 852 853\n",
      " 854 855 856 857 858 859 860 861 862 863 864 865 866 867 868 869 870 871\n",
      " 872 873 874 875 876 877 878 879 880 881 882 883 884 885 886] TEST: [283 284 285 286 287 288 289 290 291 292 293 294 296 297 298 300 301 302\n",
      " 303 305 306 307 308 310 311 312 313 314 315 316 317 318 319 320 321 322\n",
      " 323 324 325 326 327 328 329 330 332 333 335 338 339 340 341 343 344 345\n",
      " 346 347 348 349 351 352 353 354 355 356 357 359 360 361 362 365 366 367\n",
      " 368 369 370 371 372 373 374 375 376 377 378 379 380 381 382 383 384 385\n",
      " 386 387 388 389 390 391 392 393 394 395 396 397 398 399 400 401 402 403\n",
      " 404 405 406 407 408 409 410 411 412 413 414 415 416 417 418 419 420 421\n",
      " 422 423 424 425 426 427 428 429 430 431 432 433 434 435 436 437 438 439\n",
      " 440 441 442 443 444 445 446 447 448 449 450 451 452 453 454 455 456 457\n",
      " 458 459 460 461 462 463 464 465 466 467 468 469 470 471 472 473 474 475\n",
      " 476 477 478 479 480 481 482 483 484 485 486 487 488 489 490 491 492 493\n",
      " 494 495 496 497 498 499 500 501 502 503 504 505 506 507 508 509 510 511\n",
      " 512 513 514 515 516 517 518 519 520 521 522 523 524 525 526 527 528 529\n",
      " 530 531 532 533 534 535 536 537 538 539 540 541 542 543 544 545 546 547\n",
      " 548 549 550 551 552 553 554 555 556 557 558 559 560 561 562 563 564 565\n",
      " 566 567 568 569 570 571 572 573 574 575 576 577 578 579 580 581 582 583\n",
      " 584 585 586 587 588 589 590 591]\n",
      "TRAIN: [  0   1   2   3   4   5   6   7   8   9  10  11  12  13  14  15  16  17\n",
      "  18  19  20  21  22  23  24  25  26  27  28  29  30  31  32  33  34  35\n",
      "  36  37  38  39  40  41  42  43  44  45  46  47  48  49  50  51  52  53\n",
      "  54  55  56  57  58  59  60  61  62  63  64  65  66  67  68  69  70  71\n",
      "  72  73  74  75  76  77  78  79  80  81  82  83  84  85  86  87  88  89\n",
      "  90  91  92  93  94  95  96  97  98  99 100 101 102 103 104 105 106 107\n",
      " 108 109 110 111 112 113 114 115 116 117 118 119 120 121 122 123 124 125\n",
      " 126 127 128 129 130 131 132 133 134 135 136 137 138 139 140 141 142 143\n",
      " 144 145 146 147 148 149 150 151 152 153 154 155 156 157 158 159 160 161\n",
      " 162 163 164 165 166 167 168 169 170 171 172 173 174 175 176 177 178 179\n",
      " 180 181 182 183 184 185 186 187 188 189 190 191 192 193 194 195 196 197\n",
      " 198 199 200 201 202 203 204 205 206 207 208 209 210 211 212 213 214 215\n",
      " 216 217 218 219 220 221 222 223 224 225 226 227 228 229 230 231 232 233\n",
      " 234 235 236 237 238 239 240 241 242 243 244 245 246 247 248 249 250 251\n",
      " 252 253 254 255 256 257 258 259 260 261 262 263 264 265 266 267 268 269\n",
      " 270 271 272 273 274 275 276 277 278 279 280 281 282 283 284 285 286 287\n",
      " 288 289 290 291 292 293 294 295 296 297 298 299 300 301 302 303 304 305\n",
      " 306 307 308 309 310 311 312 313 314 315 316 317 318 319 320 321 322 323\n",
      " 324 325 326 327 328 329 330 331 332 333 334 335 336 337 338 339 340 341\n",
      " 342 343 344 345 346 347 348 349 350 351 352 353 354 355 356 357 358 359\n",
      " 360 361 362 363 364 365 366 367 368 369 370 371 372 373 374 375 376 377\n",
      " 378 379 380 381 382 383 384 385 386 387 388 389 390 391 392 393 394 395\n",
      " 396 397 398 399 400 401 402 403 404 405 406 407 408 409 410 411 412 413\n",
      " 414 415 416 417 418 419 420 421 422 423 424 425 426 427 428 429 430 431\n",
      " 432 433 434 435 436 437 438 439 440 441 442 443 444 445 446 447 448 449\n",
      " 450 451 452 453 454 455 456 457 458 459 460 461 462 463 464 465 466 467\n",
      " 468 469 470 471 472 473 474 475 476 477 478 479 480 481 482 483 484 485\n",
      " 486 487 488 489 490 491 492 493 494 495 496 497 498 499 500 501 502 503\n",
      " 504 505 506 507 508 509 510 511 512 513 514 515 516 517 518 519 520 521\n",
      " 522 523 524 525 526 527 528 529 530 531 532 533 534 535 536 537 538 539\n",
      " 540 541 542 543 544 545 546 547 548 549 550 551 552 553 554 555 556 557\n",
      " 558 559 560 561 562 563 564 565 566 567 568 569 570 571 572 573 574 575\n",
      " 576 577 578 579 580 581 582 583 584 585 586 587 588 589 590 591] TEST: [592 593 594 595 596 597 598 599 600 601 602 603 604 605 606 607 608 609\n",
      " 610 611 612 613 614 615 616 617 618 619 620 621 622 623 624 625 626 627\n",
      " 628 629 630 631 632 633 634 635 636 637 638 639 640 641 642 643 644 645\n",
      " 646 647 648 649 650 651 652 653 654 655 656 657 658 659 660 661 662 663\n",
      " 664 665 666 667 668 669 670 671 672 673 674 675 676 677 678 679 680 681\n",
      " 682 683 684 685 686 687 688 689 690 691 692 693 694 695 696 697 698 699\n",
      " 700 701 702 703 704 705 706 707 708 709 710 711 712 713 714 715 716 717\n",
      " 718 719 720 721 722 723 724 725 726 727 728 729 730 731 732 733 734 735\n",
      " 736 737 738 739 740 741 742 743 744 745 746 747 748 749 750 751 752 753\n",
      " 754 755 756 757 758 759 760 761 762 763 764 765 766 767 768 769 770 771\n",
      " 772 773 774 775 776 777 778 779 780 781 782 783 784 785 786 787 788 789\n",
      " 790 791 792 793 794 795 796 797 798 799 800 801 802 803 804 805 806 807\n",
      " 808 809 810 811 812 813 814 815 816 817 818 819 820 821 822 823 824 825\n",
      " 826 827 828 829 830 831 832 833 834 835 836 837 838 839 840 841 842 843\n",
      " 844 845 846 847 848 849 850 851 852 853 854 855 856 857 858 859 860 861\n",
      " 862 863 864 865 866 867 868 869 870 871 872 873 874 875 876 877 878 879\n",
      " 880 881 882 883 884 885 886]\n"
     ]
    }
   ],
   "source": [
    "for train_index, test_index in skf.split(X, y):\n",
    "    print(\"TRAIN:\", train_index, \"TEST:\", test_index)\n",
    "    X_train, X_test = X[train_index], X[test_index]\n",
    "    y_train, y_test = y[train_index], y[test_index]\n",
    "    \n",
    "    train_fold=X_train, y_train\n",
    "    test_fold=X_test, y_test\n",
    "    \n",
    "    training_folds.append(train_fold)\n",
    "    test_folds.append(test_fold)"
   ]
  },
  {
   "cell_type": "code",
   "execution_count": 91,
   "metadata": {},
   "outputs": [
    {
     "data": {
      "text/plain": [
       "887"
      ]
     },
     "execution_count": 91,
     "metadata": {},
     "output_type": "execute_result"
    }
   ],
   "source": [
    "len(training_folds[0][0])+ len(test_folds[0][0])"
   ]
  },
  {
   "cell_type": "code",
   "execution_count": 92,
   "metadata": {},
   "outputs": [
    {
     "data": {
      "text/plain": [
       "887"
      ]
     },
     "execution_count": 92,
     "metadata": {},
     "output_type": "execute_result"
    }
   ],
   "source": [
    "len(training[0])"
   ]
  },
  {
   "cell_type": "markdown",
   "metadata": {},
   "source": [
    "### Guardar folds"
   ]
  },
  {
   "cell_type": "code",
   "execution_count": 94,
   "metadata": {},
   "outputs": [],
   "source": [
    "from preprocesing import process_data_files as pros_data"
   ]
  },
  {
   "cell_type": "code",
   "execution_count": 99,
   "metadata": {},
   "outputs": [],
   "source": [
    "save_dir=r\"D:\\corpus\\DepresionEriskCollections\\2017\\train\""
   ]
  },
  {
   "cell_type": "code",
   "execution_count": null,
   "metadata": {},
   "outputs": [],
   "source": []
  },
  {
   "cell_type": "code",
   "execution_count": 100,
   "metadata": {},
   "outputs": [],
   "source": [
    "for i, data in enumerate (training_folds):\n",
    "    pros_data.write_erisk_original_labels(data[0], data[1],save_dir, \n",
    "                                          file_name=\"fold_\"+str(i)+\"trainig_golden_truth.txt\")"
   ]
  },
  {
   "cell_type": "code",
   "execution_count": 101,
   "metadata": {},
   "outputs": [],
   "source": [
    "save_dir=r\"D:\\corpus\\DepresionEriskCollections\\2017\\test\""
   ]
  },
  {
   "cell_type": "code",
   "execution_count": null,
   "metadata": {},
   "outputs": [],
   "source": []
  },
  {
   "cell_type": "code",
   "execution_count": 103,
   "metadata": {},
   "outputs": [],
   "source": [
    "for i, data in enumerate (test_folds):\n",
    "    pros_data.write_erisk_original_labels(data[0], data[1],save_dir, \n",
    "                                          file_name=\"fold_\"+str(i)+\"test_golden_truth.txt\")"
   ]
  },
  {
   "cell_type": "markdown",
   "metadata": {},
   "source": [
    "### Documentos de evaluación"
   ]
  },
  {
   "cell_type": "code",
   "execution_count": 33,
   "metadata": {},
   "outputs": [],
   "source": [
    "data= Dataset(key=\"erisk18_test\",  doc_len=64, min_len=int(64/2), chunking=True,  remove_end=True)\n",
    "eval_data= data.get_train_test()"
   ]
  },
  {
   "cell_type": "code",
   "execution_count": 34,
   "metadata": {},
   "outputs": [
    {
     "data": {
      "text/plain": [
       "298670"
      ]
     },
     "execution_count": 34,
     "metadata": {},
     "output_type": "execute_result"
    }
   ],
   "source": [
    "len(eval_data[1][0])"
   ]
  },
  {
   "cell_type": "code",
   "execution_count": 35,
   "metadata": {},
   "outputs": [],
   "source": [
    "exp_cls=explore_data(eval_data[1][0],eval_data[1][1],plot_dir=localdir)"
   ]
  },
  {
   "cell_type": "code",
   "execution_count": 36,
   "metadata": {},
   "outputs": [
    {
     "data": {
      "image/png": "[encoded data removed]",
      "text/plain": [
       "<Figure size 432x288 with 1 Axes>"
      ]
     },
     "metadata": {
      "needs_background": "light"
     },
     "output_type": "display_data"
    }
   ],
   "source": [
    "exp_cls.plot_class_distribution()"
   ]
  },
  {
   "cell_type": "code",
   "execution_count": null,
   "metadata": {
    "colab": {},
    "colab_type": "code",
    "id": "0e4xWYSgXIyD"
   },
   "outputs": [],
   "source": []
  }
 ],
 "metadata": {
  "colab": {
   "collapsed_sections": [
    "9KWi3dWTI5iE"
   ],
   "name": "Erisk-overview.ipynb",
   "provenance": []
  },
  "kernelspec": {
   "display_name": "Python 3",
   "language": "python",
   "name": "python3"
  },
  "language_info": {
   "codemirror_mode": {
    "name": "ipython",
    "version": 3
   },
   "file_extension": ".py",
   "mimetype": "text/x-python",
   "name": "python",
   "nbconvert_exporter": "python",
   "pygments_lexer": "ipython3",
   "version": "3.7.6"
  }
 },
 "nbformat": 4,
 "nbformat_minor": 4
}
