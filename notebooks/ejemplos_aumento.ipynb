{
 "cells": [
  {
   "cell_type": "code",
   "execution_count": 1,
   "metadata": {},
   "outputs": [],
   "source": [
    "repo_dir=\"D:/v1ktop/Drive/REPOS/augmentation_ap/\""
   ]
  },
  {
   "cell_type": "code",
   "execution_count": 2,
   "metadata": {},
   "outputs": [],
   "source": [
    "%load_ext autoreload\n",
    "%autoreload 2"
   ]
  },
  {
   "cell_type": "code",
   "execution_count": 3,
   "metadata": {},
   "outputs": [],
   "source": [
    "import sys\n",
    "sys.path.append(repo_dir)"
   ]
  },
  {
   "cell_type": "code",
   "execution_count": 5,
   "metadata": {},
   "outputs": [],
   "source": [
    "from preprocesing.load_datasets import Dataset\n",
    "from preprocesing import process_data_files\n",
    "from augmentation.syn_rep import SynRep\n",
    "from augmentation.select_candidates import select_docs"
   ]
  },
  {
   "cell_type": "code",
   "execution_count": 7,
   "metadata": {},
   "outputs": [],
   "source": [
    "vocab_dir=\"D:/v1ktop/Drive/REPOS/augmentation_ap/obj/\""
   ]
  },
  {
   "cell_type": "code",
   "execution_count": 8,
   "metadata": {},
   "outputs": [],
   "source": [
    "dataset_key=\"erisk18_dev\""
   ]
  },
  {
   "cell_type": "code",
   "execution_count": 14,
   "metadata": {},
   "outputs": [],
   "source": [
    "analogy_file=\"l11_word_\" + dataset_key"
   ]
  },
  {
   "cell_type": "code",
   "execution_count": 15,
   "metadata": {},
   "outputs": [],
   "source": [
    "syn_augmented = SynRep(glove_file=None, lang=\"en\", replace=\"glove\",\n",
    "                           load_embedding=False, load_obj=True, obj_dir=vocab_dir,\n",
    "                           voc_name=dataset_key, pos_file=\"pos_\" + dataset_key,\n",
    "                       analogy_file=analogy_file)"
   ]
  },
  {
   "cell_type": "code",
   "execution_count": 20,
   "metadata": {},
   "outputs": [
    {
     "data": {
      "text/plain": [
       "'a lot of the time i have trouble communicating why i feel so unhappy'"
      ]
     },
     "execution_count": 20,
     "metadata": {},
     "output_type": "execute_result"
    }
   ],
   "source": [
    "texto_original=\"a lot of the time i have trouble communicating why i feel so unhappy\"\n",
    "texto_original"
   ]
  },
  {
   "cell_type": "markdown",
   "metadata": {},
   "source": [
    "## Sin restricción"
   ]
  },
  {
   "cell_type": "code",
   "execution_count": 23,
   "metadata": {},
   "outputs": [],
   "source": [
    "to_classes=[\"anxious\", \"frustrated\", \"unhappy\", \"despondent\", \"discouraged\"]"
   ]
  },
  {
   "cell_type": "code",
   "execution_count": 24,
   "metadata": {},
   "outputs": [
    {
     "data": {
      "text/plain": [
       "(['a lots of the time i have trouble communicating why i feeling so unhappy',\n",
       "  'a much of the day i have worry communicates why i felt so sad',\n",
       "  'a few of the while i have problem communicated why i want so confused',\n",
       "  'a more of the days i have troubles interacting why i know so fearful',\n",
       "  'a lot of the first i have trouble communicating why i feel so unhappy'],\n",
       " 28)"
      ]
     },
     "execution_count": 24,
     "metadata": {},
     "output_type": "execute_result"
    }
   ],
   "source": [
    "syn_augmented.without_replacement(texto_original.split(\" \"),\n",
    "                                  n_docs=5, from_class=\"depressed\",\n",
    "                                  to_classes=to_classes, \n",
    "                                  p_select=0.2)"
   ]
  },
  {
   "cell_type": "markdown",
   "metadata": {},
   "source": []
  },
  {
   "cell_type": "markdown",
   "metadata": {},
   "source": [
    "## Equivalencia"
   ]
  },
  {
   "cell_type": "code",
   "execution_count": 59,
   "metadata": {},
   "outputs": [],
   "source": [
    "analogy_file=\"l11_word_\" + dataset_key"
   ]
  },
  {
   "cell_type": "code",
   "execution_count": 60,
   "metadata": {},
   "outputs": [],
   "source": [
    "syn_augmented = SynRep(glove_file=None, lang=\"en\", replace=\"relation\",\n",
    "                           load_embedding=False, load_obj=True, obj_dir=vocab_dir,\n",
    "                           voc_name=dataset_key, pos_file=\"pos_\" + dataset_key,\n",
    "                       analogy_file=analogy_file)"
   ]
  },
  {
   "cell_type": "code",
   "execution_count": null,
   "metadata": {},
   "outputs": [],
   "source": []
  },
  {
   "cell_type": "code",
   "execution_count": 61,
   "metadata": {},
   "outputs": [
    {
     "data": {
      "text/plain": [
       "(['a lots of the time i have worry communicating why i feel so unhappy',\n",
       "  'a lot of the time i have trouble communicating why i want so unhappy',\n",
       "  'a much of the place i have troubles informing why i feeling so unfortunate',\n",
       "  'a more of the time i have perplexity communicating why i feel so discontented',\n",
       "  'a lot of the time i have trouble communicating why i felt so unhappy'],\n",
       " 15)"
      ]
     },
     "execution_count": 61,
     "metadata": {},
     "output_type": "execute_result"
    }
   ],
   "source": [
    "syn_augmented.without_replacement(texto_original.split(\" \"),\n",
    "                                  n_docs=5, from_class=\"depressed\",\n",
    "                                  to_classes=to_classes, \n",
    "                                  p_select=0.2)"
   ]
  },
  {
   "cell_type": "code",
   "execution_count": null,
   "metadata": {},
   "outputs": [],
   "source": [
    "(['a plenty of the wait i have troubles informing why i want so eager',\n",
    "  'a lot of the time i have trouble communicated why i feel so unhappy',\n",
    "  'a there of the place i have problems communicates why i wish so unfortunate',\n",
    "  'a lot of the time i have trouble communicating why i feel so discontented',\n",
    "  'a getting of the work i have trouble instructing why i feel so unhappy'],\n",
    " 27)"
   ]
  },
  {
   "cell_type": "markdown",
   "metadata": {},
   "source": [
    "## Con restricción"
   ]
  },
  {
   "cell_type": "code",
   "execution_count": 34,
   "metadata": {},
   "outputs": [],
   "source": [
    "top_words_file=\"top_words\""
   ]
  },
  {
   "cell_type": "code",
   "execution_count": 32,
   "metadata": {},
   "outputs": [],
   "source": [
    "syn_augmented = SynRep(glove_file=None, lang=\"en\", replace=\"glove\",\n",
    "                           load_embedding=False, load_obj=True, obj_dir=vocab_dir,\n",
    "                           voc_name=dataset_key, pos_file=\"pos_\" + dataset_key,\n",
    "                       analogy_file=analogy_file)"
   ]
  },
  {
   "cell_type": "code",
   "execution_count": null,
   "metadata": {},
   "outputs": [],
   "source": []
  },
  {
   "cell_type": "code",
   "execution_count": 35,
   "metadata": {},
   "outputs": [],
   "source": [
    "syn_augmented.load_top_words(top_words_file)"
   ]
  },
  {
   "cell_type": "code",
   "execution_count": 40,
   "metadata": {},
   "outputs": [
    {
     "data": {
      "text/plain": [
       "1071"
      ]
     },
     "execution_count": 40,
     "metadata": {},
     "output_type": "execute_result"
    }
   ],
   "source": [
    "len(syn_augmented.top_words)"
   ]
  },
  {
   "cell_type": "code",
   "execution_count": 41,
   "metadata": {},
   "outputs": [
    {
     "data": {
      "text/plain": [
       "(['a lot of the time i have problems communicates why i feel so unhappy',\n",
       "  'a lot of the time i have problem communicated why i feel so unhappy',\n",
       "  'a lot of the time i have trouble interacting why i feel so unhappy',\n",
       "  'a lot of the time i have getting identifying why i feel so unhappy',\n",
       "  'a lot of the time i have difficulty informing why i feel so unhappy'],\n",
       " 12)"
      ]
     },
     "execution_count": 41,
     "metadata": {},
     "output_type": "execute_result"
    }
   ],
   "source": [
    "syn_augmented.without_replacement(texto_original.split(\" \"),\n",
    "                                  n_docs=5, from_class=\"depressed\",\n",
    "                                  to_classes=to_classes, \n",
    "                                  p_select=0.2)"
   ]
  },
  {
   "cell_type": "markdown",
   "metadata": {},
   "source": [
    "## Thesauro"
   ]
  },
  {
   "cell_type": "code",
   "execution_count": 42,
   "metadata": {},
   "outputs": [],
   "source": [
    "syn_augmented = SynRep(glove_file=None, lang=\"en\", replace=\"wordnet\",\n",
    "                           load_embedding=False, load_obj=False, obj_dir=vocab_dir,\n",
    "                           voc_name=dataset_key, pos_file=\"pos_\" + dataset_key,\n",
    "                       analogy_file=analogy_file)"
   ]
  },
  {
   "cell_type": "code",
   "execution_count": 43,
   "metadata": {},
   "outputs": [
    {
     "data": {
      "text/plain": [
       "(['vitamin a lot of the time i possess trouble communicating why i feel so unhappy',\n",
       "  'a lot of the time i have trouble communicating why i smell so unhappy',\n",
       "  'a lot of the time i hold trouble communicating why i feel thusly infelicitous',\n",
       "  'a wad of the time i birth trouble communicating why i feel so unhappy',\n",
       "  'a lot of the time i have trouble pass why i feel so unhappy'],\n",
       " 10)"
      ]
     },
     "execution_count": 43,
     "metadata": {},
     "output_type": "execute_result"
    }
   ],
   "source": [
    "syn_augmented.random(texto_original.split(\" \"), n_docs=5, p_select=0.5, p_replace=0.5)"
   ]
  },
  {
   "cell_type": "code",
   "execution_count": null,
   "metadata": {},
   "outputs": [],
   "source": []
  },
  {
   "cell_type": "markdown",
   "metadata": {},
   "source": [
    "## Contraria"
   ]
  },
  {
   "cell_type": "code",
   "execution_count": 45,
   "metadata": {},
   "outputs": [],
   "source": [
    "original=\"i connected with a girl we sat up and talked all night\""
   ]
  },
  {
   "cell_type": "code",
   "execution_count": 47,
   "metadata": {},
   "outputs": [],
   "source": [
    "syn_augmented.load_top_words(\"\")"
   ]
  },
  {
   "cell_type": "code",
   "execution_count": 48,
   "metadata": {},
   "outputs": [],
   "source": [
    "analogy_file=\"l0_word_\" + dataset_key"
   ]
  },
  {
   "cell_type": "code",
   "execution_count": 52,
   "metadata": {},
   "outputs": [],
   "source": [
    "syn_augmented = SynRep(glove_file=None, lang=\"en\", replace=\"relation\",\n",
    "                           load_embedding=False, load_obj=True, obj_dir=vocab_dir,\n",
    "                           voc_name=dataset_key, pos_file=\"pos_\" + dataset_key,\n",
    "                       analogy_file=analogy_file)"
   ]
  },
  {
   "cell_type": "code",
   "execution_count": 54,
   "metadata": {},
   "outputs": [],
   "source": [
    "to_classes=[\"anxious\", \"frustrated\", \"unhappy\", \"despondent\", \"discouraged\"]"
   ]
  },
  {
   "cell_type": "code",
   "execution_count": 56,
   "metadata": {},
   "outputs": [
    {
     "data": {
      "text/plain": [
       "(['i disconnected with a girl we sat up and talked all night',\n",
       "  'i connected with a girl we sat up and complained all night',\n",
       "  'i connected with a boy we complained up and talked all night',\n",
       "  'i dispirited with a girl we sat up and talked all night',\n",
       "  'i connected with a shy we dismayed up and bothered all night'],\n",
       " 8)"
      ]
     },
     "execution_count": 56,
     "metadata": {},
     "output_type": "execute_result"
    }
   ],
   "source": [
    "syn_augmented.without_replacement(original.split(\" \"),\n",
    "                                  n_docs=5, from_class=\"happiness\",\n",
    "                                  to_classes=to_classes, \n",
    "                                  p_select=0.5)"
   ]
  },
  {
   "cell_type": "code",
   "execution_count": null,
   "metadata": {},
   "outputs": [],
   "source": []
  }
 ],
 "metadata": {
  "kernelspec": {
   "display_name": "Python 3",
   "language": "python",
   "name": "python3"
  },
  "language_info": {
   "codemirror_mode": {
    "name": "ipython",
    "version": 3
   },
   "file_extension": ".py",
   "mimetype": "text/x-python",
   "name": "python",
   "nbconvert_exporter": "python",
   "pygments_lexer": "ipython3",
   "version": "3.7.6"
  }
 },
 "nbformat": 4,
 "nbformat_minor": 4
}
