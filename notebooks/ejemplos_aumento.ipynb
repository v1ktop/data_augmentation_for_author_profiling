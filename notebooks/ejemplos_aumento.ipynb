{
 "cells": [
  {
   "cell_type": "code",
   "execution_count": 6,
   "metadata": {},
   "outputs": [],
   "source": [
    "repo_dir=\"D:/v1ktop/Drive-INAOE/Code/data_aumentation_for_author_profiling/\""
   ]
  },
  {
   "cell_type": "code",
   "execution_count": 7,
   "metadata": {},
   "outputs": [
    {
     "name": "stdout",
     "output_type": "stream",
     "text": [
      "The autoreload extension is already loaded. To reload it, use:\n",
      "  %reload_ext autoreload\n"
     ]
    }
   ],
   "source": [
    "%load_ext autoreload\n",
    "%autoreload 2"
   ]
  },
  {
   "cell_type": "code",
   "execution_count": 8,
   "metadata": {},
   "outputs": [],
   "source": [
    "import sys\n",
    "sys.path.append(repo_dir)"
   ]
  },
  {
   "cell_type": "code",
   "execution_count": 12,
   "metadata": {},
   "outputs": [],
   "source": [
    "from word_level_da.preprocessing.load_data import Dataset\n",
    "from word_level_da.preprocessing.process_data import ProcessData\n",
    "from word_level_da.augmentation.syn_rep import SynRep\n",
    "from word_level_da.augmentation.select_candidates import select_docs"
   ]
  },
  {
   "cell_type": "code",
   "execution_count": 16,
   "metadata": {},
   "outputs": [],
   "source": [
    "import os"
   ]
  },
  {
   "cell_type": "code",
   "execution_count": 38,
   "metadata": {},
   "outputs": [],
   "source": [
    "vocab_dir=os.path.join(repo_dir,\"word_level_da/obj/\")"
   ]
  },
  {
   "cell_type": "code",
   "execution_count": 39,
   "metadata": {},
   "outputs": [],
   "source": [
    "dataset_key=\"depresion18_local\""
   ]
  },
  {
   "cell_type": "code",
   "execution_count": 40,
   "metadata": {},
   "outputs": [
    {
     "data": {
      "text/plain": [
       "'D:/v1ktop/Drive-INAOE/Code/data_aumentation_for_author_profiling/word_level_da/obj/'"
      ]
     },
     "execution_count": 40,
     "metadata": {},
     "output_type": "execute_result"
    }
   ],
   "source": [
    "vocab_dir"
   ]
  },
  {
   "cell_type": "code",
   "execution_count": 43,
   "metadata": {},
   "outputs": [
    {
     "name": "stdout",
     "output_type": "stream",
     "text": [
      " El volumen de la unidad D es DATA\n",
      " El n£mero de serie del volumen es: D0B7-7D39\n",
      "\n",
      " Directorio de D:\\v1ktop\\Drive-INAOE\\Code\\data_aumentation_for_author_profiling\\word_level_da\\obj\n",
      "\n",
      "20/10/2020  10:36 p. m.    <DIR>          .\n",
      "20/10/2020  10:36 p. m.    <DIR>          ..\n",
      "21/03/2020  12:23 a. m.         6,381,812 anorexia18_local.pkl\n",
      "02/02/2020  06:06 a. m.        40,680,307 depresion18_local.pkl\n",
      "10/08/2020  12:54 p. m.        41,173,632 depresion19_local.pkl\n",
      "23/06/2020  02:49 a. m.         5,324,308 pos_anorexia18_local.pkl\n",
      "14/09/2020  05:29 p. m.           136,408 pos_depresion18_local.pkl\n",
      "10/08/2020  06:44 p. m.         2,493,203 pos_depresion19_local.pkl\n",
      "20/10/2020  02:24 a. m.            31,403 predictions_anorexia18_localcnn.csv\n",
      "17/10/2020  07:43 p. m.            31,612 predictions_depresion18_localcnn.csv\n",
      "16/10/2020  04:09 p. m.            31,530 predictions_depresion18_localrnn-fixed.csv\n",
      "21/10/2020  09:05 a. m.             5,963 predictions_depresion19_localcnn.csv\n",
      "11/08/2020  10:04 p. m.             5,982 predictions_depresion19_localrnn-fixed.csv\n",
      "10/08/2020  06:44 p. m.        63,413,134 r0_depresion19_local.pkl\n",
      "10/08/2020  02:35 p. m.        45,355,654 r1_depresion19_local.pkl\n",
      "20/10/2020  12:13 p. m.            10,610 top_words_anorexia18_local.pkl\n",
      "16/10/2020  12:05 a. m.            11,077 top_words_depresion18_local.pkl\n",
      "20/10/2020  10:36 p. m.            22,301 top_words_depresion19_local.pkl\n",
      "20/10/2020  05:07 p. m.       151,096,094 WE_anorexia18.pkl\n",
      "21/10/2020  02:04 p. m.       282,136,284 WE_depresion18.pkl\n",
      "21/10/2020  12:58 p. m.       160,126,222 WE_depresion19.pkl\n",
      "              19 archivos    798,467,536 bytes\n",
      "               2 dirs  232,892,637,184 bytes libres\n"
     ]
    }
   ],
   "source": [
    "! dir \"D:/v1ktop/Drive-INAOE/Code/data_aumentation_for_author_profiling/word_level_da/obj/\""
   ]
  },
  {
   "cell_type": "code",
   "execution_count": 55,
   "metadata": {},
   "outputs": [],
   "source": [
    "analogy_file=\"r1_depresion19_local\""
   ]
  },
  {
   "cell_type": "code",
   "execution_count": 56,
   "metadata": {},
   "outputs": [],
   "source": [
    "syn_augmented = SynRep(glove_file=None, lang=\"en\", replace=\"glove\",\n",
    "                           load_embedding=False, load_obj=True, obj_dir=vocab_dir,\n",
    "                           voc_name=dataset_key, pos_file=\"pos_\" + dataset_key,\n",
    "                       analogy_file=analogy_file)"
   ]
  },
  {
   "cell_type": "code",
   "execution_count": 57,
   "metadata": {},
   "outputs": [
    {
     "data": {
      "text/plain": [
       "'a lot of the time i have trouble communicating why i feel so unhappy'"
      ]
     },
     "execution_count": 57,
     "metadata": {},
     "output_type": "execute_result"
    }
   ],
   "source": [
    "texto_original=\"a lot of the time i have trouble communicating why i feel so unhappy\"\n",
    "texto_original"
   ]
  },
  {
   "cell_type": "code",
   "execution_count": null,
   "metadata": {},
   "outputs": [],
   "source": []
  },
  {
   "cell_type": "markdown",
   "metadata": {},
   "source": [
    "## Sin restricción"
   ]
  },
  {
   "cell_type": "code",
   "execution_count": 59,
   "metadata": {},
   "outputs": [],
   "source": [
    "to_classes=[\"anxious\", \"frustrated\", \"unhappy\", \"despondent\", \"discouraged\"]"
   ]
  },
  {
   "cell_type": "code",
   "execution_count": 60,
   "metadata": {},
   "outputs": [
    {
     "data": {
      "text/plain": [
       "(['a lots of the it i have problems communicate why i feeling so angry',\n",
       "  'a much of the time i have worry communicates why i feel so sad',\n",
       "  'a there of the while i have problem communicated why i feels so confused',\n",
       "  'a lot of the time i have troubles communicating why i feel so unhappy',\n",
       "  'a few of the time i have trouble interacting why i feel so unhappy'],\n",
       " 21)"
      ]
     },
     "execution_count": 60,
     "metadata": {},
     "output_type": "execute_result"
    }
   ],
   "source": [
    "syn_augmented.without_replacement(texto_original.split(\" \"),\n",
    "                                  n_docs=5, from_class=\"depressed\",\n",
    "                                  to_classes=to_classes, \n",
    "                                  p_select=0.2)"
   ]
  },
  {
   "cell_type": "markdown",
   "metadata": {},
   "source": []
  },
  {
   "cell_type": "markdown",
   "metadata": {},
   "source": [
    "## Equivalencia"
   ]
  },
  {
   "cell_type": "code",
   "execution_count": 61,
   "metadata": {},
   "outputs": [],
   "source": [
    "syn_augmented = SynRep(glove_file=None, lang=\"en\", replace=\"relation\",\n",
    "                           load_embedding=False, load_obj=True, obj_dir=vocab_dir,\n",
    "                           voc_name=dataset_key, pos_file=\"pos_\" + dataset_key,\n",
    "                       analogy_file=analogy_file)"
   ]
  },
  {
   "cell_type": "code",
   "execution_count": 62,
   "metadata": {},
   "outputs": [
    {
     "data": {
      "text/plain": [
       "dict_keys(['depressed-unhappy', 'depressed-sad', 'depressed-despondent', 'depressed-irritable', 'depressed-unmotivated', 'depressed-frustrated', 'depressed-miserable', 'depressed-melancholy', 'depressed-fatigued', 'depressed-disconsolate', 'depressed-anxious', 'depressed-discouraged', 'depressed'])"
      ]
     },
     "execution_count": 62,
     "metadata": {},
     "output_type": "execute_result"
    }
   ],
   "source": [
    "syn_augmented.WORD_TOPIC_TRANSLATION.keys()"
   ]
  },
  {
   "cell_type": "code",
   "execution_count": 85,
   "metadata": {},
   "outputs": [],
   "source": [
    "texto_original=\"oh man this sucks it maybe looks funny from outside but it just looks like hell from here\""
   ]
  },
  {
   "cell_type": "code",
   "execution_count": 89,
   "metadata": {},
   "outputs": [
    {
     "data": {
      "text/plain": [
       "(['oh man this sucks it maybe look funny from outside but it just looked like wait from here',\n",
       "  'oh man this suck it perhaps looks stupid from outside but it just looks like hell from here',\n",
       "  'oh woman this sucks it maybe looking funny from outside but it just looks like hell from here',\n",
       "  'oh man this pisses it though looks humourous from outside but it just dashing like purgatory from here',\n",
       "  'oh god this sucked it anyway seems humorous from outside but it just think like bother from here'],\n",
       " 21)"
      ]
     },
     "execution_count": 89,
     "metadata": {},
     "output_type": "execute_result"
    }
   ],
   "source": [
    "syn_augmented.without_replacement(texto_original.split(\" \"),\n",
    "                                  n_docs=5, from_class=\"depressed\",\n",
    "                                  to_classes=to_classes, \n",
    "                                  p_select=0.2)"
   ]
  },
  {
   "cell_type": "code",
   "execution_count": null,
   "metadata": {},
   "outputs": [],
   "source": [
    "(['a plenty of the wait i have troubles informing why i want so eager',\n",
    "  'a lot of the time i have trouble communicated why i feel so unhappy',\n",
    "  'a there of the place i have problems communicates why i wish so unfortunate',\n",
    "  'a lot of the time i have trouble communicating why i feel so discontented',\n",
    "  'a getting of the work i have trouble instructing why i feel so unhappy'],\n",
    " 27)"
   ]
  },
  {
   "cell_type": "markdown",
   "metadata": {},
   "source": [
    "## Con restricción"
   ]
  },
  {
   "cell_type": "code",
   "execution_count": 34,
   "metadata": {},
   "outputs": [],
   "source": [
    "top_words_file=\"top_words\""
   ]
  },
  {
   "cell_type": "code",
   "execution_count": 32,
   "metadata": {},
   "outputs": [],
   "source": [
    "syn_augmented = SynRep(glove_file=None, lang=\"en\", replace=\"glove\",\n",
    "                           load_embedding=False, load_obj=True, obj_dir=vocab_dir,\n",
    "                           voc_name=dataset_key, pos_file=\"pos_\" + dataset_key,\n",
    "                       analogy_file=analogy_file)"
   ]
  },
  {
   "cell_type": "code",
   "execution_count": null,
   "metadata": {},
   "outputs": [],
   "source": []
  },
  {
   "cell_type": "code",
   "execution_count": 35,
   "metadata": {},
   "outputs": [],
   "source": [
    "syn_augmented.load_top_words(top_words_file)"
   ]
  },
  {
   "cell_type": "code",
   "execution_count": 40,
   "metadata": {},
   "outputs": [
    {
     "data": {
      "text/plain": [
       "1071"
      ]
     },
     "execution_count": 40,
     "metadata": {},
     "output_type": "execute_result"
    }
   ],
   "source": [
    "len(syn_augmented.top_words)"
   ]
  },
  {
   "cell_type": "code",
   "execution_count": 41,
   "metadata": {},
   "outputs": [
    {
     "data": {
      "text/plain": [
       "(['a lot of the time i have problems communicates why i feel so unhappy',\n",
       "  'a lot of the time i have problem communicated why i feel so unhappy',\n",
       "  'a lot of the time i have trouble interacting why i feel so unhappy',\n",
       "  'a lot of the time i have getting identifying why i feel so unhappy',\n",
       "  'a lot of the time i have difficulty informing why i feel so unhappy'],\n",
       " 12)"
      ]
     },
     "execution_count": 41,
     "metadata": {},
     "output_type": "execute_result"
    }
   ],
   "source": [
    "syn_augmented.without_replacement(texto_original.split(\" \"),\n",
    "                                  n_docs=5, from_class=\"depressed\",\n",
    "                                  to_classes=to_classes, \n",
    "                                  p_select=0.2)"
   ]
  },
  {
   "cell_type": "markdown",
   "metadata": {},
   "source": [
    "## Thesauro"
   ]
  },
  {
   "cell_type": "code",
   "execution_count": 42,
   "metadata": {},
   "outputs": [],
   "source": [
    "syn_augmented = SynRep(glove_file=None, lang=\"en\", replace=\"wordnet\",\n",
    "                           load_embedding=False, load_obj=False, obj_dir=vocab_dir,\n",
    "                           voc_name=dataset_key, pos_file=\"pos_\" + dataset_key,\n",
    "                       analogy_file=analogy_file)"
   ]
  },
  {
   "cell_type": "code",
   "execution_count": 43,
   "metadata": {},
   "outputs": [
    {
     "data": {
      "text/plain": [
       "(['vitamin a lot of the time i possess trouble communicating why i feel so unhappy',\n",
       "  'a lot of the time i have trouble communicating why i smell so unhappy',\n",
       "  'a lot of the time i hold trouble communicating why i feel thusly infelicitous',\n",
       "  'a wad of the time i birth trouble communicating why i feel so unhappy',\n",
       "  'a lot of the time i have trouble pass why i feel so unhappy'],\n",
       " 10)"
      ]
     },
     "execution_count": 43,
     "metadata": {},
     "output_type": "execute_result"
    }
   ],
   "source": [
    "syn_augmented.random(texto_original.split(\" \"), n_docs=5, p_select=0.5, p_replace=0.5)"
   ]
  },
  {
   "cell_type": "code",
   "execution_count": null,
   "metadata": {},
   "outputs": [],
   "source": []
  },
  {
   "cell_type": "markdown",
   "metadata": {},
   "source": [
    "## Contraria"
   ]
  },
  {
   "cell_type": "code",
   "execution_count": 45,
   "metadata": {},
   "outputs": [],
   "source": [
    "original=\"i connected with a girl we sat up and talked all night\""
   ]
  },
  {
   "cell_type": "code",
   "execution_count": 47,
   "metadata": {},
   "outputs": [],
   "source": [
    "syn_augmented.load_top_words(\"\")"
   ]
  },
  {
   "cell_type": "code",
   "execution_count": 48,
   "metadata": {},
   "outputs": [],
   "source": [
    "analogy_file=\"l0_word_\" + dataset_key"
   ]
  },
  {
   "cell_type": "code",
   "execution_count": 52,
   "metadata": {},
   "outputs": [],
   "source": [
    "syn_augmented = SynRep(glove_file=None, lang=\"en\", replace=\"relation\",\n",
    "                           load_embedding=False, load_obj=True, obj_dir=vocab_dir,\n",
    "                           voc_name=dataset_key, pos_file=\"pos_\" + dataset_key,\n",
    "                       analogy_file=analogy_file)"
   ]
  },
  {
   "cell_type": "code",
   "execution_count": 54,
   "metadata": {},
   "outputs": [],
   "source": [
    "to_classes=[\"anxious\", \"frustrated\", \"unhappy\", \"despondent\", \"discouraged\"]"
   ]
  },
  {
   "cell_type": "code",
   "execution_count": 56,
   "metadata": {},
   "outputs": [
    {
     "data": {
      "text/plain": [
       "(['i disconnected with a girl we sat up and talked all night',\n",
       "  'i connected with a girl we sat up and complained all night',\n",
       "  'i connected with a boy we complained up and talked all night',\n",
       "  'i dispirited with a girl we sat up and talked all night',\n",
       "  'i connected with a shy we dismayed up and bothered all night'],\n",
       " 8)"
      ]
     },
     "execution_count": 56,
     "metadata": {},
     "output_type": "execute_result"
    }
   ],
   "source": [
    "syn_augmented.without_replacement(original.split(\" \"),\n",
    "                                  n_docs=5, from_class=\"happiness\",\n",
    "                                  to_classes=to_classes, \n",
    "                                  p_select=0.5)"
   ]
  },
  {
   "cell_type": "code",
   "execution_count": null,
   "metadata": {},
   "outputs": [],
   "source": []
  }
 ],
 "metadata": {
  "kernelspec": {
   "display_name": "Python 3",
   "language": "python",
   "name": "python3"
  },
  "language_info": {
   "codemirror_mode": {
    "name": "ipython",
    "version": 3
   },
   "file_extension": ".py",
   "mimetype": "text/x-python",
   "name": "python",
   "nbconvert_exporter": "python",
   "pygments_lexer": "ipython3",
   "version": "3.7.6"
  }
 },
 "nbformat": 4,
 "nbformat_minor": 4
}
