{
 "cells": [
  {
   "cell_type": "code",
   "execution_count": 291,
   "metadata": {
    "colab": {},
    "colab_type": "code",
    "executionInfo": {
     "elapsed": 346,
     "status": "ok",
     "timestamp": 1600369050925,
     "user": {
      "displayName": "Víctor Jiménez Villar",
      "photoUrl": "https://lh3.googleusercontent.com/a-/AOh14GiGf6idc6Zl61Z_kJsNGzq1M9oX-I52mC-soZ1d=s64",
      "userId": "00192359867040618323"
     },
     "user_tz": 300
    },
    "id": "seOME7LjavIt"
   },
   "outputs": [],
   "source": [
    "import sys\n",
    "sys.path.append('D:/v1ktop/Drive-INAOE/Code/data_aumentation_for_author_profiling/')"
   ]
  },
  {
   "cell_type": "code",
   "execution_count": 292,
   "metadata": {
    "colab": {
     "base_uri": "https://localhost:8080/",
     "height": 33
    },
    "colab_type": "code",
    "executionInfo": {
     "elapsed": 20425,
     "status": "ok",
     "timestamp": 1600369390722,
     "user": {
      "displayName": "Víctor Jiménez Villar",
      "photoUrl": "https://lh3.googleusercontent.com/a-/AOh14GiGf6idc6Zl61Z_kJsNGzq1M9oX-I52mC-soZ1d=s64",
      "userId": "00192359867040618323"
     },
     "user_tz": 300
    },
    "id": "1228Ng2xbYr7",
    "outputId": "2550f774-f03c-4960-9cc2-19b05e93c5ac"
   },
   "outputs": [],
   "source": [
    "#from google.colab import drive\n",
    "#drive.mount('/content/drive/')"
   ]
  },
  {
   "cell_type": "code",
   "execution_count": 293,
   "metadata": {
    "colab": {},
    "colab_type": "code",
    "executionInfo": {
     "elapsed": 346,
     "status": "ok",
     "timestamp": 1600369423229,
     "user": {
      "displayName": "Víctor Jiménez Villar",
      "photoUrl": "https://lh3.googleusercontent.com/a-/AOh14GiGf6idc6Zl61Z_kJsNGzq1M9oX-I52mC-soZ1d=s64",
      "userId": "00192359867040618323"
     },
     "user_tz": 300
    },
    "id": "CCWrnxI7CYd1"
   },
   "outputs": [],
   "source": [
    "#import sys\n",
    "#sys.path.append('/content/drive/My Drive/Code/data_aumentation_for_author_profiling/')"
   ]
  },
  {
   "cell_type": "code",
   "execution_count": 294,
   "metadata": {
    "colab": {},
    "colab_type": "code",
    "executionInfo": {
     "elapsed": 5007,
     "status": "ok",
     "timestamp": 1600369433211,
     "user": {
      "displayName": "Víctor Jiménez Villar",
      "photoUrl": "https://lh3.googleusercontent.com/a-/AOh14GiGf6idc6Zl61Z_kJsNGzq1M9oX-I52mC-soZ1d=s64",
      "userId": "00192359867040618323"
     },
     "user_tz": 300
    },
    "id": "ljZ8aR64avIy"
   },
   "outputs": [],
   "source": [
    "from word_level_da.preprocessing.load_data import Dataset"
   ]
  },
  {
   "cell_type": "code",
   "execution_count": 295,
   "metadata": {
    "colab": {},
    "colab_type": "code",
    "executionInfo": {
     "elapsed": 4247,
     "status": "ok",
     "timestamp": 1600369433212,
     "user": {
      "displayName": "Víctor Jiménez Villar",
      "photoUrl": "https://lh3.googleusercontent.com/a-/AOh14GiGf6idc6Zl61Z_kJsNGzq1M9oX-I52mC-soZ1d=s64",
      "userId": "00192359867040618323"
     },
     "user_tz": 300
    },
    "id": "q2yrBq4MavI1"
   },
   "outputs": [
    {
     "name": "stdout",
     "output_type": "stream",
     "text": [
      "The autoreload extension is already loaded. To reload it, use:\n",
      "  %reload_ext autoreload\n"
     ]
    }
   ],
   "source": [
    " %load_ext autoreload"
   ]
  },
  {
   "cell_type": "code",
   "execution_count": 296,
   "metadata": {
    "colab": {},
    "colab_type": "code",
    "executionInfo": {
     "elapsed": 251,
     "status": "ok",
     "timestamp": 1600369437766,
     "user": {
      "displayName": "Víctor Jiménez Villar",
      "photoUrl": "https://lh3.googleusercontent.com/a-/AOh14GiGf6idc6Zl61Z_kJsNGzq1M9oX-I52mC-soZ1d=s64",
      "userId": "00192359867040618323"
     },
     "user_tz": 300
    },
    "id": "zIXvXNTJavI4"
   },
   "outputs": [],
   "source": [
    " %autoreload 2"
   ]
  },
  {
   "cell_type": "code",
   "execution_count": 297,
   "metadata": {
    "colab": {
     "base_uri": "https://localhost:8080/",
     "height": 120
    },
    "colab_type": "code",
    "executionInfo": {
     "elapsed": 4753,
     "status": "ok",
     "timestamp": 1600369483409,
     "user": {
      "displayName": "Víctor Jiménez Villar",
      "photoUrl": "https://lh3.googleusercontent.com/a-/AOh14GiGf6idc6Zl61Z_kJsNGzq1M9oX-I52mC-soZ1d=s64",
      "userId": "00192359867040618323"
     },
     "user_tz": 300
    },
    "id": "a5EAqO8VdBcT",
    "outputId": "0a4fee6e-5915-4341-d6f1-9ea3e643bdde"
   },
   "outputs": [
    {
     "name": "stdout",
     "output_type": "stream",
     "text": [
      "Requirement already satisfied: multidict in c:\\users\\v1kto\\anaconda3\\envs\\tf22\\lib\\site-packages (4.7.6)\n"
     ]
    }
   ],
   "source": [
    "! pip install multidict"
   ]
  },
  {
   "cell_type": "markdown",
   "metadata": {
    "colab_type": "text",
    "id": "ErER5grzavI6"
   },
   "source": [
    "## Explore data"
   ]
  },
  {
   "cell_type": "code",
   "execution_count": 298,
   "metadata": {
    "colab": {},
    "colab_type": "code",
    "executionInfo": {
     "elapsed": 1110,
     "status": "ok",
     "timestamp": 1600369487772,
     "user": {
      "displayName": "Víctor Jiménez Villar",
      "photoUrl": "https://lh3.googleusercontent.com/a-/AOh14GiGf6idc6Zl61Z_kJsNGzq1M9oX-I52mC-soZ1d=s64",
      "userId": "00192359867040618323"
     },
     "user_tz": 300
    },
    "id": "UOJdhyRqavI6"
   },
   "outputs": [],
   "source": [
    "from word_level_da.classifier.explore_data import explore_data\n",
    "from word_level_da.classifier.feature_extraction import FeatureExtraction\n",
    "from word_level_da.classifier.svm_text import Svm_Text"
   ]
  },
  {
   "cell_type": "markdown",
   "metadata": {
    "colab_type": "text",
    "id": "-KnqBIcvdJo1"
   },
   "source": [
    "## Clave del conjunto de datos"
   ]
  },
  {
   "cell_type": "code",
   "execution_count": 299,
   "metadata": {
    "colab": {},
    "colab_type": "code",
    "executionInfo": {
     "elapsed": 250,
     "status": "ok",
     "timestamp": 1600369523954,
     "user": {
      "displayName": "Víctor Jiménez Villar",
      "photoUrl": "https://lh3.googleusercontent.com/a-/AOh14GiGf6idc6Zl61Z_kJsNGzq1M9oX-I52mC-soZ1d=s64",
      "userId": "00192359867040618323"
     },
     "user_tz": 300
    },
    "id": "Ow04k1AnavI8"
   },
   "outputs": [],
   "source": [
    "key=\"depresion18_local\""
   ]
  },
  {
   "cell_type": "code",
   "execution_count": 300,
   "metadata": {
    "colab": {},
    "colab_type": "code",
    "id": "ZYy2ULyNavI_"
   },
   "outputs": [],
   "source": [
    "data_cls=Dataset(key=key, remove_end=True, chunking=True, doc_len=64, min_len=32)"
   ]
  },
  {
   "cell_type": "code",
   "execution_count": 301,
   "metadata": {
    "colab": {},
    "colab_type": "code",
    "id": "frEJOZjjavJB"
   },
   "outputs": [],
   "source": [
    "all_training= data_cls.get_dataset(folder_name=\"prep_chunks_joined\", truth_name=\"train_golden_truth_joined.txt\",\n",
    "                              partition=\"training\")"
   ]
  },
  {
   "cell_type": "code",
   "execution_count": null,
   "metadata": {
    "colab": {},
    "colab_type": "code",
    "id": "QtdMkx_UavJD"
   },
   "outputs": [],
   "source": []
  },
  {
   "cell_type": "code",
   "execution_count": 302,
   "metadata": {
    "colab": {},
    "colab_type": "code",
    "id": "pVNys5dPavJF"
   },
   "outputs": [],
   "source": [
    "exp_cls=explore_data(all_training[0], all_training[1], \"D:/\", plot_format=\"png\")"
   ]
  },
  {
   "cell_type": "code",
   "execution_count": 303,
   "metadata": {
    "colab": {},
    "colab_type": "code",
    "id": "fv3IAp2QavJH",
    "outputId": "96cfca0d-9f20-417b-f650-e80c643320e5"
   },
   "outputs": [
    {
     "data": {
      "image/png": "[encoded data removed]",
      "text/plain": [
       "<Figure size 432x288 with 1 Axes>"
      ]
     },
     "metadata": {
      "needs_background": "light"
     },
     "output_type": "display_data"
    }
   ],
   "source": [
    "exp_cls.plot_class_distribution()"
   ]
  },
  {
   "cell_type": "markdown",
   "metadata": {
    "colab_type": "text",
    "id": "2Gzsh9AFavJM"
   },
   "source": [
    "## Palabras con puntuacion Xi2 < 0.001 (Conjunto original)"
   ]
  },
  {
   "cell_type": "code",
   "execution_count": 304,
   "metadata": {
    "colab": {},
    "colab_type": "code",
    "id": "e-MgRtRUavJN"
   },
   "outputs": [],
   "source": [
    " %autoreload 2"
   ]
  },
  {
   "cell_type": "code",
   "execution_count": 305,
   "metadata": {
    "colab": {},
    "colab_type": "code",
    "id": "VFVzXj3IavJQ"
   },
   "outputs": [],
   "source": [
    "p_confidence=0.001\n",
    "save_words=False\n",
    "K=None"
   ]
  },
  {
   "cell_type": "code",
   "execution_count": 306,
   "metadata": {
    "colab": {},
    "colab_type": "code",
    "id": "OPIgnw8LavJS"
   },
   "outputs": [],
   "source": [
    "obj_dir = r\"D:\\v1ktop\\Drive-INAOE\\Code\\data_aumentation_for_author_profiling\\word_level_da\\obj\""
   ]
  },
  {
   "cell_type": "code",
   "execution_count": 307,
   "metadata": {
    "colab": {},
    "colab_type": "code",
    "id": "g0b4j0gLavJV"
   },
   "outputs": [],
   "source": [
    "ft1 = FeatureExtraction(all_training[0], stop_wors=None, use_idf=True)\n",
    "top_s = ft1.get_chi_2(all_training[1], k=K)"
   ]
  },
  {
   "cell_type": "code",
   "execution_count": 308,
   "metadata": {
    "colab": {},
    "colab_type": "code",
    "id": "ibsR4QmuavJj"
   },
   "outputs": [],
   "source": [
    "top_original=top_s[top_s[\"pval\"]<0.001]"
   ]
  },
  {
   "cell_type": "code",
   "execution_count": 309,
   "metadata": {},
   "outputs": [
    {
     "data": {
      "text/html": [
       "<div>\n",
       "<style scoped>\n",
       "    .dataframe tbody tr th:only-of-type {\n",
       "        vertical-align: middle;\n",
       "    }\n",
       "\n",
       "    .dataframe tbody tr th {\n",
       "        vertical-align: top;\n",
       "    }\n",
       "\n",
       "    .dataframe thead th {\n",
       "        text-align: right;\n",
       "    }\n",
       "</style>\n",
       "<table border=\"1\" class=\"dataframe\">\n",
       "  <thead>\n",
       "    <tr style=\"text-align: right;\">\n",
       "      <th></th>\n",
       "      <th>score</th>\n",
       "      <th>pval</th>\n",
       "    </tr>\n",
       "  </thead>\n",
       "  <tbody>\n",
       "    <tr>\n",
       "      <th>depression</th>\n",
       "      <td>787.990749</td>\n",
       "      <td>0.000000</td>\n",
       "    </tr>\n",
       "    <tr>\n",
       "      <th>my</th>\n",
       "      <td>608.838685</td>\n",
       "      <td>0.000000</td>\n",
       "    </tr>\n",
       "    <tr>\n",
       "      <th>me</th>\n",
       "      <td>437.930654</td>\n",
       "      <td>0.000000</td>\n",
       "    </tr>\n",
       "    <tr>\n",
       "      <th>im</th>\n",
       "      <td>387.013767</td>\n",
       "      <td>0.000000</td>\n",
       "    </tr>\n",
       "    <tr>\n",
       "      <th>anxiety</th>\n",
       "      <td>337.770950</td>\n",
       "      <td>0.000000</td>\n",
       "    </tr>\n",
       "    <tr>\n",
       "      <th>...</th>\n",
       "      <td>...</td>\n",
       "      <td>...</td>\n",
       "    </tr>\n",
       "    <tr>\n",
       "      <th>pudge</th>\n",
       "      <td>10.861150</td>\n",
       "      <td>0.000982</td>\n",
       "    </tr>\n",
       "    <tr>\n",
       "      <th>un</th>\n",
       "      <td>10.860860</td>\n",
       "      <td>0.000982</td>\n",
       "    </tr>\n",
       "    <tr>\n",
       "      <th>story</th>\n",
       "      <td>10.859443</td>\n",
       "      <td>0.000983</td>\n",
       "    </tr>\n",
       "    <tr>\n",
       "      <th>union</th>\n",
       "      <td>10.854125</td>\n",
       "      <td>0.000986</td>\n",
       "    </tr>\n",
       "    <tr>\n",
       "      <th>debate</th>\n",
       "      <td>10.829229</td>\n",
       "      <td>0.000999</td>\n",
       "    </tr>\n",
       "  </tbody>\n",
       "</table>\n",
       "<p>1080 rows × 2 columns</p>\n",
       "</div>"
      ],
      "text/plain": [
       "                 score      pval\n",
       "depression  787.990749  0.000000\n",
       "my          608.838685  0.000000\n",
       "me          437.930654  0.000000\n",
       "im          387.013767  0.000000\n",
       "anxiety     337.770950  0.000000\n",
       "...                ...       ...\n",
       "pudge        10.861150  0.000982\n",
       "un           10.860860  0.000982\n",
       "story        10.859443  0.000983\n",
       "union        10.854125  0.000986\n",
       "debate       10.829229  0.000999\n",
       "\n",
       "[1080 rows x 2 columns]"
      ]
     },
     "execution_count": 309,
     "metadata": {},
     "output_type": "execute_result"
    }
   ],
   "source": [
    "top_original"
   ]
  },
  {
   "cell_type": "markdown",
   "metadata": {},
   "source": [
    "### Promedio del valor Chi cuadrada"
   ]
  },
  {
   "cell_type": "code",
   "execution_count": null,
   "metadata": {},
   "outputs": [],
   "source": []
  },
  {
   "cell_type": "code",
   "execution_count": 310,
   "metadata": {},
   "outputs": [
    {
     "data": {
      "text/plain": [
       "30.993944025925924"
      ]
     },
     "execution_count": 310,
     "metadata": {},
     "output_type": "execute_result"
    }
   ],
   "source": [
    "top_s[top_s[\"pval\"]<0.001][\"score\"].mean()"
   ]
  },
  {
   "cell_type": "code",
   "execution_count": 311,
   "metadata": {
    "colab": {},
    "colab_type": "code",
    "id": "WWZCiWkTavJl"
   },
   "outputs": [
    {
     "data": {
      "text/plain": [
       "45.544709286438966"
      ]
     },
     "execution_count": 311,
     "metadata": {},
     "output_type": "execute_result"
    }
   ],
   "source": [
    "top_s[top_s[\"pval\"]<0.001][\"score\"].std()"
   ]
  },
  {
   "cell_type": "code",
   "execution_count": null,
   "metadata": {},
   "outputs": [],
   "source": []
  },
  {
   "cell_type": "markdown",
   "metadata": {},
   "source": [
    "## Palabras con puntuacion Xi2 < 0.001 (Conjunto filtrado)"
   ]
  },
  {
   "cell_type": "code",
   "execution_count": null,
   "metadata": {},
   "outputs": [],
   "source": []
  },
  {
   "cell_type": "code",
   "execution_count": 312,
   "metadata": {},
   "outputs": [],
   "source": [
    "filtered_data= data_cls.get_dataset(folder_name=\"prep_chunks_filtered\", truth_name=\"golden_truth_filtered.txt\",\n",
    "                              partition=\"training\")"
   ]
  },
  {
   "cell_type": "code",
   "execution_count": 313,
   "metadata": {},
   "outputs": [],
   "source": [
    "exp_cls=explore_data(filtered_data[0], filtered_data[1], \"D:/\", plot_format=\"png\")"
   ]
  },
  {
   "cell_type": "code",
   "execution_count": 314,
   "metadata": {},
   "outputs": [
    {
     "data": {
      "image/png": "[encoded data removed]",
      "text/plain": [
       "<Figure size 432x288 with 1 Axes>"
      ]
     },
     "metadata": {
      "needs_background": "light"
     },
     "output_type": "display_data"
    }
   ],
   "source": [
    "exp_cls.plot_class_distribution()"
   ]
  },
  {
   "cell_type": "code",
   "execution_count": 315,
   "metadata": {},
   "outputs": [],
   "source": [
    "ft1 = FeatureExtraction(filtered_data[0], stop_wors=None, use_idf=True)\n",
    "top_filtered = ft1.get_chi_2(filtered_data[1], k=K)"
   ]
  },
  {
   "cell_type": "markdown",
   "metadata": {},
   "source": [
    "***Solo 401 terminos son significantes despues del filtrado***"
   ]
  },
  {
   "cell_type": "code",
   "execution_count": 316,
   "metadata": {},
   "outputs": [
    {
     "data": {
      "text/html": [
       "<div>\n",
       "<style scoped>\n",
       "    .dataframe tbody tr th:only-of-type {\n",
       "        vertical-align: middle;\n",
       "    }\n",
       "\n",
       "    .dataframe tbody tr th {\n",
       "        vertical-align: top;\n",
       "    }\n",
       "\n",
       "    .dataframe thead th {\n",
       "        text-align: right;\n",
       "    }\n",
       "</style>\n",
       "<table border=\"1\" class=\"dataframe\">\n",
       "  <thead>\n",
       "    <tr style=\"text-align: right;\">\n",
       "      <th></th>\n",
       "      <th>score</th>\n",
       "      <th>pval</th>\n",
       "    </tr>\n",
       "  </thead>\n",
       "  <tbody>\n",
       "    <tr>\n",
       "      <th>depression</th>\n",
       "      <td>406.479297</td>\n",
       "      <td>0.000000</td>\n",
       "    </tr>\n",
       "    <tr>\n",
       "      <th>my</th>\n",
       "      <td>194.734325</td>\n",
       "      <td>0.000000</td>\n",
       "    </tr>\n",
       "    <tr>\n",
       "      <th>anxiety</th>\n",
       "      <td>163.138978</td>\n",
       "      <td>0.000000</td>\n",
       "    </tr>\n",
       "    <tr>\n",
       "      <th>relationship</th>\n",
       "      <td>158.343738</td>\n",
       "      <td>0.000000</td>\n",
       "    </tr>\n",
       "    <tr>\n",
       "      <th>boyfriend</th>\n",
       "      <td>130.309752</td>\n",
       "      <td>0.000000</td>\n",
       "    </tr>\n",
       "    <tr>\n",
       "      <th>...</th>\n",
       "      <td>...</td>\n",
       "      <td>...</td>\n",
       "    </tr>\n",
       "    <tr>\n",
       "      <th>psych</th>\n",
       "      <td>10.859072</td>\n",
       "      <td>0.000983</td>\n",
       "    </tr>\n",
       "    <tr>\n",
       "      <th>national</th>\n",
       "      <td>10.857342</td>\n",
       "      <td>0.000984</td>\n",
       "    </tr>\n",
       "    <tr>\n",
       "      <th>cars</th>\n",
       "      <td>10.854468</td>\n",
       "      <td>0.000986</td>\n",
       "    </tr>\n",
       "    <tr>\n",
       "      <th>moisturized</th>\n",
       "      <td>10.853590</td>\n",
       "      <td>0.000986</td>\n",
       "    </tr>\n",
       "    <tr>\n",
       "      <th>eleaf</th>\n",
       "      <td>10.846848</td>\n",
       "      <td>0.000990</td>\n",
       "    </tr>\n",
       "  </tbody>\n",
       "</table>\n",
       "<p>401 rows × 2 columns</p>\n",
       "</div>"
      ],
      "text/plain": [
       "                   score      pval\n",
       "depression    406.479297  0.000000\n",
       "my            194.734325  0.000000\n",
       "anxiety       163.138978  0.000000\n",
       "relationship  158.343738  0.000000\n",
       "boyfriend     130.309752  0.000000\n",
       "...                  ...       ...\n",
       "psych          10.859072  0.000983\n",
       "national       10.857342  0.000984\n",
       "cars           10.854468  0.000986\n",
       "moisturized    10.853590  0.000986\n",
       "eleaf          10.846848  0.000990\n",
       "\n",
       "[401 rows x 2 columns]"
      ]
     },
     "execution_count": 316,
     "metadata": {},
     "output_type": "execute_result"
    }
   ],
   "source": [
    "top_filtered[top_filtered[\"pval\"]<0.001]"
   ]
  },
  {
   "cell_type": "code",
   "execution_count": null,
   "metadata": {},
   "outputs": [],
   "source": []
  },
  {
   "cell_type": "code",
   "execution_count": 317,
   "metadata": {},
   "outputs": [],
   "source": [
    "top_original_filtered=top_filtered.loc[top_filtered.index.intersection(list(top_original.index))]"
   ]
  },
  {
   "cell_type": "code",
   "execution_count": 318,
   "metadata": {},
   "outputs": [
    {
     "data": {
      "text/html": [
       "<div>\n",
       "<style scoped>\n",
       "    .dataframe tbody tr th:only-of-type {\n",
       "        vertical-align: middle;\n",
       "    }\n",
       "\n",
       "    .dataframe tbody tr th {\n",
       "        vertical-align: top;\n",
       "    }\n",
       "\n",
       "    .dataframe thead th {\n",
       "        text-align: right;\n",
       "    }\n",
       "</style>\n",
       "<table border=\"1\" class=\"dataframe\">\n",
       "  <thead>\n",
       "    <tr style=\"text-align: right;\">\n",
       "      <th></th>\n",
       "      <th>score</th>\n",
       "      <th>pval</th>\n",
       "    </tr>\n",
       "  </thead>\n",
       "  <tbody>\n",
       "    <tr>\n",
       "      <th>depression</th>\n",
       "      <td>406.479297</td>\n",
       "      <td>0.000000</td>\n",
       "    </tr>\n",
       "    <tr>\n",
       "      <th>my</th>\n",
       "      <td>194.734325</td>\n",
       "      <td>0.000000</td>\n",
       "    </tr>\n",
       "    <tr>\n",
       "      <th>anxiety</th>\n",
       "      <td>163.138978</td>\n",
       "      <td>0.000000</td>\n",
       "    </tr>\n",
       "    <tr>\n",
       "      <th>relationship</th>\n",
       "      <td>158.343738</td>\n",
       "      <td>0.000000</td>\n",
       "    </tr>\n",
       "    <tr>\n",
       "      <th>boyfriend</th>\n",
       "      <td>130.309752</td>\n",
       "      <td>0.000000</td>\n",
       "    </tr>\n",
       "    <tr>\n",
       "      <th>...</th>\n",
       "      <td>...</td>\n",
       "      <td>...</td>\n",
       "    </tr>\n",
       "    <tr>\n",
       "      <th>thats</th>\n",
       "      <td>0.030241</td>\n",
       "      <td>0.861944</td>\n",
       "    </tr>\n",
       "    <tr>\n",
       "      <th>some</th>\n",
       "      <td>0.008463</td>\n",
       "      <td>0.926702</td>\n",
       "    </tr>\n",
       "    <tr>\n",
       "      <th>all</th>\n",
       "      <td>0.006698</td>\n",
       "      <td>0.934774</td>\n",
       "    </tr>\n",
       "    <tr>\n",
       "      <th>convergence</th>\n",
       "      <td>0.000598</td>\n",
       "      <td>0.980485</td>\n",
       "    </tr>\n",
       "    <tr>\n",
       "      <th>got</th>\n",
       "      <td>0.000129</td>\n",
       "      <td>0.990937</td>\n",
       "    </tr>\n",
       "  </tbody>\n",
       "</table>\n",
       "<p>1073 rows × 2 columns</p>\n",
       "</div>"
      ],
      "text/plain": [
       "                   score      pval\n",
       "depression    406.479297  0.000000\n",
       "my            194.734325  0.000000\n",
       "anxiety       163.138978  0.000000\n",
       "relationship  158.343738  0.000000\n",
       "boyfriend     130.309752  0.000000\n",
       "...                  ...       ...\n",
       "thats           0.030241  0.861944\n",
       "some            0.008463  0.926702\n",
       "all             0.006698  0.934774\n",
       "convergence     0.000598  0.980485\n",
       "got             0.000129  0.990937\n",
       "\n",
       "[1073 rows x 2 columns]"
      ]
     },
     "execution_count": 318,
     "metadata": {},
     "output_type": "execute_result"
    }
   ],
   "source": [
    "top_original_filtered"
   ]
  },
  {
   "cell_type": "code",
   "execution_count": 319,
   "metadata": {},
   "outputs": [
    {
     "data": {
      "text/plain": [
       "score    19.236595\n",
       "pval      0.000012\n",
       "Name: got, dtype: float64"
      ]
     },
     "execution_count": 319,
     "metadata": {},
     "output_type": "execute_result"
    }
   ],
   "source": [
    "top_original.loc[\"got\"]"
   ]
  },
  {
   "cell_type": "markdown",
   "metadata": {},
   "source": [
    "## Promedio del valor Chi cuadrada (Conjunto filtrado)"
   ]
  },
  {
   "cell_type": "code",
   "execution_count": 320,
   "metadata": {},
   "outputs": [
    {
     "data": {
      "text/plain": [
       "12.96899965330848"
      ]
     },
     "execution_count": 320,
     "metadata": {},
     "output_type": "execute_result"
    }
   ],
   "source": [
    "top_original_filtered.score.mean()"
   ]
  },
  {
   "cell_type": "code",
   "execution_count": 321,
   "metadata": {},
   "outputs": [
    {
     "data": {
      "text/plain": [
       "20.110998195496652"
      ]
     },
     "execution_count": 321,
     "metadata": {},
     "output_type": "execute_result"
    }
   ],
   "source": [
    "top_original_filtered.score.std()"
   ]
  },
  {
   "cell_type": "markdown",
   "metadata": {},
   "source": [
    "## Valores CHi cuadrada para el conjunto aumentado"
   ]
  },
  {
   "cell_type": "code",
   "execution_count": 322,
   "metadata": {},
   "outputs": [],
   "source": [
    "import numpy as np"
   ]
  },
  {
   "cell_type": "code",
   "execution_count": 323,
   "metadata": {},
   "outputs": [],
   "source": [
    "all_scores=[]"
   ]
  },
  {
   "cell_type": "code",
   "execution_count": 324,
   "metadata": {
    "colab": {},
    "colab_type": "code",
    "id": "bFgtaulqavJn"
   },
   "outputs": [],
   "source": [
    "methods=[\"Xi\"]"
   ]
  },
  {
   "cell_type": "code",
   "execution_count": 325,
   "metadata": {
    "colab": {},
    "colab_type": "code",
    "id": "i29Q3WD1avJp"
   },
   "outputs": [],
   "source": [
    "for method in methods:\n",
    "    for i in range (1,11):\n",
    "        prefix = method + str(i)\n",
    "        folder = method + \"/\" + prefix\n",
    "        truth_file = method + \"/\" + prefix + \".txt\"\n",
    "        docs, l_docs, ids, useless_data = data_cls.get_dataset(folder_name=folder, truth_name=truth_file,\n",
    "                                                           partition=\"augmented\")\n",
    "\n",
    "        new_training = np.append(filtered_data[0], docs)\n",
    "        new_labels = np.append(filtered_data[1], l_docs)\n",
    "\n",
    "        ft1 = FeatureExtraction(new_training, stop_wors=None, use_idf=True)\n",
    "        top_sm = ft1.get_chi_2(new_labels, k=K)\n",
    "\n",
    "        all_scores.append(top_sm)"
   ]
  },
  {
   "cell_type": "code",
   "execution_count": 326,
   "metadata": {
    "colab": {},
    "colab_type": "code",
    "id": "z34QHkQ1avJs",
    "outputId": "520ad89e-81ad-4a34-8c9d-b73a16a267c8"
   },
   "outputs": [
    {
     "data": {
      "text/plain": [
       "10"
      ]
     },
     "execution_count": 326,
     "metadata": {},
     "output_type": "execute_result"
    }
   ],
   "source": [
    "len(all_scores)"
   ]
  },
  {
   "cell_type": "code",
   "execution_count": 333,
   "metadata": {
    "colab": {},
    "colab_type": "code",
    "id": "Mi0P0UBlavJu"
   },
   "outputs": [
    {
     "data": {
      "text/html": [
       "<div>\n",
       "<style scoped>\n",
       "    .dataframe tbody tr th:only-of-type {\n",
       "        vertical-align: middle;\n",
       "    }\n",
       "\n",
       "    .dataframe tbody tr th {\n",
       "        vertical-align: top;\n",
       "    }\n",
       "\n",
       "    .dataframe thead th {\n",
       "        text-align: right;\n",
       "    }\n",
       "</style>\n",
       "<table border=\"1\" class=\"dataframe\">\n",
       "  <thead>\n",
       "    <tr style=\"text-align: right;\">\n",
       "      <th></th>\n",
       "      <th>score</th>\n",
       "      <th>pval</th>\n",
       "    </tr>\n",
       "  </thead>\n",
       "  <tbody>\n",
       "    <tr>\n",
       "      <th>depression</th>\n",
       "      <td>413.801609</td>\n",
       "      <td>0.000000</td>\n",
       "    </tr>\n",
       "    <tr>\n",
       "      <th>my</th>\n",
       "      <td>303.800554</td>\n",
       "      <td>0.000000</td>\n",
       "    </tr>\n",
       "    <tr>\n",
       "      <th>anxiety</th>\n",
       "      <td>237.300253</td>\n",
       "      <td>0.000000</td>\n",
       "    </tr>\n",
       "    <tr>\n",
       "      <th>cant</th>\n",
       "      <td>219.683999</td>\n",
       "      <td>0.000000</td>\n",
       "    </tr>\n",
       "    <tr>\n",
       "      <th>me</th>\n",
       "      <td>200.916606</td>\n",
       "      <td>0.000000</td>\n",
       "    </tr>\n",
       "    <tr>\n",
       "      <th>...</th>\n",
       "      <td>...</td>\n",
       "      <td>...</td>\n",
       "    </tr>\n",
       "    <tr>\n",
       "      <th>candidates</th>\n",
       "      <td>10.855297</td>\n",
       "      <td>0.000985</td>\n",
       "    </tr>\n",
       "    <tr>\n",
       "      <th>wasd</th>\n",
       "      <td>10.846726</td>\n",
       "      <td>0.000990</td>\n",
       "    </tr>\n",
       "    <tr>\n",
       "      <th>sgs</th>\n",
       "      <td>10.844637</td>\n",
       "      <td>0.000991</td>\n",
       "    </tr>\n",
       "    <tr>\n",
       "      <th>despised</th>\n",
       "      <td>10.844006</td>\n",
       "      <td>0.000991</td>\n",
       "    </tr>\n",
       "    <tr>\n",
       "      <th>thayers</th>\n",
       "      <td>10.834750</td>\n",
       "      <td>0.000996</td>\n",
       "    </tr>\n",
       "  </tbody>\n",
       "</table>\n",
       "<p>697 rows × 2 columns</p>\n",
       "</div>"
      ],
      "text/plain": [
       "                 score      pval\n",
       "depression  413.801609  0.000000\n",
       "my          303.800554  0.000000\n",
       "anxiety     237.300253  0.000000\n",
       "cant        219.683999  0.000000\n",
       "me          200.916606  0.000000\n",
       "...                ...       ...\n",
       "candidates   10.855297  0.000985\n",
       "wasd         10.846726  0.000990\n",
       "sgs          10.844637  0.000991\n",
       "despised     10.844006  0.000991\n",
       "thayers      10.834750  0.000996\n",
       "\n",
       "[697 rows x 2 columns]"
      ]
     },
     "execution_count": 333,
     "metadata": {},
     "output_type": "execute_result"
    }
   ],
   "source": [
    "all_scores[0][all_scores[0].pval<0.001]"
   ]
  },
  {
   "cell_type": "code",
   "execution_count": 426,
   "metadata": {},
   "outputs": [
    {
     "data": {
      "text/plain": [
       "[26.243400206599713,\n",
       " 27.2238579439834,\n",
       " 27.309940923327893,\n",
       " 27.752807357292397,\n",
       " 28.219102399500628,\n",
       " 28.391284602693606,\n",
       " 28.50018087276443,\n",
       " 28.44492614225942,\n",
       " 28.496351910146174,\n",
       " 28.39136920420301]"
      ]
     },
     "execution_count": 426,
     "metadata": {},
     "output_type": "execute_result"
    }
   ],
   "source": [
    "mean_all_scores"
   ]
  },
  {
   "cell_type": "markdown",
   "metadata": {},
   "source": [
    "### Numero de palabras con p<0.001 para cada aumento n=[1,10]"
   ]
  },
  {
   "cell_type": "code",
   "execution_count": 335,
   "metadata": {
    "colab": {},
    "colab_type": "code",
    "id": "K3ljZUSWavJy"
   },
   "outputs": [],
   "source": [
    "import matplotlib.pyplot as plt"
   ]
  },
  {
   "cell_type": "code",
   "execution_count": 336,
   "metadata": {
    "colab": {},
    "colab_type": "code",
    "id": "X_ccqE9KavJ1"
   },
   "outputs": [],
   "source": [
    "x=[i for i in range(1,11)]"
   ]
  },
  {
   "cell_type": "code",
   "execution_count": 339,
   "metadata": {
    "colab": {},
    "colab_type": "code",
    "id": "cLEpv5QpavJ5",
    "outputId": "f8da9ff2-c947-4d75-fea9-d5c6fcfc2be1"
   },
   "outputs": [],
   "source": [
    "y=[len(score[score.pval<0.001]) for score in all_scores]"
   ]
  },
  {
   "cell_type": "code",
   "execution_count": 340,
   "metadata": {
    "colab": {},
    "colab_type": "code",
    "id": "tt13812YavJ8"
   },
   "outputs": [
    {
     "data": {
      "text/plain": [
       "[697, 964, 1226, 1433, 1602, 1782, 1957, 2151, 2326, 2522]"
      ]
     },
     "execution_count": 340,
     "metadata": {},
     "output_type": "execute_result"
    }
   ],
   "source": [
    "y"
   ]
  },
  {
   "cell_type": "code",
   "execution_count": 341,
   "metadata": {
    "colab": {},
    "colab_type": "code",
    "id": "XRSBMmVCavKA"
   },
   "outputs": [
    {
     "data": {
      "text/plain": [
       "[<matplotlib.lines.Line2D at 0x202a93b4948>]"
      ]
     },
     "execution_count": 341,
     "metadata": {},
     "output_type": "execute_result"
    },
    {
     "data": {
      "image/png": "[encoded data removed]",
      "text/plain": [
       "<Figure size 432x288 with 1 Axes>"
      ]
     },
     "metadata": {
      "needs_background": "light"
     },
     "output_type": "display_data"
    }
   ],
   "source": [
    "plt.plot(x,y)"
   ]
  },
  {
   "cell_type": "markdown",
   "metadata": {},
   "source": [
    "### Puntuación CHi2 promedio en cada aumento n=[1,10] "
   ]
  },
  {
   "cell_type": "code",
   "execution_count": 425,
   "metadata": {},
   "outputs": [],
   "source": [
    "mean_all_scores=[score[score.pval<0.001].score.mean() for score in all_scores]"
   ]
  },
  {
   "cell_type": "code",
   "execution_count": null,
   "metadata": {},
   "outputs": [],
   "source": []
  },
  {
   "cell_type": "code",
   "execution_count": 428,
   "metadata": {},
   "outputs": [
    {
     "data": {
      "text/plain": [
       "[<matplotlib.lines.Line2D at 0x202b4875348>]"
      ]
     },
     "execution_count": 428,
     "metadata": {},
     "output_type": "execute_result"
    },
    {
     "data": {
      "image/png": "[encoded data removed]",
      "text/plain": [
       "<Figure size 432x288 with 1 Axes>"
      ]
     },
     "metadata": {
      "needs_background": "light"
     },
     "output_type": "display_data"
    }
   ],
   "source": [
    "plt.plot(mean_all_scores)"
   ]
  },
  {
   "cell_type": "markdown",
   "metadata": {},
   "source": [
    "### Numero de palabras que se siguen conservando del conjunto original"
   ]
  },
  {
   "cell_type": "code",
   "execution_count": 343,
   "metadata": {
    "colab": {},
    "colab_type": "code",
    "id": "VtFYxZylavKC",
    "outputId": "16e458ff-edc0-4fce-ed1c-e7da6205611f"
   },
   "outputs": [],
   "source": [
    "original_words_scores=[score.loc[score.index.intersection(list(top_original.index))] for score in all_scores]"
   ]
  },
  {
   "cell_type": "code",
   "execution_count": 363,
   "metadata": {},
   "outputs": [
    {
     "data": {
      "text/html": [
       "<div>\n",
       "<style scoped>\n",
       "    .dataframe tbody tr th:only-of-type {\n",
       "        vertical-align: middle;\n",
       "    }\n",
       "\n",
       "    .dataframe tbody tr th {\n",
       "        vertical-align: top;\n",
       "    }\n",
       "\n",
       "    .dataframe thead th {\n",
       "        text-align: right;\n",
       "    }\n",
       "</style>\n",
       "<table border=\"1\" class=\"dataframe\">\n",
       "  <thead>\n",
       "    <tr style=\"text-align: right;\">\n",
       "      <th></th>\n",
       "      <th>score</th>\n",
       "      <th>pval</th>\n",
       "    </tr>\n",
       "  </thead>\n",
       "  <tbody>\n",
       "    <tr>\n",
       "      <th>depression</th>\n",
       "      <td>413.801609</td>\n",
       "      <td>0.000000</td>\n",
       "    </tr>\n",
       "    <tr>\n",
       "      <th>my</th>\n",
       "      <td>303.800554</td>\n",
       "      <td>0.000000</td>\n",
       "    </tr>\n",
       "    <tr>\n",
       "      <th>anxiety</th>\n",
       "      <td>237.300253</td>\n",
       "      <td>0.000000</td>\n",
       "    </tr>\n",
       "    <tr>\n",
       "      <th>cant</th>\n",
       "      <td>219.683999</td>\n",
       "      <td>0.000000</td>\n",
       "    </tr>\n",
       "    <tr>\n",
       "      <th>me</th>\n",
       "      <td>200.916606</td>\n",
       "      <td>0.000000</td>\n",
       "    </tr>\n",
       "    <tr>\n",
       "      <th>...</th>\n",
       "      <td>...</td>\n",
       "      <td>...</td>\n",
       "    </tr>\n",
       "    <tr>\n",
       "      <th>adorable</th>\n",
       "      <td>10.876140</td>\n",
       "      <td>0.000974</td>\n",
       "    </tr>\n",
       "    <tr>\n",
       "      <th>child</th>\n",
       "      <td>10.865931</td>\n",
       "      <td>0.000979</td>\n",
       "    </tr>\n",
       "    <tr>\n",
       "      <th>wasd</th>\n",
       "      <td>10.846726</td>\n",
       "      <td>0.000990</td>\n",
       "    </tr>\n",
       "    <tr>\n",
       "      <th>sgs</th>\n",
       "      <td>10.844637</td>\n",
       "      <td>0.000991</td>\n",
       "    </tr>\n",
       "    <tr>\n",
       "      <th>thayers</th>\n",
       "      <td>10.834750</td>\n",
       "      <td>0.000996</td>\n",
       "    </tr>\n",
       "  </tbody>\n",
       "</table>\n",
       "<p>515 rows × 2 columns</p>\n",
       "</div>"
      ],
      "text/plain": [
       "                 score      pval\n",
       "depression  413.801609  0.000000\n",
       "my          303.800554  0.000000\n",
       "anxiety     237.300253  0.000000\n",
       "cant        219.683999  0.000000\n",
       "me          200.916606  0.000000\n",
       "...                ...       ...\n",
       "adorable     10.876140  0.000974\n",
       "child        10.865931  0.000979\n",
       "wasd         10.846726  0.000990\n",
       "sgs          10.844637  0.000991\n",
       "thayers      10.834750  0.000996\n",
       "\n",
       "[515 rows x 2 columns]"
      ]
     },
     "execution_count": 363,
     "metadata": {},
     "output_type": "execute_result"
    }
   ],
   "source": [
    "original_words_scores[0][original_words_scores[0].pval<0.001]"
   ]
  },
  {
   "cell_type": "code",
   "execution_count": 359,
   "metadata": {},
   "outputs": [],
   "source": [
    "y1=[len(score[score.pval<0.001]) for score in original_words_scores]"
   ]
  },
  {
   "cell_type": "code",
   "execution_count": 360,
   "metadata": {},
   "outputs": [
    {
     "data": {
      "text/plain": [
       "[515, 568, 590, 603, 623, 624, 637, 642, 646, 653]"
      ]
     },
     "execution_count": 360,
     "metadata": {},
     "output_type": "execute_result"
    }
   ],
   "source": [
    "y1"
   ]
  },
  {
   "cell_type": "code",
   "execution_count": 362,
   "metadata": {},
   "outputs": [
    {
     "data": {
      "text/plain": [
       "[<matplotlib.lines.Line2D at 0x2029c2ea088>]"
      ]
     },
     "execution_count": 362,
     "metadata": {},
     "output_type": "execute_result"
    },
    {
     "data": {
      "image/png": "[encoded data removed]",
      "text/plain": [
       "<Figure size 432x288 with 1 Axes>"
      ]
     },
     "metadata": {
      "needs_background": "light"
     },
     "output_type": "display_data"
    }
   ],
   "source": [
    "plt.plot(x,y1)"
   ]
  },
  {
   "cell_type": "markdown",
   "metadata": {},
   "source": [
    "***Variacion promedio de los valores de chi cuadrada en cada aumento***"
   ]
  },
  {
   "cell_type": "code",
   "execution_count": 396,
   "metadata": {},
   "outputs": [],
   "source": [
    "mean_scores=[values.score.mean() for values in original_words_scores]"
   ]
  },
  {
   "cell_type": "code",
   "execution_count": 397,
   "metadata": {},
   "outputs": [
    {
     "data": {
      "text/plain": [
       "[17.24742845666356,\n",
       " 20.554960505125816,\n",
       " 23.106998956197582,\n",
       " 25.214427145386768,\n",
       " 26.958931720410064,\n",
       " 28.519221370922647,\n",
       " 29.906375130475304,\n",
       " 31.129446220876044,\n",
       " 32.31616947903075,\n",
       " 33.36925272879776]"
      ]
     },
     "execution_count": 397,
     "metadata": {},
     "output_type": "execute_result"
    }
   ],
   "source": [
    "mean_scores"
   ]
  },
  {
   "cell_type": "code",
   "execution_count": 407,
   "metadata": {},
   "outputs": [],
   "source": [
    "no_aumento=[top_original_filtered.score.mean()]*10"
   ]
  },
  {
   "cell_type": "code",
   "execution_count": 408,
   "metadata": {},
   "outputs": [
    {
     "data": {
      "text/plain": [
       "[12.96899965330848,\n",
       " 12.96899965330848,\n",
       " 12.96899965330848,\n",
       " 12.96899965330848,\n",
       " 12.96899965330848,\n",
       " 12.96899965330848,\n",
       " 12.96899965330848,\n",
       " 12.96899965330848,\n",
       " 12.96899965330848,\n",
       " 12.96899965330848]"
      ]
     },
     "execution_count": 408,
     "metadata": {},
     "output_type": "execute_result"
    }
   ],
   "source": [
    "no_aumento"
   ]
  },
  {
   "cell_type": "code",
   "execution_count": 410,
   "metadata": {},
   "outputs": [
    {
     "data": {
      "text/plain": [
       "<matplotlib.legend.Legend at 0x202b04210c8>"
      ]
     },
     "execution_count": 410,
     "metadata": {},
     "output_type": "execute_result"
    },
    {
     "data": {
      "image/png": "[encoded data removed]",
      "text/plain": [
       "<Figure size 432x288 with 1 Axes>"
      ]
     },
     "metadata": {
      "needs_background": "light"
     },
     "output_type": "display_data"
    }
   ],
   "source": [
    "plt.plot(mean_scores)\n",
    "plt.plot(no_aumento)\n",
    "plt.legend([\"Aumento Xi2\", \"Sin aumento\"])"
   ]
  },
  {
   "cell_type": "markdown",
   "metadata": {},
   "source": [
    "***Variacion promedio de los valores p en cada aumento***"
   ]
  },
  {
   "cell_type": "code",
   "execution_count": 403,
   "metadata": {},
   "outputs": [],
   "source": [
    "\n",
    "mean_pvalues=[values.pval.mean() for values in original_words_scores]"
   ]
  },
  {
   "cell_type": "code",
   "execution_count": null,
   "metadata": {},
   "outputs": [],
   "source": []
  },
  {
   "cell_type": "code",
   "execution_count": 404,
   "metadata": {},
   "outputs": [
    {
     "data": {
      "text/plain": [
       "[0.03172721296365331,\n",
       " 0.02856742948741845,\n",
       " 0.026551910037278657,\n",
       " 0.02527524041006524,\n",
       " 0.024252998881640262,\n",
       " 0.02316058234855545,\n",
       " 0.022843842945013976,\n",
       " 0.022529993783783786,\n",
       " 0.022303132562907738,\n",
       " 0.02244181662628145]"
      ]
     },
     "execution_count": 404,
     "metadata": {},
     "output_type": "execute_result"
    }
   ],
   "source": [
    "mean_pvalues"
   ]
  },
  {
   "cell_type": "code",
   "execution_count": 411,
   "metadata": {},
   "outputs": [],
   "source": [
    "no_aumento2=[top_original_filtered.pval.mean()]*10"
   ]
  },
  {
   "cell_type": "code",
   "execution_count": 413,
   "metadata": {},
   "outputs": [
    {
     "data": {
      "text/plain": [
       "<matplotlib.legend.Legend at 0x202b310a808>"
      ]
     },
     "execution_count": 413,
     "metadata": {},
     "output_type": "execute_result"
    },
    {
     "data": {
      "image/png": "[encoded data removed]",
      "text/plain": [
       "<Figure size 432x288 with 1 Axes>"
      ]
     },
     "metadata": {
      "needs_background": "light"
     },
     "output_type": "display_data"
    }
   ],
   "source": [
    "plt.plot(mean_pvalues)\n",
    "plt.plot(no_aumento2)\n",
    "plt.legend([\"Aumento Xi2\", \"Sin aumento\"])"
   ]
  },
  {
   "cell_type": "markdown",
   "metadata": {},
   "source": [
    "***Podria decirse que la probabilidad de los terminos originales apartir de 5 no cambia***"
   ]
  },
  {
   "cell_type": "code",
   "execution_count": null,
   "metadata": {},
   "outputs": [],
   "source": []
  }
 ],
 "metadata": {
  "colab": {
   "name": "chi_cuadrada_analisis.ipynb",
   "provenance": []
  },
  "kernelspec": {
   "display_name": "Python 3",
   "language": "python",
   "name": "python3"
  },
  "language_info": {
   "codemirror_mode": {
    "name": "ipython",
    "version": 3
   },
   "file_extension": ".py",
   "mimetype": "text/x-python",
   "name": "python",
   "nbconvert_exporter": "python",
   "pygments_lexer": "ipython3",
   "version": "3.7.6"
  }
 },
 "nbformat": 4,
 "nbformat_minor": 4
}
