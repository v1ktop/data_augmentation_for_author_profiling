{
 "cells": [
  {
   "cell_type": "code",
   "execution_count": 1,
   "metadata": {
    "colab": {},
    "colab_type": "code",
    "executionInfo": {
     "elapsed": 441,
     "status": "ok",
     "timestamp": 1600481475467,
     "user": {
      "displayName": "Víctor Jiménez Villar",
      "photoUrl": "https://lh3.googleusercontent.com/a-/AOh14GiGf6idc6Zl61Z_kJsNGzq1M9oX-I52mC-soZ1d=s64",
      "userId": "00192359867040618323"
     },
     "user_tz": 300
    },
    "id": "seOME7LjavIt"
   },
   "outputs": [],
   "source": [
    "import sys\n",
    "sys.path.append('D:/v1ktop/Drive-INAOE/Code/data_aumentation_for_author_profiling/')"
   ]
  },
  {
   "cell_type": "code",
   "execution_count": 2,
   "metadata": {
    "colab": {
     "base_uri": "https://localhost:8080/",
     "height": 33
    },
    "colab_type": "code",
    "executionInfo": {
     "elapsed": 429,
     "status": "ok",
     "timestamp": 1600481475468,
     "user": {
      "displayName": "Víctor Jiménez Villar",
      "photoUrl": "https://lh3.googleusercontent.com/a-/AOh14GiGf6idc6Zl61Z_kJsNGzq1M9oX-I52mC-soZ1d=s64",
      "userId": "00192359867040618323"
     },
     "user_tz": 300
    },
    "id": "1228Ng2xbYr7",
    "outputId": "7ef330bc-f672-41fc-9922-2d14d15f1c20"
   },
   "outputs": [],
   "source": [
    "#from google.colab import drive\n",
    "#drive.mount('/content/drive/')"
   ]
  },
  {
   "cell_type": "code",
   "execution_count": 3,
   "metadata": {
    "colab": {},
    "colab_type": "code",
    "executionInfo": {
     "elapsed": 592,
     "status": "ok",
     "timestamp": 1600481475651,
     "user": {
      "displayName": "Víctor Jiménez Villar",
      "photoUrl": "https://lh3.googleusercontent.com/a-/AOh14GiGf6idc6Zl61Z_kJsNGzq1M9oX-I52mC-soZ1d=s64",
      "userId": "00192359867040618323"
     },
     "user_tz": 300
    },
    "id": "ljZ8aR64avIy"
   },
   "outputs": [],
   "source": [
    "from word_level_da.preprocessing.load_data import Dataset"
   ]
  },
  {
   "cell_type": "code",
   "execution_count": 4,
   "metadata": {
    "colab": {
     "base_uri": "https://localhost:8080/",
     "height": 50
    },
    "colab_type": "code",
    "executionInfo": {
     "elapsed": 586,
     "status": "ok",
     "timestamp": 1600481475653,
     "user": {
      "displayName": "Víctor Jiménez Villar",
      "photoUrl": "https://lh3.googleusercontent.com/a-/AOh14GiGf6idc6Zl61Z_kJsNGzq1M9oX-I52mC-soZ1d=s64",
      "userId": "00192359867040618323"
     },
     "user_tz": 300
    },
    "id": "q2yrBq4MavI1",
    "outputId": "0b38af0c-a5ca-4d44-af31-f2110fe41402"
   },
   "outputs": [],
   "source": [
    " %load_ext autoreload"
   ]
  },
  {
   "cell_type": "code",
   "execution_count": 5,
   "metadata": {
    "colab": {},
    "colab_type": "code",
    "executionInfo": {
     "elapsed": 580,
     "status": "ok",
     "timestamp": 1600481475655,
     "user": {
      "displayName": "Víctor Jiménez Villar",
      "photoUrl": "https://lh3.googleusercontent.com/a-/AOh14GiGf6idc6Zl61Z_kJsNGzq1M9oX-I52mC-soZ1d=s64",
      "userId": "00192359867040618323"
     },
     "user_tz": 300
    },
    "id": "zIXvXNTJavI4"
   },
   "outputs": [],
   "source": [
    " %autoreload 2"
   ]
  },
  {
   "cell_type": "code",
   "execution_count": 6,
   "metadata": {
    "colab": {
     "base_uri": "https://localhost:8080/",
     "height": 33
    },
    "colab_type": "code",
    "executionInfo": {
     "elapsed": 2978,
     "status": "ok",
     "timestamp": 1600481478061,
     "user": {
      "displayName": "Víctor Jiménez Villar",
      "photoUrl": "https://lh3.googleusercontent.com/a-/AOh14GiGf6idc6Zl61Z_kJsNGzq1M9oX-I52mC-soZ1d=s64",
      "userId": "00192359867040618323"
     },
     "user_tz": 300
    },
    "id": "a5EAqO8VdBcT",
    "outputId": "a7faae92-2225-48a5-bdd0-0b30d6b06c11"
   },
   "outputs": [
    {
     "name": "stdout",
     "output_type": "stream",
     "text": [
      "Requirement already satisfied: multidict in c:\\users\\v1kto\\anaconda3\\envs\\tf22\\lib\\site-packages (4.7.6)\n"
     ]
    }
   ],
   "source": [
    "! pip install multidict"
   ]
  },
  {
   "cell_type": "markdown",
   "metadata": {
    "colab_type": "text",
    "id": "ErER5grzavI6"
   },
   "source": [
    "## Explore data"
   ]
  },
  {
   "cell_type": "code",
   "execution_count": 7,
   "metadata": {
    "colab": {},
    "colab_type": "code",
    "executionInfo": {
     "elapsed": 2968,
     "status": "ok",
     "timestamp": 1600481478061,
     "user": {
      "displayName": "Víctor Jiménez Villar",
      "photoUrl": "https://lh3.googleusercontent.com/a-/AOh14GiGf6idc6Zl61Z_kJsNGzq1M9oX-I52mC-soZ1d=s64",
      "userId": "00192359867040618323"
     },
     "user_tz": 300
    },
    "id": "UOJdhyRqavI6"
   },
   "outputs": [],
   "source": [
    "from word_level_da.classifier.explore_data import explore_data\n",
    "from word_level_da.classifier.feature_extraction import FeatureExtraction\n",
    "from word_level_da.classifier.svm_text import Svm_Text"
   ]
  },
  {
   "cell_type": "markdown",
   "metadata": {
    "colab_type": "text",
    "id": "-KnqBIcvdJo1"
   },
   "source": [
    "## Clave del conjunto de datos"
   ]
  },
  {
   "cell_type": "code",
   "execution_count": 11,
   "metadata": {
    "colab": {},
    "colab_type": "code",
    "executionInfo": {
     "elapsed": 721,
     "status": "ok",
     "timestamp": 1600481479775,
     "user": {
      "displayName": "Víctor Jiménez Villar",
      "photoUrl": "https://lh3.googleusercontent.com/a-/AOh14GiGf6idc6Zl61Z_kJsNGzq1M9oX-I52mC-soZ1d=s64",
      "userId": "00192359867040618323"
     },
     "user_tz": 300
    },
    "id": "Ow04k1AnavI8"
   },
   "outputs": [],
   "source": [
    "key=\"depresion18_local\""
   ]
  },
  {
   "cell_type": "code",
   "execution_count": 12,
   "metadata": {
    "colab": {},
    "colab_type": "code",
    "executionInfo": {
     "elapsed": 1135,
     "status": "ok",
     "timestamp": 1600481480197,
     "user": {
      "displayName": "Víctor Jiménez Villar",
      "photoUrl": "https://lh3.googleusercontent.com/a-/AOh14GiGf6idc6Zl61Z_kJsNGzq1M9oX-I52mC-soZ1d=s64",
      "userId": "00192359867040618323"
     },
     "user_tz": 300
    },
    "id": "ZYy2ULyNavI_"
   },
   "outputs": [],
   "source": [
    "data_cls=Dataset(key=key, remove_end=True, chunking=True, doc_len=64, min_len=32)"
   ]
  },
  {
   "cell_type": "code",
   "execution_count": 13,
   "metadata": {
    "colab": {},
    "colab_type": "code",
    "executionInfo": {
     "elapsed": 194552,
     "status": "ok",
     "timestamp": 1600481673629,
     "user": {
      "displayName": "Víctor Jiménez Villar",
      "photoUrl": "https://lh3.googleusercontent.com/a-/AOh14GiGf6idc6Zl61Z_kJsNGzq1M9oX-I52mC-soZ1d=s64",
      "userId": "00192359867040618323"
     },
     "user_tz": 300
    },
    "id": "frEJOZjjavJB"
   },
   "outputs": [],
   "source": [
    "all_training= data_cls.get_dataset(folder_name=\"prep_chunks_joined\", truth_name=\"train_golden_truth_joined.txt\",\n",
    "                              partition=\"training\")"
   ]
  },
  {
   "cell_type": "code",
   "execution_count": null,
   "metadata": {
    "colab": {},
    "colab_type": "code",
    "executionInfo": {
     "elapsed": 194548,
     "status": "ok",
     "timestamp": 1600481673635,
     "user": {
      "displayName": "Víctor Jiménez Villar",
      "photoUrl": "https://lh3.googleusercontent.com/a-/AOh14GiGf6idc6Zl61Z_kJsNGzq1M9oX-I52mC-soZ1d=s64",
      "userId": "00192359867040618323"
     },
     "user_tz": 300
    },
    "id": "QtdMkx_UavJD"
   },
   "outputs": [],
   "source": []
  },
  {
   "cell_type": "code",
   "execution_count": 14,
   "metadata": {
    "colab": {},
    "colab_type": "code",
    "executionInfo": {
     "elapsed": 360,
     "status": "ok",
     "timestamp": 1600481724238,
     "user": {
      "displayName": "Víctor Jiménez Villar",
      "photoUrl": "https://lh3.googleusercontent.com/a-/AOh14GiGf6idc6Zl61Z_kJsNGzq1M9oX-I52mC-soZ1d=s64",
      "userId": "00192359867040618323"
     },
     "user_tz": 300
    },
    "id": "pVNys5dPavJF"
   },
   "outputs": [],
   "source": [
    "exp_cls=explore_data(all_training[0], all_training[1], \"/\", plot_format=\"png\")"
   ]
  },
  {
   "cell_type": "code",
   "execution_count": 15,
   "metadata": {
    "colab": {
     "base_uri": "https://localhost:8080/",
     "height": 282
    },
    "colab_type": "code",
    "executionInfo": {
     "elapsed": 816,
     "status": "ok",
     "timestamp": 1600481737239,
     "user": {
      "displayName": "Víctor Jiménez Villar",
      "photoUrl": "https://lh3.googleusercontent.com/a-/AOh14GiGf6idc6Zl61Z_kJsNGzq1M9oX-I52mC-soZ1d=s64",
      "userId": "00192359867040618323"
     },
     "user_tz": 300
    },
    "id": "fv3IAp2QavJH",
    "outputId": "eacde19f-4c47-4207-c4a8-f74de7e316e0"
   },
   "outputs": [
    {
     "data": {
      "image/png": "[encoded data removed]",
      "text/plain": [
       "<Figure size 432x288 with 1 Axes>"
      ]
     },
     "metadata": {
      "needs_background": "light"
     },
     "output_type": "display_data"
    }
   ],
   "source": [
    "exp_cls.plot_class_distribution()"
   ]
  },
  {
   "cell_type": "markdown",
   "metadata": {
    "colab_type": "text",
    "id": "2Gzsh9AFavJM"
   },
   "source": [
    "## Palabras con puntuacion Xi2 < 0.001 (Conjunto original)"
   ]
  },
  {
   "cell_type": "code",
   "execution_count": 16,
   "metadata": {
    "colab": {},
    "colab_type": "code",
    "executionInfo": {
     "elapsed": 991,
     "status": "ok",
     "timestamp": 1600481737426,
     "user": {
      "displayName": "Víctor Jiménez Villar",
      "photoUrl": "https://lh3.googleusercontent.com/a-/AOh14GiGf6idc6Zl61Z_kJsNGzq1M9oX-I52mC-soZ1d=s64",
      "userId": "00192359867040618323"
     },
     "user_tz": 300
    },
    "id": "e-MgRtRUavJN"
   },
   "outputs": [],
   "source": [
    " %autoreload 2"
   ]
  },
  {
   "cell_type": "code",
   "execution_count": 17,
   "metadata": {
    "colab": {},
    "colab_type": "code",
    "executionInfo": {
     "elapsed": 1130,
     "status": "ok",
     "timestamp": 1600481737574,
     "user": {
      "displayName": "Víctor Jiménez Villar",
      "photoUrl": "https://lh3.googleusercontent.com/a-/AOh14GiGf6idc6Zl61Z_kJsNGzq1M9oX-I52mC-soZ1d=s64",
      "userId": "00192359867040618323"
     },
     "user_tz": 300
    },
    "id": "VFVzXj3IavJQ"
   },
   "outputs": [],
   "source": [
    "p_confidence=0.001\n",
    "save_words=False\n",
    "K=None"
   ]
  },
  {
   "cell_type": "code",
   "execution_count": 18,
   "metadata": {
    "colab": {},
    "colab_type": "code",
    "executionInfo": {
     "elapsed": 1121,
     "status": "ok",
     "timestamp": 1600481737574,
     "user": {
      "displayName": "Víctor Jiménez Villar",
      "photoUrl": "https://lh3.googleusercontent.com/a-/AOh14GiGf6idc6Zl61Z_kJsNGzq1M9oX-I52mC-soZ1d=s64",
      "userId": "00192359867040618323"
     },
     "user_tz": 300
    },
    "id": "OPIgnw8LavJS"
   },
   "outputs": [],
   "source": [
    "obj_dir = r\"D:\\v1ktop\\Drive-INAOE\\Code\\data_aumentation_for_author_profiling\\word_level_da\\obj\""
   ]
  },
  {
   "cell_type": "code",
   "execution_count": 19,
   "metadata": {
    "colab": {},
    "colab_type": "code",
    "executionInfo": {
     "elapsed": 27872,
     "status": "ok",
     "timestamp": 1600481764332,
     "user": {
      "displayName": "Víctor Jiménez Villar",
      "photoUrl": "https://lh3.googleusercontent.com/a-/AOh14GiGf6idc6Zl61Z_kJsNGzq1M9oX-I52mC-soZ1d=s64",
      "userId": "00192359867040618323"
     },
     "user_tz": 300
    },
    "id": "g0b4j0gLavJV"
   },
   "outputs": [],
   "source": [
    "ft1 = FeatureExtraction(all_training[0], stop_wors=None, use_idf=True)\n",
    "top_s = ft1.get_chi_2(all_training[1], k=K)"
   ]
  },
  {
   "cell_type": "code",
   "execution_count": 20,
   "metadata": {
    "colab": {},
    "colab_type": "code",
    "executionInfo": {
     "elapsed": 27865,
     "status": "ok",
     "timestamp": 1600481764333,
     "user": {
      "displayName": "Víctor Jiménez Villar",
      "photoUrl": "https://lh3.googleusercontent.com/a-/AOh14GiGf6idc6Zl61Z_kJsNGzq1M9oX-I52mC-soZ1d=s64",
      "userId": "00192359867040618323"
     },
     "user_tz": 300
    },
    "id": "ibsR4QmuavJj"
   },
   "outputs": [],
   "source": [
    "top_original=top_s[top_s[\"pval\"]<0.001]"
   ]
  },
  {
   "cell_type": "code",
   "execution_count": 21,
   "metadata": {
    "colab": {
     "base_uri": "https://localhost:8080/",
     "height": 404
    },
    "colab_type": "code",
    "executionInfo": {
     "elapsed": 27858,
     "status": "ok",
     "timestamp": 1600481764334,
     "user": {
      "displayName": "Víctor Jiménez Villar",
      "photoUrl": "https://lh3.googleusercontent.com/a-/AOh14GiGf6idc6Zl61Z_kJsNGzq1M9oX-I52mC-soZ1d=s64",
      "userId": "00192359867040618323"
     },
     "user_tz": 300
    },
    "id": "TmRqrEFWBgAL",
    "outputId": "ec6dfa57-9f75-4e05-96c3-870d84a2afcd"
   },
   "outputs": [
    {
     "data": {
      "text/html": [
       "<div>\n",
       "<style scoped>\n",
       "    .dataframe tbody tr th:only-of-type {\n",
       "        vertical-align: middle;\n",
       "    }\n",
       "\n",
       "    .dataframe tbody tr th {\n",
       "        vertical-align: top;\n",
       "    }\n",
       "\n",
       "    .dataframe thead th {\n",
       "        text-align: right;\n",
       "    }\n",
       "</style>\n",
       "<table border=\"1\" class=\"dataframe\">\n",
       "  <thead>\n",
       "    <tr style=\"text-align: right;\">\n",
       "      <th></th>\n",
       "      <th>score</th>\n",
       "      <th>pval</th>\n",
       "    </tr>\n",
       "  </thead>\n",
       "  <tbody>\n",
       "    <tr>\n",
       "      <th>depression</th>\n",
       "      <td>787.990749</td>\n",
       "      <td>0.000000</td>\n",
       "    </tr>\n",
       "    <tr>\n",
       "      <th>my</th>\n",
       "      <td>608.838685</td>\n",
       "      <td>0.000000</td>\n",
       "    </tr>\n",
       "    <tr>\n",
       "      <th>me</th>\n",
       "      <td>437.930654</td>\n",
       "      <td>0.000000</td>\n",
       "    </tr>\n",
       "    <tr>\n",
       "      <th>im</th>\n",
       "      <td>387.013767</td>\n",
       "      <td>0.000000</td>\n",
       "    </tr>\n",
       "    <tr>\n",
       "      <th>anxiety</th>\n",
       "      <td>337.770950</td>\n",
       "      <td>0.000000</td>\n",
       "    </tr>\n",
       "    <tr>\n",
       "      <th>...</th>\n",
       "      <td>...</td>\n",
       "      <td>...</td>\n",
       "    </tr>\n",
       "    <tr>\n",
       "      <th>pudge</th>\n",
       "      <td>10.861150</td>\n",
       "      <td>0.000982</td>\n",
       "    </tr>\n",
       "    <tr>\n",
       "      <th>un</th>\n",
       "      <td>10.860860</td>\n",
       "      <td>0.000982</td>\n",
       "    </tr>\n",
       "    <tr>\n",
       "      <th>story</th>\n",
       "      <td>10.859443</td>\n",
       "      <td>0.000983</td>\n",
       "    </tr>\n",
       "    <tr>\n",
       "      <th>union</th>\n",
       "      <td>10.854125</td>\n",
       "      <td>0.000986</td>\n",
       "    </tr>\n",
       "    <tr>\n",
       "      <th>debate</th>\n",
       "      <td>10.829229</td>\n",
       "      <td>0.000999</td>\n",
       "    </tr>\n",
       "  </tbody>\n",
       "</table>\n",
       "<p>1080 rows × 2 columns</p>\n",
       "</div>"
      ],
      "text/plain": [
       "                 score      pval\n",
       "depression  787.990749  0.000000\n",
       "my          608.838685  0.000000\n",
       "me          437.930654  0.000000\n",
       "im          387.013767  0.000000\n",
       "anxiety     337.770950  0.000000\n",
       "...                ...       ...\n",
       "pudge        10.861150  0.000982\n",
       "un           10.860860  0.000982\n",
       "story        10.859443  0.000983\n",
       "union        10.854125  0.000986\n",
       "debate       10.829229  0.000999\n",
       "\n",
       "[1080 rows x 2 columns]"
      ]
     },
     "execution_count": 21,
     "metadata": {},
     "output_type": "execute_result"
    }
   ],
   "source": [
    "top_original"
   ]
  },
  {
   "cell_type": "code",
   "execution_count": 27,
   "metadata": {},
   "outputs": [],
   "source": [
    "top_original.to_csv(r\"D:\\v1ktop\\Drive-INAOE\\Code\\data_aumentation_for_author_profiling\\word_level_da\\reports\\original.csv\", )"
   ]
  },
  {
   "cell_type": "code",
   "execution_count": 35,
   "metadata": {},
   "outputs": [],
   "source": [
    "parent_save_dir=r\"D:\\v1ktop\\Drive-INAOE\\Code\\data_aumentation_for_author_profiling\\word_level_da\\reports\""
   ]
  },
  {
   "cell_type": "markdown",
   "metadata": {
    "colab_type": "text",
    "id": "2KHommTfBgAN"
   },
   "source": [
    "### Promedio del valor Chi cuadrada"
   ]
  },
  {
   "cell_type": "code",
   "execution_count": null,
   "metadata": {
    "colab": {},
    "colab_type": "code",
    "executionInfo": {
     "elapsed": 27852,
     "status": "ok",
     "timestamp": 1600481764336,
     "user": {
      "displayName": "Víctor Jiménez Villar",
      "photoUrl": "https://lh3.googleusercontent.com/a-/AOh14GiGf6idc6Zl61Z_kJsNGzq1M9oX-I52mC-soZ1d=s64",
      "userId": "00192359867040618323"
     },
     "user_tz": 300
    },
    "id": "UUP9pcMEBgAN"
   },
   "outputs": [],
   "source": []
  },
  {
   "cell_type": "code",
   "execution_count": 28,
   "metadata": {
    "colab": {
     "base_uri": "https://localhost:8080/",
     "height": 33
    },
    "colab_type": "code",
    "executionInfo": {
     "elapsed": 27845,
     "status": "ok",
     "timestamp": 1600481764337,
     "user": {
      "displayName": "Víctor Jiménez Villar",
      "photoUrl": "https://lh3.googleusercontent.com/a-/AOh14GiGf6idc6Zl61Z_kJsNGzq1M9oX-I52mC-soZ1d=s64",
      "userId": "00192359867040618323"
     },
     "user_tz": 300
    },
    "id": "amiXSdwPBgAO",
    "outputId": "0deb3577-6987-46c5-c8b1-e9b99f8b90fd"
   },
   "outputs": [
    {
     "data": {
      "text/plain": [
       "30.993944025925924"
      ]
     },
     "execution_count": 28,
     "metadata": {},
     "output_type": "execute_result"
    }
   ],
   "source": [
    "top_s[top_s[\"pval\"]<0.001][\"score\"].mean()"
   ]
  },
  {
   "cell_type": "code",
   "execution_count": 29,
   "metadata": {
    "colab": {
     "base_uri": "https://localhost:8080/",
     "height": 33
    },
    "colab_type": "code",
    "executionInfo": {
     "elapsed": 27835,
     "status": "ok",
     "timestamp": 1600481764337,
     "user": {
      "displayName": "Víctor Jiménez Villar",
      "photoUrl": "https://lh3.googleusercontent.com/a-/AOh14GiGf6idc6Zl61Z_kJsNGzq1M9oX-I52mC-soZ1d=s64",
      "userId": "00192359867040618323"
     },
     "user_tz": 300
    },
    "id": "WWZCiWkTavJl",
    "outputId": "3fbd6f37-11a0-4116-81cd-738b04e5f2bd"
   },
   "outputs": [
    {
     "data": {
      "text/plain": [
       "45.544709286438966"
      ]
     },
     "execution_count": 29,
     "metadata": {},
     "output_type": "execute_result"
    }
   ],
   "source": [
    "top_s[top_s[\"pval\"]<0.001][\"score\"].std()"
   ]
  },
  {
   "cell_type": "code",
   "execution_count": null,
   "metadata": {
    "colab": {},
    "colab_type": "code",
    "executionInfo": {
     "elapsed": 27826,
     "status": "ok",
     "timestamp": 1600481764338,
     "user": {
      "displayName": "Víctor Jiménez Villar",
      "photoUrl": "https://lh3.googleusercontent.com/a-/AOh14GiGf6idc6Zl61Z_kJsNGzq1M9oX-I52mC-soZ1d=s64",
      "userId": "00192359867040618323"
     },
     "user_tz": 300
    },
    "id": "aKnMUD3cBgAS"
   },
   "outputs": [],
   "source": []
  },
  {
   "cell_type": "markdown",
   "metadata": {
    "colab_type": "text",
    "id": "18geL0SFBgAU"
   },
   "source": [
    "## Palabras con puntuacion Xi2 < 0.001 (Conjunto filtrado)"
   ]
  },
  {
   "cell_type": "code",
   "execution_count": null,
   "metadata": {
    "colab": {},
    "colab_type": "code",
    "executionInfo": {
     "elapsed": 705,
     "status": "ok",
     "timestamp": 1600482021850,
     "user": {
      "displayName": "Víctor Jiménez Villar",
      "photoUrl": "https://lh3.googleusercontent.com/a-/AOh14GiGf6idc6Zl61Z_kJsNGzq1M9oX-I52mC-soZ1d=s64",
      "userId": "00192359867040618323"
     },
     "user_tz": 300
    },
    "id": "JaYi8Q8jBgAU"
   },
   "outputs": [],
   "source": []
  },
  {
   "cell_type": "code",
   "execution_count": 30,
   "metadata": {
    "colab": {},
    "colab_type": "code",
    "executionInfo": {
     "elapsed": 2965,
     "status": "ok",
     "timestamp": 1600482024124,
     "user": {
      "displayName": "Víctor Jiménez Villar",
      "photoUrl": "https://lh3.googleusercontent.com/a-/AOh14GiGf6idc6Zl61Z_kJsNGzq1M9oX-I52mC-soZ1d=s64",
      "userId": "00192359867040618323"
     },
     "user_tz": 300
    },
    "id": "rqGPlROsBgAW"
   },
   "outputs": [],
   "source": [
    "filtered_data= data_cls.get_dataset(folder_name=\"prep_chunks_filtered\", truth_name=\"golden_truth_filtered.txt\",\n",
    "                              partition=\"training\")"
   ]
  },
  {
   "cell_type": "code",
   "execution_count": 31,
   "metadata": {
    "colab": {},
    "colab_type": "code",
    "executionInfo": {
     "elapsed": 2959,
     "status": "ok",
     "timestamp": 1600482024126,
     "user": {
      "displayName": "Víctor Jiménez Villar",
      "photoUrl": "https://lh3.googleusercontent.com/a-/AOh14GiGf6idc6Zl61Z_kJsNGzq1M9oX-I52mC-soZ1d=s64",
      "userId": "00192359867040618323"
     },
     "user_tz": 300
    },
    "id": "F9oa_0RDBgAY"
   },
   "outputs": [],
   "source": [
    "exp_cls=explore_data(filtered_data[0], filtered_data[1], \"/\", plot_format=\"png\")"
   ]
  },
  {
   "cell_type": "code",
   "execution_count": 32,
   "metadata": {
    "colab": {
     "base_uri": "https://localhost:8080/",
     "height": 282
    },
    "colab_type": "code",
    "executionInfo": {
     "elapsed": 3249,
     "status": "ok",
     "timestamp": 1600482024424,
     "user": {
      "displayName": "Víctor Jiménez Villar",
      "photoUrl": "https://lh3.googleusercontent.com/a-/AOh14GiGf6idc6Zl61Z_kJsNGzq1M9oX-I52mC-soZ1d=s64",
      "userId": "00192359867040618323"
     },
     "user_tz": 300
    },
    "id": "XQ2lTzMIBgAZ",
    "outputId": "a240a1df-b10e-4eac-c1d0-3b454a533d6c"
   },
   "outputs": [
    {
     "data": {
      "image/png": "[encoded data removed]",
      "text/plain": [
       "<Figure size 432x288 with 1 Axes>"
      ]
     },
     "metadata": {
      "needs_background": "light"
     },
     "output_type": "display_data"
    }
   ],
   "source": [
    "exp_cls.plot_class_distribution()"
   ]
  },
  {
   "cell_type": "code",
   "execution_count": 33,
   "metadata": {
    "colab": {},
    "colab_type": "code",
    "executionInfo": {
     "elapsed": 16307,
     "status": "ok",
     "timestamp": 1600482037492,
     "user": {
      "displayName": "Víctor Jiménez Villar",
      "photoUrl": "https://lh3.googleusercontent.com/a-/AOh14GiGf6idc6Zl61Z_kJsNGzq1M9oX-I52mC-soZ1d=s64",
      "userId": "00192359867040618323"
     },
     "user_tz": 300
    },
    "id": "c8cjX0d3BgAb"
   },
   "outputs": [],
   "source": [
    "ft1 = FeatureExtraction(filtered_data[0], stop_wors=None, use_idf=True)\n",
    "top_filtered = ft1.get_chi_2(filtered_data[1], k=K)"
   ]
  },
  {
   "cell_type": "markdown",
   "metadata": {
    "colab_type": "text",
    "id": "D9TkVMmQBgAd"
   },
   "source": [
    "***Solo 401 terminos son significantes despues del filtrado***"
   ]
  },
  {
   "cell_type": "code",
   "execution_count": 34,
   "metadata": {
    "colab": {
     "base_uri": "https://localhost:8080/",
     "height": 404
    },
    "colab_type": "code",
    "executionInfo": {
     "elapsed": 16299,
     "status": "ok",
     "timestamp": 1600482037492,
     "user": {
      "displayName": "Víctor Jiménez Villar",
      "photoUrl": "https://lh3.googleusercontent.com/a-/AOh14GiGf6idc6Zl61Z_kJsNGzq1M9oX-I52mC-soZ1d=s64",
      "userId": "00192359867040618323"
     },
     "user_tz": 300
    },
    "id": "JPsnoJDCBgAe",
    "outputId": "637bd08a-0b39-445b-9206-19c0e782fe1b"
   },
   "outputs": [
    {
     "data": {
      "text/html": [
       "<div>\n",
       "<style scoped>\n",
       "    .dataframe tbody tr th:only-of-type {\n",
       "        vertical-align: middle;\n",
       "    }\n",
       "\n",
       "    .dataframe tbody tr th {\n",
       "        vertical-align: top;\n",
       "    }\n",
       "\n",
       "    .dataframe thead th {\n",
       "        text-align: right;\n",
       "    }\n",
       "</style>\n",
       "<table border=\"1\" class=\"dataframe\">\n",
       "  <thead>\n",
       "    <tr style=\"text-align: right;\">\n",
       "      <th></th>\n",
       "      <th>score</th>\n",
       "      <th>pval</th>\n",
       "    </tr>\n",
       "  </thead>\n",
       "  <tbody>\n",
       "    <tr>\n",
       "      <th>depression</th>\n",
       "      <td>406.479297</td>\n",
       "      <td>0.000000</td>\n",
       "    </tr>\n",
       "    <tr>\n",
       "      <th>my</th>\n",
       "      <td>194.734325</td>\n",
       "      <td>0.000000</td>\n",
       "    </tr>\n",
       "    <tr>\n",
       "      <th>anxiety</th>\n",
       "      <td>163.138978</td>\n",
       "      <td>0.000000</td>\n",
       "    </tr>\n",
       "    <tr>\n",
       "      <th>relationship</th>\n",
       "      <td>158.343738</td>\n",
       "      <td>0.000000</td>\n",
       "    </tr>\n",
       "    <tr>\n",
       "      <th>boyfriend</th>\n",
       "      <td>130.309752</td>\n",
       "      <td>0.000000</td>\n",
       "    </tr>\n",
       "    <tr>\n",
       "      <th>...</th>\n",
       "      <td>...</td>\n",
       "      <td>...</td>\n",
       "    </tr>\n",
       "    <tr>\n",
       "      <th>psych</th>\n",
       "      <td>10.859072</td>\n",
       "      <td>0.000983</td>\n",
       "    </tr>\n",
       "    <tr>\n",
       "      <th>national</th>\n",
       "      <td>10.857342</td>\n",
       "      <td>0.000984</td>\n",
       "    </tr>\n",
       "    <tr>\n",
       "      <th>cars</th>\n",
       "      <td>10.854468</td>\n",
       "      <td>0.000986</td>\n",
       "    </tr>\n",
       "    <tr>\n",
       "      <th>moisturized</th>\n",
       "      <td>10.853590</td>\n",
       "      <td>0.000986</td>\n",
       "    </tr>\n",
       "    <tr>\n",
       "      <th>eleaf</th>\n",
       "      <td>10.846848</td>\n",
       "      <td>0.000990</td>\n",
       "    </tr>\n",
       "  </tbody>\n",
       "</table>\n",
       "<p>401 rows × 2 columns</p>\n",
       "</div>"
      ],
      "text/plain": [
       "                   score      pval\n",
       "depression    406.479297  0.000000\n",
       "my            194.734325  0.000000\n",
       "anxiety       163.138978  0.000000\n",
       "relationship  158.343738  0.000000\n",
       "boyfriend     130.309752  0.000000\n",
       "...                  ...       ...\n",
       "psych          10.859072  0.000983\n",
       "national       10.857342  0.000984\n",
       "cars           10.854468  0.000986\n",
       "moisturized    10.853590  0.000986\n",
       "eleaf          10.846848  0.000990\n",
       "\n",
       "[401 rows x 2 columns]"
      ]
     },
     "execution_count": 34,
     "metadata": {},
     "output_type": "execute_result"
    }
   ],
   "source": [
    "top_filtered[top_filtered[\"pval\"]<0.001]"
   ]
  },
  {
   "cell_type": "code",
   "execution_count": null,
   "metadata": {
    "colab": {},
    "colab_type": "code",
    "executionInfo": {
     "elapsed": 16293,
     "status": "ok",
     "timestamp": 1600482037493,
     "user": {
      "displayName": "Víctor Jiménez Villar",
      "photoUrl": "https://lh3.googleusercontent.com/a-/AOh14GiGf6idc6Zl61Z_kJsNGzq1M9oX-I52mC-soZ1d=s64",
      "userId": "00192359867040618323"
     },
     "user_tz": 300
    },
    "id": "OCYQ-lVUBgAg"
   },
   "outputs": [],
   "source": []
  },
  {
   "cell_type": "code",
   "execution_count": 36,
   "metadata": {
    "colab": {},
    "colab_type": "code",
    "executionInfo": {
     "elapsed": 16287,
     "status": "ok",
     "timestamp": 1600482037494,
     "user": {
      "displayName": "Víctor Jiménez Villar",
      "photoUrl": "https://lh3.googleusercontent.com/a-/AOh14GiGf6idc6Zl61Z_kJsNGzq1M9oX-I52mC-soZ1d=s64",
      "userId": "00192359867040618323"
     },
     "user_tz": 300
    },
    "id": "028IR4WSBgAi"
   },
   "outputs": [],
   "source": [
    "top_original_filtered=top_filtered.loc[top_filtered.index.intersection(list(top_original.index))]"
   ]
  },
  {
   "cell_type": "code",
   "execution_count": 37,
   "metadata": {
    "colab": {
     "base_uri": "https://localhost:8080/",
     "height": 404
    },
    "colab_type": "code",
    "executionInfo": {
     "elapsed": 16478,
     "status": "ok",
     "timestamp": 1600482037692,
     "user": {
      "displayName": "Víctor Jiménez Villar",
      "photoUrl": "https://lh3.googleusercontent.com/a-/AOh14GiGf6idc6Zl61Z_kJsNGzq1M9oX-I52mC-soZ1d=s64",
      "userId": "00192359867040618323"
     },
     "user_tz": 300
    },
    "id": "gIkEs20rBgAj",
    "outputId": "e1f7e592-5478-406b-ce09-bb2c2db40e90"
   },
   "outputs": [
    {
     "data": {
      "text/html": [
       "<div>\n",
       "<style scoped>\n",
       "    .dataframe tbody tr th:only-of-type {\n",
       "        vertical-align: middle;\n",
       "    }\n",
       "\n",
       "    .dataframe tbody tr th {\n",
       "        vertical-align: top;\n",
       "    }\n",
       "\n",
       "    .dataframe thead th {\n",
       "        text-align: right;\n",
       "    }\n",
       "</style>\n",
       "<table border=\"1\" class=\"dataframe\">\n",
       "  <thead>\n",
       "    <tr style=\"text-align: right;\">\n",
       "      <th></th>\n",
       "      <th>score</th>\n",
       "      <th>pval</th>\n",
       "    </tr>\n",
       "  </thead>\n",
       "  <tbody>\n",
       "    <tr>\n",
       "      <th>depression</th>\n",
       "      <td>406.479297</td>\n",
       "      <td>0.000000</td>\n",
       "    </tr>\n",
       "    <tr>\n",
       "      <th>my</th>\n",
       "      <td>194.734325</td>\n",
       "      <td>0.000000</td>\n",
       "    </tr>\n",
       "    <tr>\n",
       "      <th>anxiety</th>\n",
       "      <td>163.138978</td>\n",
       "      <td>0.000000</td>\n",
       "    </tr>\n",
       "    <tr>\n",
       "      <th>relationship</th>\n",
       "      <td>158.343738</td>\n",
       "      <td>0.000000</td>\n",
       "    </tr>\n",
       "    <tr>\n",
       "      <th>boyfriend</th>\n",
       "      <td>130.309752</td>\n",
       "      <td>0.000000</td>\n",
       "    </tr>\n",
       "    <tr>\n",
       "      <th>...</th>\n",
       "      <td>...</td>\n",
       "      <td>...</td>\n",
       "    </tr>\n",
       "    <tr>\n",
       "      <th>thats</th>\n",
       "      <td>0.030241</td>\n",
       "      <td>0.861944</td>\n",
       "    </tr>\n",
       "    <tr>\n",
       "      <th>some</th>\n",
       "      <td>0.008463</td>\n",
       "      <td>0.926702</td>\n",
       "    </tr>\n",
       "    <tr>\n",
       "      <th>all</th>\n",
       "      <td>0.006698</td>\n",
       "      <td>0.934774</td>\n",
       "    </tr>\n",
       "    <tr>\n",
       "      <th>convergence</th>\n",
       "      <td>0.000598</td>\n",
       "      <td>0.980485</td>\n",
       "    </tr>\n",
       "    <tr>\n",
       "      <th>got</th>\n",
       "      <td>0.000129</td>\n",
       "      <td>0.990937</td>\n",
       "    </tr>\n",
       "  </tbody>\n",
       "</table>\n",
       "<p>1073 rows × 2 columns</p>\n",
       "</div>"
      ],
      "text/plain": [
       "                   score      pval\n",
       "depression    406.479297  0.000000\n",
       "my            194.734325  0.000000\n",
       "anxiety       163.138978  0.000000\n",
       "relationship  158.343738  0.000000\n",
       "boyfriend     130.309752  0.000000\n",
       "...                  ...       ...\n",
       "thats           0.030241  0.861944\n",
       "some            0.008463  0.926702\n",
       "all             0.006698  0.934774\n",
       "convergence     0.000598  0.980485\n",
       "got             0.000129  0.990937\n",
       "\n",
       "[1073 rows x 2 columns]"
      ]
     },
     "execution_count": 37,
     "metadata": {},
     "output_type": "execute_result"
    }
   ],
   "source": [
    "top_original_filtered"
   ]
  },
  {
   "cell_type": "code",
   "execution_count": 38,
   "metadata": {
    "colab": {
     "base_uri": "https://localhost:8080/",
     "height": 67
    },
    "colab_type": "code",
    "executionInfo": {
     "elapsed": 16471,
     "status": "ok",
     "timestamp": 1600482037693,
     "user": {
      "displayName": "Víctor Jiménez Villar",
      "photoUrl": "https://lh3.googleusercontent.com/a-/AOh14GiGf6idc6Zl61Z_kJsNGzq1M9oX-I52mC-soZ1d=s64",
      "userId": "00192359867040618323"
     },
     "user_tz": 300
    },
    "id": "2CQmUfozBgAm",
    "outputId": "639bba25-2efc-4149-f77f-43bf3aacc1b5"
   },
   "outputs": [
    {
     "data": {
      "text/plain": [
       "score    19.236595\n",
       "pval      0.000012\n",
       "Name: got, dtype: float64"
      ]
     },
     "execution_count": 38,
     "metadata": {},
     "output_type": "execute_result"
    }
   ],
   "source": [
    "top_original.loc[\"got\"]"
   ]
  },
  {
   "cell_type": "code",
   "execution_count": 39,
   "metadata": {},
   "outputs": [],
   "source": [
    "import os"
   ]
  },
  {
   "cell_type": "code",
   "execution_count": 41,
   "metadata": {},
   "outputs": [],
   "source": [
    "top_original_filtered.to_csv(os.path.join(parent_save_dir,\"original_filtered.csv\"))"
   ]
  },
  {
   "cell_type": "markdown",
   "metadata": {
    "colab_type": "text",
    "id": "QrpcE6UMBgAn"
   },
   "source": [
    "## Promedio del valor Chi cuadrada (Conjunto filtrado)"
   ]
  },
  {
   "cell_type": "code",
   "execution_count": 42,
   "metadata": {
    "colab": {
     "base_uri": "https://localhost:8080/",
     "height": 33
    },
    "colab_type": "code",
    "executionInfo": {
     "elapsed": 16464,
     "status": "ok",
     "timestamp": 1600482037694,
     "user": {
      "displayName": "Víctor Jiménez Villar",
      "photoUrl": "https://lh3.googleusercontent.com/a-/AOh14GiGf6idc6Zl61Z_kJsNGzq1M9oX-I52mC-soZ1d=s64",
      "userId": "00192359867040618323"
     },
     "user_tz": 300
    },
    "id": "vK9eUSNcBgAo",
    "outputId": "29eb080b-e4a6-42ad-be46-aeeebb0375ca"
   },
   "outputs": [
    {
     "data": {
      "text/plain": [
       "12.96899965330848"
      ]
     },
     "execution_count": 42,
     "metadata": {},
     "output_type": "execute_result"
    }
   ],
   "source": [
    "top_original_filtered.score.mean()"
   ]
  },
  {
   "cell_type": "code",
   "execution_count": 43,
   "metadata": {
    "colab": {
     "base_uri": "https://localhost:8080/",
     "height": 33
    },
    "colab_type": "code",
    "executionInfo": {
     "elapsed": 16454,
     "status": "ok",
     "timestamp": 1600482037694,
     "user": {
      "displayName": "Víctor Jiménez Villar",
      "photoUrl": "https://lh3.googleusercontent.com/a-/AOh14GiGf6idc6Zl61Z_kJsNGzq1M9oX-I52mC-soZ1d=s64",
      "userId": "00192359867040618323"
     },
     "user_tz": 300
    },
    "id": "VyBXaiuyBgAp",
    "outputId": "f8b92f3b-4295-48eb-f6ec-4b5c64e0ba64"
   },
   "outputs": [
    {
     "data": {
      "text/plain": [
       "20.110998195496652"
      ]
     },
     "execution_count": 43,
     "metadata": {},
     "output_type": "execute_result"
    }
   ],
   "source": [
    "top_original_filtered.score.std()"
   ]
  },
  {
   "cell_type": "markdown",
   "metadata": {
    "colab_type": "text",
    "id": "bF9p9vVFBgAs"
   },
   "source": [
    "## Valores CHi cuadrada para el conjunto aumentado"
   ]
  },
  {
   "cell_type": "code",
   "execution_count": 44,
   "metadata": {
    "colab": {},
    "colab_type": "code",
    "executionInfo": {
     "elapsed": 16439,
     "status": "ok",
     "timestamp": 1600482037695,
     "user": {
      "displayName": "Víctor Jiménez Villar",
      "photoUrl": "https://lh3.googleusercontent.com/a-/AOh14GiGf6idc6Zl61Z_kJsNGzq1M9oX-I52mC-soZ1d=s64",
      "userId": "00192359867040618323"
     },
     "user_tz": 300
    },
    "id": "B9eKrjHWBgAt"
   },
   "outputs": [],
   "source": [
    "import numpy as np"
   ]
  },
  {
   "cell_type": "code",
   "execution_count": 45,
   "metadata": {
    "colab": {},
    "colab_type": "code",
    "executionInfo": {
     "elapsed": 16431,
     "status": "ok",
     "timestamp": 1600482037696,
     "user": {
      "displayName": "Víctor Jiménez Villar",
      "photoUrl": "https://lh3.googleusercontent.com/a-/AOh14GiGf6idc6Zl61Z_kJsNGzq1M9oX-I52mC-soZ1d=s64",
      "userId": "00192359867040618323"
     },
     "user_tz": 300
    },
    "id": "3Z10HcScBgAv"
   },
   "outputs": [],
   "source": [
    "all_scores=[]"
   ]
  },
  {
   "cell_type": "code",
   "execution_count": 46,
   "metadata": {
    "colab": {},
    "colab_type": "code",
    "executionInfo": {
     "elapsed": 16613,
     "status": "ok",
     "timestamp": 1600482037885,
     "user": {
      "displayName": "Víctor Jiménez Villar",
      "photoUrl": "https://lh3.googleusercontent.com/a-/AOh14GiGf6idc6Zl61Z_kJsNGzq1M9oX-I52mC-soZ1d=s64",
      "userId": "00192359867040618323"
     },
     "user_tz": 300
    },
    "id": "bFgtaulqavJn"
   },
   "outputs": [],
   "source": [
    "methods=[\"Xi\"]"
   ]
  },
  {
   "cell_type": "code",
   "execution_count": 47,
   "metadata": {
    "colab": {},
    "colab_type": "code",
    "executionInfo": {
     "elapsed": 1841503,
     "status": "ok",
     "timestamp": 1600483862782,
     "user": {
      "displayName": "Víctor Jiménez Villar",
      "photoUrl": "https://lh3.googleusercontent.com/a-/AOh14GiGf6idc6Zl61Z_kJsNGzq1M9oX-I52mC-soZ1d=s64",
      "userId": "00192359867040618323"
     },
     "user_tz": 300
    },
    "id": "i29Q3WD1avJp"
   },
   "outputs": [],
   "source": [
    "for method in methods:\n",
    "    for i in range (1,11):\n",
    "        prefix = method + str(i)\n",
    "        folder = method + \"/\" + prefix\n",
    "        truth_file = method + \"/\" + prefix + \".txt\"\n",
    "        docs, l_docs, ids, useless_data = data_cls.get_dataset(folder_name=folder, truth_name=truth_file,\n",
    "                                                           partition=\"augmented\")\n",
    "\n",
    "        new_training = np.append(filtered_data[0], docs)\n",
    "        new_labels = np.append(filtered_data[1], l_docs)\n",
    "\n",
    "        ft1 = FeatureExtraction(new_training, stop_wors=None, use_idf=True)\n",
    "        top_sm = ft1.get_chi_2(new_labels, k=K)\n",
    "        \n",
    "        all_scores.append(top_sm)"
   ]
  },
  {
   "cell_type": "code",
   "execution_count": 48,
   "metadata": {
    "colab": {
     "base_uri": "https://localhost:8080/",
     "height": 33
    },
    "colab_type": "code",
    "executionInfo": {
     "elapsed": 1841499,
     "status": "ok",
     "timestamp": 1600483862785,
     "user": {
      "displayName": "Víctor Jiménez Villar",
      "photoUrl": "https://lh3.googleusercontent.com/a-/AOh14GiGf6idc6Zl61Z_kJsNGzq1M9oX-I52mC-soZ1d=s64",
      "userId": "00192359867040618323"
     },
     "user_tz": 300
    },
    "id": "z34QHkQ1avJs",
    "outputId": "7575c8ed-1372-4296-f015-59c57755b847"
   },
   "outputs": [
    {
     "data": {
      "text/plain": [
       "10"
      ]
     },
     "execution_count": 48,
     "metadata": {},
     "output_type": "execute_result"
    }
   ],
   "source": [
    "len(all_scores)"
   ]
  },
  {
   "cell_type": "code",
   "execution_count": 49,
   "metadata": {
    "colab": {
     "base_uri": "https://localhost:8080/",
     "height": 404
    },
    "colab_type": "code",
    "executionInfo": {
     "elapsed": 432,
     "status": "ok",
     "timestamp": 1600483921465,
     "user": {
      "displayName": "Víctor Jiménez Villar",
      "photoUrl": "https://lh3.googleusercontent.com/a-/AOh14GiGf6idc6Zl61Z_kJsNGzq1M9oX-I52mC-soZ1d=s64",
      "userId": "00192359867040618323"
     },
     "user_tz": 300
    },
    "id": "Mi0P0UBlavJu",
    "outputId": "7ad8518b-be5a-494e-cd5d-27eabaa055e5"
   },
   "outputs": [
    {
     "data": {
      "text/html": [
       "<div>\n",
       "<style scoped>\n",
       "    .dataframe tbody tr th:only-of-type {\n",
       "        vertical-align: middle;\n",
       "    }\n",
       "\n",
       "    .dataframe tbody tr th {\n",
       "        vertical-align: top;\n",
       "    }\n",
       "\n",
       "    .dataframe thead th {\n",
       "        text-align: right;\n",
       "    }\n",
       "</style>\n",
       "<table border=\"1\" class=\"dataframe\">\n",
       "  <thead>\n",
       "    <tr style=\"text-align: right;\">\n",
       "      <th></th>\n",
       "      <th>score</th>\n",
       "      <th>pval</th>\n",
       "    </tr>\n",
       "  </thead>\n",
       "  <tbody>\n",
       "    <tr>\n",
       "      <th>depression</th>\n",
       "      <td>413.801609</td>\n",
       "      <td>0.000000</td>\n",
       "    </tr>\n",
       "    <tr>\n",
       "      <th>my</th>\n",
       "      <td>303.800554</td>\n",
       "      <td>0.000000</td>\n",
       "    </tr>\n",
       "    <tr>\n",
       "      <th>anxiety</th>\n",
       "      <td>237.300253</td>\n",
       "      <td>0.000000</td>\n",
       "    </tr>\n",
       "    <tr>\n",
       "      <th>cant</th>\n",
       "      <td>219.683999</td>\n",
       "      <td>0.000000</td>\n",
       "    </tr>\n",
       "    <tr>\n",
       "      <th>me</th>\n",
       "      <td>200.916606</td>\n",
       "      <td>0.000000</td>\n",
       "    </tr>\n",
       "    <tr>\n",
       "      <th>...</th>\n",
       "      <td>...</td>\n",
       "      <td>...</td>\n",
       "    </tr>\n",
       "    <tr>\n",
       "      <th>candidates</th>\n",
       "      <td>10.855297</td>\n",
       "      <td>0.000985</td>\n",
       "    </tr>\n",
       "    <tr>\n",
       "      <th>wasd</th>\n",
       "      <td>10.846726</td>\n",
       "      <td>0.000990</td>\n",
       "    </tr>\n",
       "    <tr>\n",
       "      <th>sgs</th>\n",
       "      <td>10.844637</td>\n",
       "      <td>0.000991</td>\n",
       "    </tr>\n",
       "    <tr>\n",
       "      <th>despised</th>\n",
       "      <td>10.844006</td>\n",
       "      <td>0.000991</td>\n",
       "    </tr>\n",
       "    <tr>\n",
       "      <th>thayers</th>\n",
       "      <td>10.834750</td>\n",
       "      <td>0.000996</td>\n",
       "    </tr>\n",
       "  </tbody>\n",
       "</table>\n",
       "<p>697 rows × 2 columns</p>\n",
       "</div>"
      ],
      "text/plain": [
       "                 score      pval\n",
       "depression  413.801609  0.000000\n",
       "my          303.800554  0.000000\n",
       "anxiety     237.300253  0.000000\n",
       "cant        219.683999  0.000000\n",
       "me          200.916606  0.000000\n",
       "...                ...       ...\n",
       "candidates   10.855297  0.000985\n",
       "wasd         10.846726  0.000990\n",
       "sgs          10.844637  0.000991\n",
       "despised     10.844006  0.000991\n",
       "thayers      10.834750  0.000996\n",
       "\n",
       "[697 rows x 2 columns]"
      ]
     },
     "execution_count": 49,
     "metadata": {},
     "output_type": "execute_result"
    }
   ],
   "source": [
    "all_scores[0][all_scores[0].pval<0.001]"
   ]
  },
  {
   "cell_type": "code",
   "execution_count": null,
   "metadata": {
    "colab": {},
    "colab_type": "code",
    "executionInfo": {
     "elapsed": 584,
     "status": "ok",
     "timestamp": 1600483921630,
     "user": {
      "displayName": "Víctor Jiménez Villar",
      "photoUrl": "https://lh3.googleusercontent.com/a-/AOh14GiGf6idc6Zl61Z_kJsNGzq1M9oX-I52mC-soZ1d=s64",
      "userId": "00192359867040618323"
     },
     "user_tz": 300
    },
    "id": "_G7eeH-MBgA8"
   },
   "outputs": [],
   "source": []
  },
  {
   "cell_type": "markdown",
   "metadata": {
    "colab_type": "text",
    "id": "9z-JO-qfBgA9"
   },
   "source": [
    "### Numero de palabras con p<0.001 para cada aumento n=[1,10]"
   ]
  },
  {
   "cell_type": "code",
   "execution_count": 50,
   "metadata": {
    "colab": {},
    "colab_type": "code",
    "executionInfo": {
     "elapsed": 578,
     "status": "ok",
     "timestamp": 1600483921631,
     "user": {
      "displayName": "Víctor Jiménez Villar",
      "photoUrl": "https://lh3.googleusercontent.com/a-/AOh14GiGf6idc6Zl61Z_kJsNGzq1M9oX-I52mC-soZ1d=s64",
      "userId": "00192359867040618323"
     },
     "user_tz": 300
    },
    "id": "K3ljZUSWavJy"
   },
   "outputs": [],
   "source": [
    "import matplotlib.pyplot as plt"
   ]
  },
  {
   "cell_type": "code",
   "execution_count": 51,
   "metadata": {
    "colab": {},
    "colab_type": "code",
    "executionInfo": {
     "elapsed": 569,
     "status": "ok",
     "timestamp": 1600483921631,
     "user": {
      "displayName": "Víctor Jiménez Villar",
      "photoUrl": "https://lh3.googleusercontent.com/a-/AOh14GiGf6idc6Zl61Z_kJsNGzq1M9oX-I52mC-soZ1d=s64",
      "userId": "00192359867040618323"
     },
     "user_tz": 300
    },
    "id": "X_ccqE9KavJ1"
   },
   "outputs": [],
   "source": [
    "x=[i for i in range(1,11)]"
   ]
  },
  {
   "cell_type": "code",
   "execution_count": 52,
   "metadata": {
    "colab": {},
    "colab_type": "code",
    "executionInfo": {
     "elapsed": 851,
     "status": "ok",
     "timestamp": 1600483921922,
     "user": {
      "displayName": "Víctor Jiménez Villar",
      "photoUrl": "https://lh3.googleusercontent.com/a-/AOh14GiGf6idc6Zl61Z_kJsNGzq1M9oX-I52mC-soZ1d=s64",
      "userId": "00192359867040618323"
     },
     "user_tz": 300
    },
    "id": "cLEpv5QpavJ5"
   },
   "outputs": [],
   "source": [
    "y=[len(score[score.pval<0.001]) for score in all_scores]"
   ]
  },
  {
   "cell_type": "code",
   "execution_count": 53,
   "metadata": {
    "colab": {
     "base_uri": "https://localhost:8080/",
     "height": 33
    },
    "colab_type": "code",
    "executionInfo": {
     "elapsed": 845,
     "status": "ok",
     "timestamp": 1600483921923,
     "user": {
      "displayName": "Víctor Jiménez Villar",
      "photoUrl": "https://lh3.googleusercontent.com/a-/AOh14GiGf6idc6Zl61Z_kJsNGzq1M9oX-I52mC-soZ1d=s64",
      "userId": "00192359867040618323"
     },
     "user_tz": 300
    },
    "id": "tt13812YavJ8",
    "outputId": "959962bb-cd5c-422b-b884-484dddbdcbfc"
   },
   "outputs": [
    {
     "data": {
      "text/plain": [
       "[697, 964, 1226, 1433, 1602, 1782, 1957, 2151, 2326, 2522]"
      ]
     },
     "execution_count": 53,
     "metadata": {},
     "output_type": "execute_result"
    }
   ],
   "source": [
    "y"
   ]
  },
  {
   "cell_type": "code",
   "execution_count": 84,
   "metadata": {},
   "outputs": [
    {
     "data": {
      "image/png": "[encoded data removed]",
      "text/plain": [
       "<Figure size 432x288 with 1 Axes>"
      ]
     },
     "metadata": {
      "needs_background": "light"
     },
     "output_type": "display_data"
    }
   ],
   "source": [
    "beingsaved = plt.figure()\n",
    "plt.xticks(x, x)\n",
    "plt.plot(x,y)\n",
    "beingsaved.savefig(\"palabras\", format=\"png\")"
   ]
  },
  {
   "cell_type": "code",
   "execution_count": 82,
   "metadata": {
    "colab": {
     "base_uri": "https://localhost:8080/",
     "height": 281
    },
    "colab_type": "code",
    "executionInfo": {
     "elapsed": 995,
     "status": "ok",
     "timestamp": 1600483922082,
     "user": {
      "displayName": "Víctor Jiménez Villar",
      "photoUrl": "https://lh3.googleusercontent.com/a-/AOh14GiGf6idc6Zl61Z_kJsNGzq1M9oX-I52mC-soZ1d=s64",
      "userId": "00192359867040618323"
     },
     "user_tz": 300
    },
    "id": "XRSBMmVCavKA",
    "outputId": "0f408865-de7d-4708-969d-fb6c02bed33e"
   },
   "outputs": [
    {
     "data": {
      "text/plain": [
       "[<matplotlib.lines.Line2D at 0x2a1846e2908>]"
      ]
     },
     "execution_count": 82,
     "metadata": {},
     "output_type": "execute_result"
    },
    {
     "data": {
      "image/png": "[encoded data removed]",
      "text/plain": [
       "<Figure size 432x288 with 1 Axes>"
      ]
     },
     "metadata": {
      "needs_background": "light"
     },
     "output_type": "display_data"
    }
   ],
   "source": []
  },
  {
   "cell_type": "markdown",
   "metadata": {
    "colab_type": "text",
    "id": "ZoBYss6bBgBH"
   },
   "source": [
    "### Puntuación CHi2 promedio en cada aumento n=[1,10] "
   ]
  },
  {
   "cell_type": "code",
   "execution_count": 94,
   "metadata": {
    "colab": {},
    "colab_type": "code",
    "executionInfo": {
     "elapsed": 985,
     "status": "ok",
     "timestamp": 1600483922083,
     "user": {
      "displayName": "Víctor Jiménez Villar",
      "photoUrl": "https://lh3.googleusercontent.com/a-/AOh14GiGf6idc6Zl61Z_kJsNGzq1M9oX-I52mC-soZ1d=s64",
      "userId": "00192359867040618323"
     },
     "user_tz": 300
    },
    "id": "Hy-e_e39BgBI"
   },
   "outputs": [],
   "source": [
    "mean_all_scores=[score[score.pval<0.001].pval.mean() for score in all_scores]"
   ]
  },
  {
   "cell_type": "code",
   "execution_count": 95,
   "metadata": {
    "colab": {},
    "colab_type": "code",
    "executionInfo": {
     "elapsed": 978,
     "status": "ok",
     "timestamp": 1600483922083,
     "user": {
      "displayName": "Víctor Jiménez Villar",
      "photoUrl": "https://lh3.googleusercontent.com/a-/AOh14GiGf6idc6Zl61Z_kJsNGzq1M9oX-I52mC-soZ1d=s64",
      "userId": "00192359867040618323"
     },
     "user_tz": 300
    },
    "id": "24WwpvHBBgBJ"
   },
   "outputs": [
    {
     "data": {
      "image/png": "[encoded data removed]",
      "text/plain": [
       "<Figure size 432x288 with 1 Axes>"
      ]
     },
     "metadata": {
      "needs_background": "light"
     },
     "output_type": "display_data"
    }
   ],
   "source": [
    "beingsaved = plt.figure()\n",
    "plt.xticks(x, x)\n",
    "plt.plot(x,mean_all_scores)\n",
    "beingsaved.savefig(\"p_values.png\", format=\"png\")"
   ]
  },
  {
   "cell_type": "code",
   "execution_count": 97,
   "metadata": {
    "colab": {
     "base_uri": "https://localhost:8080/",
     "height": 281
    },
    "colab_type": "code",
    "executionInfo": {
     "elapsed": 1239,
     "status": "ok",
     "timestamp": 1600483922351,
     "user": {
      "displayName": "Víctor Jiménez Villar",
      "photoUrl": "https://lh3.googleusercontent.com/a-/AOh14GiGf6idc6Zl61Z_kJsNGzq1M9oX-I52mC-soZ1d=s64",
      "userId": "00192359867040618323"
     },
     "user_tz": 300
    },
    "id": "nUY-biwcBgBM",
    "outputId": "6b5f1ce0-5e2f-41fe-ef93-23fb8a363024"
   },
   "outputs": [
    {
     "data": {
      "text/plain": [
       "[0.0001767715208034433,\n",
       " 0.00018706827800829876,\n",
       " 0.00018808159053833605,\n",
       " 0.00017831023028611306,\n",
       " 0.00017152433208489386,\n",
       " 0.00017627721099887765,\n",
       " 0.00017691861011752684,\n",
       " 0.00018182866573686658,\n",
       " 0.0001785014789337919,\n",
       " 0.00018257313243457576]"
      ]
     },
     "execution_count": 97,
     "metadata": {},
     "output_type": "execute_result"
    }
   ],
   "source": [
    "mean_all_scores"
   ]
  },
  {
   "cell_type": "markdown",
   "metadata": {
    "colab_type": "text",
    "id": "w-xCA1N5BgBO"
   },
   "source": [
    "### Numero de palabras que se siguen conservando del conjunto original"
   ]
  },
  {
   "cell_type": "code",
   "execution_count": 57,
   "metadata": {
    "colab": {},
    "colab_type": "code",
    "executionInfo": {
     "elapsed": 1859,
     "status": "ok",
     "timestamp": 1600483922979,
     "user": {
      "displayName": "Víctor Jiménez Villar",
      "photoUrl": "https://lh3.googleusercontent.com/a-/AOh14GiGf6idc6Zl61Z_kJsNGzq1M9oX-I52mC-soZ1d=s64",
      "userId": "00192359867040618323"
     },
     "user_tz": 300
    },
    "id": "VtFYxZylavKC"
   },
   "outputs": [],
   "source": [
    "original_words_scores=[score.loc[score.index.intersection(list(top_original.index))] for score in all_scores]"
   ]
  },
  {
   "cell_type": "code",
   "execution_count": 58,
   "metadata": {
    "colab": {
     "base_uri": "https://localhost:8080/",
     "height": 404
    },
    "colab_type": "code",
    "executionInfo": {
     "elapsed": 1855,
     "status": "ok",
     "timestamp": 1600483922982,
     "user": {
      "displayName": "Víctor Jiménez Villar",
      "photoUrl": "https://lh3.googleusercontent.com/a-/AOh14GiGf6idc6Zl61Z_kJsNGzq1M9oX-I52mC-soZ1d=s64",
      "userId": "00192359867040618323"
     },
     "user_tz": 300
    },
    "id": "JhpZqyl7BgBQ",
    "outputId": "3e94f607-3c9a-4fc2-8d22-88cf63ae1374"
   },
   "outputs": [
    {
     "data": {
      "text/html": [
       "<div>\n",
       "<style scoped>\n",
       "    .dataframe tbody tr th:only-of-type {\n",
       "        vertical-align: middle;\n",
       "    }\n",
       "\n",
       "    .dataframe tbody tr th {\n",
       "        vertical-align: top;\n",
       "    }\n",
       "\n",
       "    .dataframe thead th {\n",
       "        text-align: right;\n",
       "    }\n",
       "</style>\n",
       "<table border=\"1\" class=\"dataframe\">\n",
       "  <thead>\n",
       "    <tr style=\"text-align: right;\">\n",
       "      <th></th>\n",
       "      <th>score</th>\n",
       "      <th>pval</th>\n",
       "    </tr>\n",
       "  </thead>\n",
       "  <tbody>\n",
       "    <tr>\n",
       "      <th>depression</th>\n",
       "      <td>413.801609</td>\n",
       "      <td>0.000000</td>\n",
       "    </tr>\n",
       "    <tr>\n",
       "      <th>my</th>\n",
       "      <td>303.800554</td>\n",
       "      <td>0.000000</td>\n",
       "    </tr>\n",
       "    <tr>\n",
       "      <th>anxiety</th>\n",
       "      <td>237.300253</td>\n",
       "      <td>0.000000</td>\n",
       "    </tr>\n",
       "    <tr>\n",
       "      <th>cant</th>\n",
       "      <td>219.683999</td>\n",
       "      <td>0.000000</td>\n",
       "    </tr>\n",
       "    <tr>\n",
       "      <th>me</th>\n",
       "      <td>200.916606</td>\n",
       "      <td>0.000000</td>\n",
       "    </tr>\n",
       "    <tr>\n",
       "      <th>...</th>\n",
       "      <td>...</td>\n",
       "      <td>...</td>\n",
       "    </tr>\n",
       "    <tr>\n",
       "      <th>adorable</th>\n",
       "      <td>10.876140</td>\n",
       "      <td>0.000974</td>\n",
       "    </tr>\n",
       "    <tr>\n",
       "      <th>child</th>\n",
       "      <td>10.865931</td>\n",
       "      <td>0.000979</td>\n",
       "    </tr>\n",
       "    <tr>\n",
       "      <th>wasd</th>\n",
       "      <td>10.846726</td>\n",
       "      <td>0.000990</td>\n",
       "    </tr>\n",
       "    <tr>\n",
       "      <th>sgs</th>\n",
       "      <td>10.844637</td>\n",
       "      <td>0.000991</td>\n",
       "    </tr>\n",
       "    <tr>\n",
       "      <th>thayers</th>\n",
       "      <td>10.834750</td>\n",
       "      <td>0.000996</td>\n",
       "    </tr>\n",
       "  </tbody>\n",
       "</table>\n",
       "<p>515 rows × 2 columns</p>\n",
       "</div>"
      ],
      "text/plain": [
       "                 score      pval\n",
       "depression  413.801609  0.000000\n",
       "my          303.800554  0.000000\n",
       "anxiety     237.300253  0.000000\n",
       "cant        219.683999  0.000000\n",
       "me          200.916606  0.000000\n",
       "...                ...       ...\n",
       "adorable     10.876140  0.000974\n",
       "child        10.865931  0.000979\n",
       "wasd         10.846726  0.000990\n",
       "sgs          10.844637  0.000991\n",
       "thayers      10.834750  0.000996\n",
       "\n",
       "[515 rows x 2 columns]"
      ]
     },
     "execution_count": 58,
     "metadata": {},
     "output_type": "execute_result"
    }
   ],
   "source": [
    "original_words_scores[0][original_words_scores[0].pval<0.001]"
   ]
  },
  {
   "cell_type": "code",
   "execution_count": 59,
   "metadata": {
    "colab": {},
    "colab_type": "code",
    "executionInfo": {
     "elapsed": 1848,
     "status": "ok",
     "timestamp": 1600483922983,
     "user": {
      "displayName": "Víctor Jiménez Villar",
      "photoUrl": "https://lh3.googleusercontent.com/a-/AOh14GiGf6idc6Zl61Z_kJsNGzq1M9oX-I52mC-soZ1d=s64",
      "userId": "00192359867040618323"
     },
     "user_tz": 300
    },
    "id": "1L_LZLOSBgBS"
   },
   "outputs": [],
   "source": [
    "y1=[len(score[score.pval<0.001]) for score in original_words_scores]"
   ]
  },
  {
   "cell_type": "code",
   "execution_count": 99,
   "metadata": {
    "colab": {
     "base_uri": "https://localhost:8080/",
     "height": 33
    },
    "colab_type": "code",
    "executionInfo": {
     "elapsed": 1843,
     "status": "ok",
     "timestamp": 1600483922984,
     "user": {
      "displayName": "Víctor Jiménez Villar",
      "photoUrl": "https://lh3.googleusercontent.com/a-/AOh14GiGf6idc6Zl61Z_kJsNGzq1M9oX-I52mC-soZ1d=s64",
      "userId": "00192359867040618323"
     },
     "user_tz": 300
    },
    "id": "_FWpE5lBBgBT",
    "outputId": "6c1cf287-af77-40a4-a39d-94cc800719fc"
   },
   "outputs": [
    {
     "data": {
      "text/plain": [
       "[515, 568, 590, 603, 623, 624, 637, 642, 646, 653]"
      ]
     },
     "execution_count": 99,
     "metadata": {},
     "output_type": "execute_result"
    }
   ],
   "source": [
    "y1"
   ]
  },
  {
   "cell_type": "code",
   "execution_count": 100,
   "metadata": {
    "colab": {
     "base_uri": "https://localhost:8080/",
     "height": 281
    },
    "colab_type": "code",
    "executionInfo": {
     "elapsed": 2065,
     "status": "ok",
     "timestamp": 1600483923214,
     "user": {
      "displayName": "Víctor Jiménez Villar",
      "photoUrl": "https://lh3.googleusercontent.com/a-/AOh14GiGf6idc6Zl61Z_kJsNGzq1M9oX-I52mC-soZ1d=s64",
      "userId": "00192359867040618323"
     },
     "user_tz": 300
    },
    "id": "nJ9GQcuyBgBW",
    "outputId": "1bb35fbc-148a-43ff-c93f-cf583a35d7b2"
   },
   "outputs": [
    {
     "data": {
      "image/png": "[encoded data removed]",
      "text/plain": [
       "<Figure size 432x288 with 1 Axes>"
      ]
     },
     "metadata": {
      "needs_background": "light"
     },
     "output_type": "display_data"
    }
   ],
   "source": [
    "beingsaved = plt.figure()\n",
    "plt.xticks(x, x)\n",
    "plt.plot(x,y1)\n",
    "beingsaved.savefig(\"original_conservadas.png\", format=\"png\")"
   ]
  },
  {
   "cell_type": "markdown",
   "metadata": {},
   "source": [
    "### Guardar lista de palabras"
   ]
  },
  {
   "cell_type": "code",
   "execution_count": 71,
   "metadata": {},
   "outputs": [],
   "source": [
    "for i, word_list in enumerate (original_words_scores):\n",
    "    file_name=\"Xi_\"+str(i+1)+\".csv\"\n",
    "    word_list.to_csv(os.path.join(parent_save_dir,file_name))"
   ]
  },
  {
   "cell_type": "markdown",
   "metadata": {
    "colab_type": "text",
    "id": "Zd7aiMwmBgBX"
   },
   "source": [
    "***Variacion promedio de los valores de chi cuadrada en cada aumento***"
   ]
  },
  {
   "cell_type": "code",
   "execution_count": 72,
   "metadata": {
    "colab": {},
    "colab_type": "code",
    "executionInfo": {
     "elapsed": 2058,
     "status": "ok",
     "timestamp": 1600483923214,
     "user": {
      "displayName": "Víctor Jiménez Villar",
      "photoUrl": "https://lh3.googleusercontent.com/a-/AOh14GiGf6idc6Zl61Z_kJsNGzq1M9oX-I52mC-soZ1d=s64",
      "userId": "00192359867040618323"
     },
     "user_tz": 300
    },
    "id": "Umgl3hgNBgBY"
   },
   "outputs": [],
   "source": [
    "mean_scores=[values.score.mean() for values in original_words_scores]"
   ]
  },
  {
   "cell_type": "code",
   "execution_count": 73,
   "metadata": {
    "colab": {
     "base_uri": "https://localhost:8080/",
     "height": 184
    },
    "colab_type": "code",
    "executionInfo": {
     "elapsed": 2281,
     "status": "ok",
     "timestamp": 1600483923443,
     "user": {
      "displayName": "Víctor Jiménez Villar",
      "photoUrl": "https://lh3.googleusercontent.com/a-/AOh14GiGf6idc6Zl61Z_kJsNGzq1M9oX-I52mC-soZ1d=s64",
      "userId": "00192359867040618323"
     },
     "user_tz": 300
    },
    "id": "BFhNVex8BgBZ",
    "outputId": "1918f1ef-4df7-4f15-95b4-bf068a3a67a2"
   },
   "outputs": [
    {
     "data": {
      "text/plain": [
       "[17.24742845666356,\n",
       " 20.554960505125816,\n",
       " 23.106998956197582,\n",
       " 25.214427145386768,\n",
       " 26.958931720410064,\n",
       " 28.519221370922647,\n",
       " 29.906375130475304,\n",
       " 31.129446220876044,\n",
       " 32.31616947903075,\n",
       " 33.36925272879776]"
      ]
     },
     "execution_count": 73,
     "metadata": {},
     "output_type": "execute_result"
    }
   ],
   "source": [
    "mean_scores"
   ]
  },
  {
   "cell_type": "code",
   "execution_count": 74,
   "metadata": {
    "colab": {},
    "colab_type": "code",
    "executionInfo": {
     "elapsed": 2275,
     "status": "ok",
     "timestamp": 1600483923443,
     "user": {
      "displayName": "Víctor Jiménez Villar",
      "photoUrl": "https://lh3.googleusercontent.com/a-/AOh14GiGf6idc6Zl61Z_kJsNGzq1M9oX-I52mC-soZ1d=s64",
      "userId": "00192359867040618323"
     },
     "user_tz": 300
    },
    "id": "9cBFJA7eBgBb"
   },
   "outputs": [],
   "source": [
    "no_aumento=[top_original_filtered.score.mean()]*10"
   ]
  },
  {
   "cell_type": "code",
   "execution_count": 75,
   "metadata": {
    "colab": {
     "base_uri": "https://localhost:8080/",
     "height": 184
    },
    "colab_type": "code",
    "executionInfo": {
     "elapsed": 2270,
     "status": "ok",
     "timestamp": 1600483923444,
     "user": {
      "displayName": "Víctor Jiménez Villar",
      "photoUrl": "https://lh3.googleusercontent.com/a-/AOh14GiGf6idc6Zl61Z_kJsNGzq1M9oX-I52mC-soZ1d=s64",
      "userId": "00192359867040618323"
     },
     "user_tz": 300
    },
    "id": "-w-LnjY0BgBd",
    "outputId": "138cd2c7-7486-4023-e545-74b8cefb6ab7"
   },
   "outputs": [
    {
     "data": {
      "text/plain": [
       "[12.96899965330848,\n",
       " 12.96899965330848,\n",
       " 12.96899965330848,\n",
       " 12.96899965330848,\n",
       " 12.96899965330848,\n",
       " 12.96899965330848,\n",
       " 12.96899965330848,\n",
       " 12.96899965330848,\n",
       " 12.96899965330848,\n",
       " 12.96899965330848]"
      ]
     },
     "execution_count": 75,
     "metadata": {},
     "output_type": "execute_result"
    }
   ],
   "source": [
    "no_aumento"
   ]
  },
  {
   "cell_type": "code",
   "execution_count": 101,
   "metadata": {
    "colab": {
     "base_uri": "https://localhost:8080/",
     "height": 281
    },
    "colab_type": "code",
    "executionInfo": {
     "elapsed": 2485,
     "status": "ok",
     "timestamp": 1600483923667,
     "user": {
      "displayName": "Víctor Jiménez Villar",
      "photoUrl": "https://lh3.googleusercontent.com/a-/AOh14GiGf6idc6Zl61Z_kJsNGzq1M9oX-I52mC-soZ1d=s64",
      "userId": "00192359867040618323"
     },
     "user_tz": 300
    },
    "id": "lLrIqAfWBgBe",
    "outputId": "9fb11426-4133-4afb-e618-f756f254d4d8"
   },
   "outputs": [
    {
     "data": {
      "image/png": "[encoded data removed]",
      "text/plain": [
       "<Figure size 432x288 with 1 Axes>"
      ]
     },
     "metadata": {
      "needs_background": "light"
     },
     "output_type": "display_data"
    }
   ],
   "source": [
    "beingsaved = plt.figure()\n",
    "plt.xticks(x, x)\n",
    "plt.plot(mean_scores)\n",
    "plt.plot(no_aumento)\n",
    "plt.legend([\"Aumento Xi2\", \"Sin aumento\"])\n",
    "beingsaved.savefig(\"promedio_comservadas.png\", format=\"png\")"
   ]
  },
  {
   "cell_type": "markdown",
   "metadata": {
    "colab_type": "text",
    "id": "HGKNooqYBgBf"
   },
   "source": [
    "***Variacion promedio de los valores p en cada aumento***"
   ]
  },
  {
   "cell_type": "code",
   "execution_count": 77,
   "metadata": {
    "colab": {},
    "colab_type": "code",
    "executionInfo": {
     "elapsed": 2478,
     "status": "ok",
     "timestamp": 1600483923668,
     "user": {
      "displayName": "Víctor Jiménez Villar",
      "photoUrl": "https://lh3.googleusercontent.com/a-/AOh14GiGf6idc6Zl61Z_kJsNGzq1M9oX-I52mC-soZ1d=s64",
      "userId": "00192359867040618323"
     },
     "user_tz": 300
    },
    "id": "NQSFiGLZBgBg"
   },
   "outputs": [],
   "source": [
    "\n",
    "mean_pvalues=[values.pval.mean() for values in original_words_scores]"
   ]
  },
  {
   "cell_type": "code",
   "execution_count": null,
   "metadata": {
    "colab": {},
    "colab_type": "code",
    "executionInfo": {
     "elapsed": 2472,
     "status": "ok",
     "timestamp": 1600483923669,
     "user": {
      "displayName": "Víctor Jiménez Villar",
      "photoUrl": "https://lh3.googleusercontent.com/a-/AOh14GiGf6idc6Zl61Z_kJsNGzq1M9oX-I52mC-soZ1d=s64",
      "userId": "00192359867040618323"
     },
     "user_tz": 300
    },
    "id": "FG25fs0GBgBi"
   },
   "outputs": [],
   "source": []
  },
  {
   "cell_type": "code",
   "execution_count": 78,
   "metadata": {
    "colab": {
     "base_uri": "https://localhost:8080/",
     "height": 184
    },
    "colab_type": "code",
    "executionInfo": {
     "elapsed": 2462,
     "status": "ok",
     "timestamp": 1600483923669,
     "user": {
      "displayName": "Víctor Jiménez Villar",
      "photoUrl": "https://lh3.googleusercontent.com/a-/AOh14GiGf6idc6Zl61Z_kJsNGzq1M9oX-I52mC-soZ1d=s64",
      "userId": "00192359867040618323"
     },
     "user_tz": 300
    },
    "id": "uc52QXtUBgBj",
    "outputId": "c3dcd934-60c4-4489-f1f8-228ca58708be"
   },
   "outputs": [
    {
     "data": {
      "text/plain": [
       "[0.03172721296365331,\n",
       " 0.02856742948741845,\n",
       " 0.026551910037278657,\n",
       " 0.02527524041006524,\n",
       " 0.024252998881640262,\n",
       " 0.02316058234855545,\n",
       " 0.022843842945013976,\n",
       " 0.022529993783783786,\n",
       " 0.022303132562907738,\n",
       " 0.02244181662628145]"
      ]
     },
     "execution_count": 78,
     "metadata": {},
     "output_type": "execute_result"
    }
   ],
   "source": [
    "mean_pvalues"
   ]
  },
  {
   "cell_type": "code",
   "execution_count": 108,
   "metadata": {
    "colab": {},
    "colab_type": "code",
    "executionInfo": {
     "elapsed": 2454,
     "status": "ok",
     "timestamp": 1600483923670,
     "user": {
      "displayName": "Víctor Jiménez Villar",
      "photoUrl": "https://lh3.googleusercontent.com/a-/AOh14GiGf6idc6Zl61Z_kJsNGzq1M9oX-I52mC-soZ1d=s64",
      "userId": "00192359867040618323"
     },
     "user_tz": 300
    },
    "id": "o39BzTsMBgBl"
   },
   "outputs": [
    {
     "data": {
      "image/png": "[encoded data removed]",
      "text/plain": [
       "<Figure size 432x288 with 1 Axes>"
      ]
     },
     "metadata": {
      "needs_background": "light"
     },
     "output_type": "display_data"
    }
   ],
   "source": [
    "beingsaved = plt.figure()\n",
    "plt.xticks(x, x)\n",
    "plt.plot(mean_pvalues)\n",
    "plt.plot(no_aumento2)\n",
    "plt.legend([\"Aumento Xi2\", \"Sin aumento\"])\n",
    "beingsaved.savefig(\"promediop_comservadas.png\", format=\"png\")"
   ]
  },
  {
   "cell_type": "code",
   "execution_count": 80,
   "metadata": {
    "colab": {
     "base_uri": "https://localhost:8080/",
     "height": 281
    },
    "colab_type": "code",
    "executionInfo": {
     "elapsed": 2643,
     "status": "ok",
     "timestamp": 1600483923868,
     "user": {
      "displayName": "Víctor Jiménez Villar",
      "photoUrl": "https://lh3.googleusercontent.com/a-/AOh14GiGf6idc6Zl61Z_kJsNGzq1M9oX-I52mC-soZ1d=s64",
      "userId": "00192359867040618323"
     },
     "user_tz": 300
    },
    "id": "oBEvtXjWBgBm",
    "outputId": "1a79239b-136b-4973-bc1c-2eef6196ad21"
   },
   "outputs": [
    {
     "data": {
      "text/plain": [
       "<matplotlib.legend.Legend at 0x2a1846dc288>"
      ]
     },
     "execution_count": 80,
     "metadata": {},
     "output_type": "execute_result"
    },
    {
     "data": {
      "image/png": "[encoded data removed]",
      "text/plain": [
       "<Figure size 432x288 with 1 Axes>"
      ]
     },
     "metadata": {
      "needs_background": "light"
     },
     "output_type": "display_data"
    }
   ],
   "source": []
  },
  {
   "cell_type": "markdown",
   "metadata": {
    "colab_type": "text",
    "id": "YqOl7IFwBgBn"
   },
   "source": [
    "***Podria decirse que la probabilidad de los terminos originales apartir de 5 no cambia***"
   ]
  },
  {
   "cell_type": "code",
   "execution_count": null,
   "metadata": {
    "colab": {},
    "colab_type": "code",
    "executionInfo": {
     "elapsed": 2639,
     "status": "ok",
     "timestamp": 1600483923870,
     "user": {
      "displayName": "Víctor Jiménez Villar",
      "photoUrl": "https://lh3.googleusercontent.com/a-/AOh14GiGf6idc6Zl61Z_kJsNGzq1M9oX-I52mC-soZ1d=s64",
      "userId": "00192359867040618323"
     },
     "user_tz": 300
    },
    "id": "Ol7ckE7sBgBn"
   },
   "outputs": [],
   "source": []
  }
 ],
 "metadata": {
  "colab": {
   "collapsed_sections": [],
   "name": "chi_cuadrada_analisis.ipynb",
   "provenance": []
  },
  "kernelspec": {
   "display_name": "Python 3",
   "language": "python",
   "name": "python3"
  },
  "language_info": {
   "codemirror_mode": {
    "name": "ipython",
    "version": 3
   },
   "file_extension": ".py",
   "mimetype": "text/x-python",
   "name": "python",
   "nbconvert_exporter": "python",
   "pygments_lexer": "ipython3",
   "version": "3.7.6"
  }
 },
 "nbformat": 4,
 "nbformat_minor": 4
}
