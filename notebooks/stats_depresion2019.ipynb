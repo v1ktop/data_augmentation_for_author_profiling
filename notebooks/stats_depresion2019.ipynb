{
 "cells": [
  {
   "cell_type": "markdown",
   "metadata": {
    "colab_type": "text",
    "id": "lh-asPJEI5eK"
   },
   "source": [
    "# Estadisiticas conjunto de depresión 2019"
   ]
  },
  {
   "cell_type": "code",
   "execution_count": 1,
   "metadata": {
    "colab": {
     "base_uri": "https://localhost:8080/",
     "height": 34
    },
    "colab_type": "code",
    "executionInfo": {
     "elapsed": 615,
     "status": "ok",
     "timestamp": 1579215150193,
     "user": {
      "displayName": "Victor Jimenez",
      "photoUrl": "https://lh3.googleusercontent.com/a-/AAuE7mBtFZuLx3oCNyvcXAzWRaAeQKTkCl8vASUiYrpRoA=s64",
      "userId": "04272784867653659299"
     },
     "user_tz": 360
    },
    "id": "CCWrnxI7CYd1",
    "outputId": "33f5bb58-1ad2-4f84-8b24-41f419e6f347"
   },
   "outputs": [],
   "source": [
    "#from google.colab import drive\n",
    "#drive.mount('/content/drive/')"
   ]
  },
  {
   "cell_type": "code",
   "execution_count": 2,
   "metadata": {
    "colab": {},
    "colab_type": "code",
    "id": "NqSCBoBdQQcI"
   },
   "outputs": [],
   "source": [
    "repo_dir=\"D:/v1ktop/Drive-INAOE/Code/data_aumentation_for_author_profiling/\"\n",
    "#'/content/drive/My Drive/REPOS/augmentation_ap/'"
   ]
  },
  {
   "cell_type": "code",
   "execution_count": 3,
   "metadata": {},
   "outputs": [],
   "source": [
    " %load_ext autoreload"
   ]
  },
  {
   "cell_type": "code",
   "execution_count": 4,
   "metadata": {},
   "outputs": [],
   "source": [
    " %autoreload 2"
   ]
  },
  {
   "cell_type": "code",
   "execution_count": 5,
   "metadata": {
    "colab": {},
    "colab_type": "code",
    "id": "bmuTm9OEFCsv"
   },
   "outputs": [],
   "source": [
    "import sys\n",
    "sys.path.append(repo_dir)"
   ]
  },
  {
   "cell_type": "code",
   "execution_count": 9,
   "metadata": {
    "colab": {},
    "colab_type": "code",
    "id": "4uUVieztQPwT"
   },
   "outputs": [],
   "source": [
    "from word_level_da.preprocessing.load_data import Dataset"
   ]
  },
  {
   "cell_type": "code",
   "execution_count": 10,
   "metadata": {
    "colab": {},
    "colab_type": "code",
    "id": "u1QLl5icQzUh"
   },
   "outputs": [],
   "source": [
    "#localdir=\"/content/drive/My Drive/DATA/erisk/2017/train/\"\n",
    "localdir=\"D:/corpus/DepresionEriskCollections/2019/train/\""
   ]
  },
  {
   "cell_type": "code",
   "execution_count": 11,
   "metadata": {
    "colab": {},
    "colab_type": "code",
    "id": "8oBcwmWAI5eO"
   },
   "outputs": [],
   "source": [
    "folder_name=\"prep_chunks\"\n",
    "truths_name=\"golden_truth.txt\"\n",
    "data_key=\"depresion19_local\""
   ]
  },
  {
   "cell_type": "code",
   "execution_count": 12,
   "metadata": {
    "colab": {},
    "colab_type": "code",
    "id": "49OL3mesI5eQ"
   },
   "outputs": [
    {
     "name": "stdout",
     "output_type": "stream",
     "text": [
      "D:\\v1ktop\\Drive-INAOE\\Code\\data_aumentation_for_author_profiling\\word_level_da\\\n"
     ]
    }
   ],
   "source": [
    "data= Dataset(key=data_key,  doc_len=64, min_len=int(64/2), chunking=False,  remove_end=False)"
   ]
  },
  {
   "cell_type": "code",
   "execution_count": 13,
   "metadata": {},
   "outputs": [],
   "source": [
    "training=data.get_dataset(folder_name=folder_name, truth_name=truths_name, \n",
    "                          partition=\"training\")"
   ]
  },
  {
   "cell_type": "code",
   "execution_count": 14,
   "metadata": {},
   "outputs": [
    {
     "data": {
      "text/plain": [
       "4"
      ]
     },
     "execution_count": 14,
     "metadata": {},
     "output_type": "execute_result"
    }
   ],
   "source": [
    "len(training)"
   ]
  },
  {
   "cell_type": "code",
   "execution_count": 15,
   "metadata": {},
   "outputs": [
    {
     "data": {
      "text/plain": [
       "820"
      ]
     },
     "execution_count": 15,
     "metadata": {},
     "output_type": "execute_result"
    }
   ],
   "source": [
    "len(training[0])"
   ]
  },
  {
   "cell_type": "code",
   "execution_count": 16,
   "metadata": {},
   "outputs": [
    {
     "data": {
      "text/plain": [
       "820"
      ]
     },
     "execution_count": 16,
     "metadata": {},
     "output_type": "execute_result"
    }
   ],
   "source": [
    "len(training[1])"
   ]
  },
  {
   "cell_type": "markdown",
   "metadata": {
    "colab_type": "text",
    "id": "aRs5O6OoI5eS"
   },
   "source": [
    "# Corpus Statistics"
   ]
  },
  {
   "cell_type": "code",
   "execution_count": null,
   "metadata": {},
   "outputs": [],
   "source": []
  },
  {
   "cell_type": "markdown",
   "metadata": {
    "colab_type": "text",
    "id": "rTvYjmfEI5eS"
   },
   "source": [
    "### Numero de documentos entrenamiento."
   ]
  },
  {
   "cell_type": "code",
   "execution_count": 18,
   "metadata": {},
   "outputs": [],
   "source": [
    "from word_level_da.classifier.explore_data import explore_data"
   ]
  },
  {
   "cell_type": "code",
   "execution_count": 19,
   "metadata": {},
   "outputs": [],
   "source": [
    "exp_cls=explore_data(training[0],training[1],plot_dir=localdir)"
   ]
  },
  {
   "cell_type": "code",
   "execution_count": 20,
   "metadata": {},
   "outputs": [
    {
     "data": {
      "text/plain": [
       "numpy.int32"
      ]
     },
     "execution_count": 20,
     "metadata": {},
     "output_type": "execute_result"
    }
   ],
   "source": [
    "type(training[1][0])"
   ]
  },
  {
   "cell_type": "code",
   "execution_count": 21,
   "metadata": {
    "colab": {
     "base_uri": "https://localhost:8080/",
     "height": 34
    },
    "colab_type": "code",
    "executionInfo": {
     "elapsed": 2146,
     "status": "ok",
     "timestamp": 1579215151784,
     "user": {
      "displayName": "Victor Jimenez",
      "photoUrl": "https://lh3.googleusercontent.com/a-/AAuE7mBtFZuLx3oCNyvcXAzWRaAeQKTkCl8vASUiYrpRoA=s64",
      "userId": "04272784867653659299"
     },
     "user_tz": 360
    },
    "id": "_jn3noTcI5eT",
    "outputId": "795a750e-afd8-40d9-dae8-ba861a7c72f0"
   },
   "outputs": [
    {
     "data": {
      "image/png": "[encoded data removed]",
      "text/plain": [
       "<Figure size 432x288 with 1 Axes>"
      ]
     },
     "metadata": {
      "needs_background": "light"
     },
     "output_type": "display_data"
    }
   ],
   "source": [
    "exp_cls.plot_class_distribution()"
   ]
  },
  {
   "cell_type": "markdown",
   "metadata": {
    "colab_type": "text",
    "id": "rTvYjmfEI5eS"
   },
   "source": [
    "### Numero de sub-documentos entrenamiento."
   ]
  },
  {
   "cell_type": "code",
   "execution_count": 22,
   "metadata": {},
   "outputs": [],
   "source": [
    "data.chunking=True\n",
    "training_chunks=data.get_dataset(folder_name=folder_name, truth_name=truths_name, \n",
    "                          partition=\"training\")"
   ]
  },
  {
   "cell_type": "code",
   "execution_count": 23,
   "metadata": {},
   "outputs": [],
   "source": [
    "exp_cls=explore_data(training_chunks[0],training_chunks[1],plot_dir=localdir)"
   ]
  },
  {
   "cell_type": "code",
   "execution_count": 24,
   "metadata": {
    "colab": {
     "base_uri": "https://localhost:8080/",
     "height": 34
    },
    "colab_type": "code",
    "executionInfo": {
     "elapsed": 2146,
     "status": "ok",
     "timestamp": 1579215151784,
     "user": {
      "displayName": "Victor Jimenez",
      "photoUrl": "https://lh3.googleusercontent.com/a-/AAuE7mBtFZuLx3oCNyvcXAzWRaAeQKTkCl8vASUiYrpRoA=s64",
      "userId": "04272784867653659299"
     },
     "user_tz": 360
    },
    "id": "_jn3noTcI5eT",
    "outputId": "795a750e-afd8-40d9-dae8-ba861a7c72f0"
   },
   "outputs": [
    {
     "data": {
      "image/png": "[encoded data removed]",
      "text/plain": [
       "<Figure size 432x288 with 1 Axes>"
      ]
     },
     "metadata": {
      "needs_background": "light"
     },
     "output_type": "display_data"
    }
   ],
   "source": [
    "exp_cls.plot_class_distribution()"
   ]
  },
  {
   "cell_type": "code",
   "execution_count": null,
   "metadata": {},
   "outputs": [],
   "source": []
  },
  {
   "cell_type": "markdown",
   "metadata": {
    "colab_type": "text",
    "id": "Uyc0uEU4I5eW"
   },
   "source": [
    "## Tamaño del vocabulario"
   ]
  },
  {
   "cell_type": "code",
   "execution_count": 30,
   "metadata": {
    "colab": {
     "base_uri": "https://localhost:8080/",
     "height": 63
    },
    "colab_type": "code",
    "executionInfo": {
     "elapsed": 3488,
     "status": "ok",
     "timestamp": 1579215153137,
     "user": {
      "displayName": "Victor Jimenez",
      "photoUrl": "https://lh3.googleusercontent.com/a-/AAuE7mBtFZuLx3oCNyvcXAzWRaAeQKTkCl8vASUiYrpRoA=s64",
      "userId": "04272784867653659299"
     },
     "user_tz": 360
    },
    "id": "AZAQzcaUI5eW",
    "outputId": "ee903383-5a39-4fa9-b679-849ecd999f57"
   },
   "outputs": [],
   "source": [
    "from word_level_da.classifier.feature_extraction import FeatureExtraction"
   ]
  },
  {
   "cell_type": "code",
   "execution_count": 32,
   "metadata": {
    "colab": {},
    "colab_type": "code",
    "id": "dQuQGbyPI5eY"
   },
   "outputs": [],
   "source": [
    "extractor=FeatureExtraction(docs_train=training[0], method=\"count\")\n",
    "vocab=extractor.cv.vocabulary_"
   ]
  },
  {
   "cell_type": "code",
   "execution_count": 33,
   "metadata": {
    "colab": {
     "base_uri": "https://localhost:8080/",
     "height": 34
    },
    "colab_type": "code",
    "executionInfo": {
     "elapsed": 9034,
     "status": "ok",
     "timestamp": 1579215158700,
     "user": {
      "displayName": "Victor Jimenez",
      "photoUrl": "https://lh3.googleusercontent.com/a-/AAuE7mBtFZuLx3oCNyvcXAzWRaAeQKTkCl8vASUiYrpRoA=s64",
      "userId": "04272784867653659299"
     },
     "user_tz": 360
    },
    "id": "RJ3eMiUaI5eb",
    "outputId": "0f672733-770e-4040-f4e4-7ad699fd7f60"
   },
   "outputs": [
    {
     "data": {
      "text/plain": [
       "198911"
      ]
     },
     "execution_count": 33,
     "metadata": {},
     "output_type": "execute_result"
    }
   ],
   "source": [
    "len(vocab)"
   ]
  },
  {
   "cell_type": "markdown",
   "metadata": {},
   "source": [
    "### Documentos de evaluación"
   ]
  },
  {
   "cell_type": "code",
   "execution_count": 34,
   "metadata": {},
   "outputs": [],
   "source": [
    "eval_data=data.get_dataset(folder_name=folder_name, truth_name=truths_name, \n",
    "                          partition=\"test\")"
   ]
  },
  {
   "cell_type": "code",
   "execution_count": 36,
   "metadata": {},
   "outputs": [
    {
     "data": {
      "text/plain": [
       "361"
      ]
     },
     "execution_count": 36,
     "metadata": {},
     "output_type": "execute_result"
    }
   ],
   "source": [
    "len(eval_data[0][0])"
   ]
  },
  {
   "cell_type": "code",
   "execution_count": 39,
   "metadata": {},
   "outputs": [],
   "source": [
    "exp_cls=explore_data(eval_data[0],eval_data[1],plot_dir=localdir)"
   ]
  },
  {
   "cell_type": "code",
   "execution_count": 40,
   "metadata": {},
   "outputs": [
    {
     "data": {
      "image/png": "[encoded data removed]",
      "text/plain": [
       "<Figure size 432x288 with 1 Axes>"
      ]
     },
     "metadata": {
      "needs_background": "light"
     },
     "output_type": "display_data"
    }
   ],
   "source": [
    "exp_cls.plot_class_distribution()"
   ]
  },
  {
   "cell_type": "code",
   "execution_count": null,
   "metadata": {
    "colab": {},
    "colab_type": "code",
    "id": "0e4xWYSgXIyD"
   },
   "outputs": [],
   "source": []
  }
 ],
 "metadata": {
  "colab": {
   "collapsed_sections": [
    "9KWi3dWTI5iE"
   ],
   "name": "Erisk-overview.ipynb",
   "provenance": []
  },
  "kernelspec": {
   "display_name": "Python 3",
   "language": "python",
   "name": "python3"
  },
  "language_info": {
   "codemirror_mode": {
    "name": "ipython",
    "version": 3
   },
   "file_extension": ".py",
   "mimetype": "text/x-python",
   "name": "python",
   "nbconvert_exporter": "python",
   "pygments_lexer": "ipython3",
   "version": "3.7.6"
  }
 },
 "nbformat": 4,
 "nbformat_minor": 4
}
