{
 "cells": [
  {
   "cell_type": "code",
   "execution_count": 1,
   "metadata": {},
   "outputs": [],
   "source": [
    "#repo_dir=\"D:/v1ktop/Drive/REPOS/augmentation_ap/\"\n",
    "repo_dir ='D:/v1ktop/Drive-INAOE/Code/data_aumentation_for_author_profiling/'\n",
    "%load_ext autoreload\n",
    "%autoreload 2\n",
    "import sys\n",
    "sys.path.append(repo_dir)"
   ]
  },
  {
   "cell_type": "code",
   "execution_count": 2,
   "metadata": {},
   "outputs": [],
   "source": [
    "from word_level_da.preprocessing.load_data import Dataset"
   ]
  },
  {
   "cell_type": "code",
   "execution_count": 4,
   "metadata": {},
   "outputs": [],
   "source": [
    "dataset_key=\"depresion18_local\"\n",
    "doc_len=64"
   ]
  },
  {
   "cell_type": "code",
   "execution_count": 5,
   "metadata": {},
   "outputs": [],
   "source": [
    "data= Dataset(key=dataset_key, encode=False, remove_end=False, doc_len=doc_len,\n",
    "                  min_len=int(doc_len/2), chunking=True)"
   ]
  },
  {
   "cell_type": "code",
   "execution_count": 7,
   "metadata": {},
   "outputs": [],
   "source": [
    "  ##Get dataset in chunks\n",
    "docs_train, truths_train, author_ids_train, (truths, lens ) = data.get_dataset(partition=\"training\",\n",
    "                                                                  folder_name=\"prep_chunks_val\",\n",
    "                                                                  truth_name=\"golden_truth_val.txt\"\n",
    "                                                                  )"
   ]
  },
  {
   "cell_type": "markdown",
   "metadata": {},
   "source": [
    "**Total de secuencias de 64 palabras en el conjunto de entrenamiento**"
   ]
  },
  {
   "cell_type": "code",
   "execution_count": 33,
   "metadata": {},
   "outputs": [
    {
     "data": {
      "text/plain": [
       "138232"
      ]
     },
     "execution_count": 33,
     "metadata": {},
     "output_type": "execute_result"
    }
   ],
   "source": [
    "len(docs_train)"
   ]
  },
  {
   "cell_type": "code",
   "execution_count": 9,
   "metadata": {},
   "outputs": [],
   "source": [
    "from word_level_da.augmentation.select_candidates import select_docs"
   ]
  },
  {
   "cell_type": "code",
   "execution_count": 76,
   "metadata": {},
   "outputs": [],
   "source": [
    "p_confidence=0.001\n",
    "max_ocurrence=15\n",
    "obj_label=0"
   ]
  },
  {
   "cell_type": "code",
   "execution_count": 15,
   "metadata": {},
   "outputs": [
    {
     "data": {
      "text/plain": [
       "0"
      ]
     },
     "execution_count": 15,
     "metadata": {},
     "output_type": "execute_result"
    }
   ],
   "source": []
  },
  {
   "cell_type": "code",
   "execution_count": 19,
   "metadata": {},
   "outputs": [],
   "source": [
    "selection = select_docs(docs_train, truths_train, author_ids_train, top_words_path=\"D:/\", top_words_file=\"D:/\")\n",
    "selection.get_top_words(confidence=p_confidence, docs_training=docs_train, labels_training=truths_train, save_words=True)"
   ]
  },
  {
   "cell_type": "code",
   "execution_count": 77,
   "metadata": {},
   "outputs": [],
   "source": [
    "cand_ids, cand_labels, cand_docs = selection.select_by_ocurrence(max_ocurrence=max_ocurrence, obj_label=obj_label)"
   ]
  },
  {
   "cell_type": "markdown",
   "metadata": {},
   "source": [
    "**Total de usuarios seleccionados**"
   ]
  },
  {
   "cell_type": "code",
   "execution_count": 78,
   "metadata": {},
   "outputs": [
    {
     "data": {
      "text/plain": [
       "401"
      ]
     },
     "execution_count": 78,
     "metadata": {},
     "output_type": "execute_result"
    }
   ],
   "source": [
    "len(set(cand_ids))"
   ]
  },
  {
   "cell_type": "markdown",
   "metadata": {},
   "source": [
    "**Total de secuencias filtradas**"
   ]
  },
  {
   "cell_type": "code",
   "execution_count": 79,
   "metadata": {},
   "outputs": [
    {
     "data": {
      "text/plain": [
       "65531"
      ]
     },
     "execution_count": 79,
     "metadata": {},
     "output_type": "execute_result"
    }
   ],
   "source": [
    "len(cand_docs)"
   ]
  },
  {
   "cell_type": "code",
   "execution_count": 82,
   "metadata": {},
   "outputs": [],
   "source": [
    "positive_class=selection.select_by_class(0)"
   ]
  },
  {
   "cell_type": "markdown",
   "metadata": {},
   "source": [
    "**Total de secuencias en la clase original**"
   ]
  },
  {
   "cell_type": "code",
   "execution_count": 83,
   "metadata": {},
   "outputs": [
    {
     "data": {
      "text/plain": [
       "118649"
      ]
     },
     "execution_count": 83,
     "metadata": {},
     "output_type": "execute_result"
    }
   ],
   "source": [
    "len(positive_class[0])"
   ]
  },
  {
   "cell_type": "markdown",
   "metadata": {},
   "source": [
    "**Palabras utilizadas para el filtro**"
   ]
  },
  {
   "cell_type": "code",
   "execution_count": 84,
   "metadata": {},
   "outputs": [
    {
     "data": {
      "text/plain": [
       "727"
      ]
     },
     "execution_count": 84,
     "metadata": {},
     "output_type": "execute_result"
    }
   ],
   "source": [
    "len(selection.top_words)"
   ]
  },
  {
   "cell_type": "code",
   "execution_count": 43,
   "metadata": {
    "collapsed": true,
    "jupyter": {
     "outputs_hidden": true
    }
   },
   "outputs": [
    {
     "data": {
      "text/plain": [
       "{'sleeping': True,\n",
       " 'sex': True,\n",
       " 'was': True,\n",
       " 'uhc': True,\n",
       " 'husband': True,\n",
       " 'depressed': True,\n",
       " 'wasd': True,\n",
       " 'submission': True,\n",
       " 'shawn': True,\n",
       " 'asleep': True,\n",
       " 'troll': True,\n",
       " 'depressive': True,\n",
       " 'anxiety': True,\n",
       " 'haha': True,\n",
       " 'undertaker': True,\n",
       " 'depression': True,\n",
       " 'family': True,\n",
       " 'am': True,\n",
       " 'witchery': True,\n",
       " 'maybe': True,\n",
       " 'relationship': True,\n",
       " 'youre': True,\n",
       " 'hazel': True,\n",
       " 'dota': True,\n",
       " 'yourself': True,\n",
       " 'going': True,\n",
       " 'think': True,\n",
       " 'me': True,\n",
       " 'vaseline': True,\n",
       " 'skadi': True,\n",
       " 'just': True,\n",
       " 'love': True,\n",
       " 'help': True,\n",
       " 'makeup': True,\n",
       " 'girl': True,\n",
       " 'school': True,\n",
       " 'she': True,\n",
       " 'government': True,\n",
       " 'meds': True,\n",
       " 'unattractive': True,\n",
       " 'but': True,\n",
       " 'face': True,\n",
       " 'laptop': True,\n",
       " 'day': True,\n",
       " 'pregnant': True,\n",
       " 'happy': True,\n",
       " 'hope': True,\n",
       " 'michaels': True,\n",
       " 'ill': True,\n",
       " 'psychiatrist': True,\n",
       " 'cleanser': True,\n",
       " 'had': True,\n",
       " 'hypermobility': True,\n",
       " 'nyx': True,\n",
       " 'aupair': True,\n",
       " 'my': True,\n",
       " 'friends': True,\n",
       " 'anxious': True,\n",
       " 'miserable': True,\n",
       " 'helps': True,\n",
       " 'keys': True,\n",
       " 'attractive': True,\n",
       " 'myself': True,\n",
       " 'to': True,\n",
       " 'instad': True,\n",
       " 'him': True,\n",
       " 'get': True,\n",
       " 'out': True,\n",
       " 'moisturizer': True,\n",
       " 'aghs': True,\n",
       " 'scars': True,\n",
       " 'night': True,\n",
       " 'bkb': True,\n",
       " 'doctors': True,\n",
       " 'cerave': True,\n",
       " 'mmr': True,\n",
       " 'lotion': True,\n",
       " 'having': True,\n",
       " 'because': True,\n",
       " 'sunscreen': True,\n",
       " 'thank': True,\n",
       " 'war': True,\n",
       " 'restrict': True,\n",
       " 'feelings': True,\n",
       " 'feeling': True,\n",
       " 'sleep': True,\n",
       " 'even': True,\n",
       " 'dont': True,\n",
       " 'neem': True,\n",
       " 'people': True,\n",
       " 'cafã': True,\n",
       " 'mindcrack': True,\n",
       " 'told': True,\n",
       " 'mindcrackers': True,\n",
       " 'want': True,\n",
       " 'alone': True,\n",
       " 'have': True,\n",
       " 'suicidal': True,\n",
       " 'diggle': True,\n",
       " 'gank': True,\n",
       " 'bed': True,\n",
       " 'tinker': True,\n",
       " 'yeah': True,\n",
       " 'do': True,\n",
       " 'bha': True,\n",
       " 'keto': True,\n",
       " 'emotionally': True,\n",
       " 'mood': True,\n",
       " 'valiant': True,\n",
       " 'blink': True,\n",
       " 'life': True,\n",
       " 'anything': True,\n",
       " 'crying': True,\n",
       " 'feel': True,\n",
       " 'neutrogena': True,\n",
       " 'appointment': True,\n",
       " 'pih': True,\n",
       " 'thanks': True,\n",
       " 'im': True,\n",
       " 'hero': True,\n",
       " 'heroes': True,\n",
       " 'you': True,\n",
       " 'it': True,\n",
       " 'qop': True,\n",
       " 'medication': True,\n",
       " 'routine': True,\n",
       " 'things': True,\n",
       " 'started': True,\n",
       " 'too': True,\n",
       " 'definitely': True,\n",
       " 'ocd': True,\n",
       " 'therapist': True,\n",
       " 'kp': True,\n",
       " 'calvin': True,\n",
       " 'lipstick': True,\n",
       " 'therapy': True,\n",
       " 'new': True,\n",
       " 'when': True,\n",
       " 'try': True,\n",
       " 'time': True,\n",
       " 'uncomfortable': True,\n",
       " 'felt': True,\n",
       " 'friend': True,\n",
       " 'cymbalta': True,\n",
       " 'hobbes': True,\n",
       " 'melatonin': True,\n",
       " 'really': True,\n",
       " 'skin': True,\n",
       " 'hair': True,\n",
       " 'lina': True,\n",
       " 'contour': True,\n",
       " 'emotional': True,\n",
       " 'sr': True,\n",
       " 'mkb': True,\n",
       " 'like': True,\n",
       " 'anderz': True,\n",
       " 'andnbsp': True,\n",
       " 'odst': True,\n",
       " 'know': True,\n",
       " 'antidepressants': True,\n",
       " 'cant': True,\n",
       " 'and': True,\n",
       " 'http': True,\n",
       " 'kayfabe': True,\n",
       " 'fetish': True,\n",
       " 'though': True,\n",
       " 'weeks': True,\n",
       " 'panic': True,\n",
       " 'okay': True,\n",
       " 'tried': True,\n",
       " 'dad': True,\n",
       " 'so': True,\n",
       " 'sometimes': True,\n",
       " 'prozac': True,\n",
       " 'person': True,\n",
       " 'women': True,\n",
       " 'boyfriend': True,\n",
       " 'diagnosed': True,\n",
       " 'sandman': True,\n",
       " 'pain': True,\n",
       " 'zoloft': True,\n",
       " 'mom': True,\n",
       " 'acne': True,\n",
       " 'aha': True,\n",
       " 'ehlersdanlos': True,\n",
       " 'someone': True,\n",
       " 'doctor': True,\n",
       " 'advice': True,\n",
       " 'wrestlers': True,\n",
       " 'pcos': True,\n",
       " 'cbt': True,\n",
       " 'wrestlemania': True,\n",
       " 'parents': True,\n",
       " 'being': True,\n",
       " 'talk': True,\n",
       " 'obama': True,\n",
       " 'if': True,\n",
       " 'something': True,\n",
       " 'her': True,\n",
       " 'go': True,\n",
       " 'author': True,\n",
       " 'nervous': True,\n",
       " 'the': True,\n",
       " 'hydrox': True,\n",
       " 'shes': True,\n",
       " 'ive': True,\n",
       " 'trp': True,\n",
       " 'celtic': True,\n",
       " 'childcare': True,\n",
       " 'through': True,\n",
       " 'stay': True,\n",
       " 'offlane': True,\n",
       " 'hugs': True,\n",
       " 'eblade': True,\n",
       " 'stridex': True,\n",
       " 'president': True,\n",
       " 'eds': True,\n",
       " 'kids': True,\n",
       " 'symptoms': True,\n",
       " 'physically': True,\n",
       " 'breakouts': True,\n",
       " 'counselling': True,\n",
       " 'police': True,\n",
       " 'he': True,\n",
       " 'orton': True,\n",
       " 'sniper': True,\n",
       " 'wwe': True,\n",
       " 'much': True,\n",
       " 'rosh': True,\n",
       " 'personality': True,\n",
       " 'always': True,\n",
       " 'trying': True,\n",
       " 'dotabuff': True,\n",
       " 'awake': True,\n",
       " 'now': True,\n",
       " 'scared': True,\n",
       " 'mental': True,\n",
       " 'political': True,\n",
       " 'state': True,\n",
       " 'bp': True,\n",
       " 'didnt': True,\n",
       " 'article': True,\n",
       " 'dating': True,\n",
       " 'exhausted': True,\n",
       " 'feels': True,\n",
       " 'mana': True,\n",
       " 'can': True,\n",
       " 'spf': True,\n",
       " 'millbee': True,\n",
       " 'american': True,\n",
       " 'pregnancy': True,\n",
       " 'peerreviewed': True,\n",
       " 'bernie': True,\n",
       " 'since': True,\n",
       " 'rhys': True,\n",
       " 'sorry': True,\n",
       " 'talked': True,\n",
       " 'aspd': True,\n",
       " 'situation': True,\n",
       " 'anyway': True,\n",
       " 'liverpool': True,\n",
       " 'naturals': True,\n",
       " 'data': True,\n",
       " 'up': True,\n",
       " 'crps': True,\n",
       " 'disorder': True,\n",
       " 'cia': True,\n",
       " 'cheated': True,\n",
       " 'thayers': True,\n",
       " 'pubs': True,\n",
       " 'ob': True,\n",
       " 'baby': True,\n",
       " 'ocm': True,\n",
       " 'iraq': True,\n",
       " 'cleavage': True,\n",
       " 'euls': True,\n",
       " 'sociable': True,\n",
       " 'search': True,\n",
       " 'girlfriend': True,\n",
       " 'attracted': True,\n",
       " 'felicity': True,\n",
       " 'glycolic': True,\n",
       " 'exfoliating': True,\n",
       " 'difficult': True,\n",
       " 'chad': True,\n",
       " 'lot': True,\n",
       " 'hard': True,\n",
       " 'still': True,\n",
       " 'doing': True,\n",
       " 'didn': True,\n",
       " 'olicity': True,\n",
       " 'sanders': True,\n",
       " 'job': True,\n",
       " 'cried': True,\n",
       " 'states': True,\n",
       " 'usually': True,\n",
       " 'prescribed': True,\n",
       " 'counsellor': True,\n",
       " 'about': True,\n",
       " 'mother': True,\n",
       " 'anemia': True,\n",
       " 'cervix': True,\n",
       " 'calvins': True,\n",
       " 'hannover': True,\n",
       " 'oily': True,\n",
       " 'normal': True,\n",
       " 'getting': True,\n",
       " 'foaming': True,\n",
       " 'movie': True,\n",
       " 'thoughts': True,\n",
       " 'dress': True,\n",
       " 'removed': True,\n",
       " 'id': True,\n",
       " 'moisturizing': True,\n",
       " 'with': True,\n",
       " 'military': True,\n",
       " 'understand': True,\n",
       " 'news': True,\n",
       " 'mg': True,\n",
       " 'months': True,\n",
       " 'need': True,\n",
       " 'honestly': True,\n",
       " 'nebris': True,\n",
       " 'com': True,\n",
       " 'overview': True,\n",
       " 'clothes': True,\n",
       " 'sucks': True,\n",
       " 'medications': True,\n",
       " 'osteoarthritis': True,\n",
       " 'moisturized': True,\n",
       " 'triple': True,\n",
       " 'else': True,\n",
       " 'ellie': True,\n",
       " 'couple': True,\n",
       " 'bloodseeker': True,\n",
       " 'basher': True,\n",
       " 'climate': True,\n",
       " 'wrestler': True,\n",
       " 'whenever': True,\n",
       " 'metformin': True,\n",
       " 'weaver': True,\n",
       " 'salicylic': True,\n",
       " 'mum': True,\n",
       " 'supportive': True,\n",
       " 'troop': True,\n",
       " 'ex': True,\n",
       " 'insomnia': True,\n",
       " 'by': True,\n",
       " 'sweater': True,\n",
       " 'rheumatologist': True,\n",
       " 'around': True,\n",
       " 'girls': True,\n",
       " 'labo': True,\n",
       " 'hado': True,\n",
       " 'care': True,\n",
       " 'federal': True,\n",
       " 'minutes': True,\n",
       " 'legs': True,\n",
       " 'illness': True,\n",
       " 'week': True,\n",
       " 'venting': True,\n",
       " 'farming': True,\n",
       " 'unranked': True,\n",
       " 'moisturize': True,\n",
       " 'wanted': True,\n",
       " 'then': True,\n",
       " 'emotions': True,\n",
       " 'skill': True,\n",
       " 'adorable': True,\n",
       " 'tired': True,\n",
       " 'chin': True,\n",
       " 'again': True,\n",
       " 'research': True,\n",
       " 'anymore': True,\n",
       " 'upset': True,\n",
       " 'global': True,\n",
       " 'serotonin': True,\n",
       " 'team': True,\n",
       " 'tell': True,\n",
       " 'linkens': True,\n",
       " 'somnophiliac': True,\n",
       " 'xanax': True,\n",
       " 'exhausting': True,\n",
       " 'hurt': True,\n",
       " 'creeps': True,\n",
       " 'child': True,\n",
       " 'extremely': True,\n",
       " 'instocktrades': True,\n",
       " 'never': True,\n",
       " 'find': True,\n",
       " 'whatever': True,\n",
       " 'helped': True,\n",
       " 'farm': True,\n",
       " 'constantly': True,\n",
       " 'skincare': True,\n",
       " 'exfoliate': True,\n",
       " 'iran': True,\n",
       " 'enjoy': True,\n",
       " 'bdubs': True,\n",
       " 'went': True,\n",
       " 'gorgeous': True,\n",
       " 'trazadone': True,\n",
       " 'relate': True,\n",
       " 'got': True,\n",
       " 'law': True,\n",
       " 'ganked': True,\n",
       " 'choir': True,\n",
       " 'slark': True,\n",
       " 'suarez': True,\n",
       " 'vote': True,\n",
       " 'national': True,\n",
       " 'nursery': True,\n",
       " 'ovulation': True,\n",
       " 'amlactin': True,\n",
       " 'swelling': True,\n",
       " 'cope': True,\n",
       " 'prices': True,\n",
       " 'convergence': True,\n",
       " 'bit': True,\n",
       " 'pa': True,\n",
       " 'tub': True,\n",
       " 'breathing': True,\n",
       " 'alucard': True,\n",
       " 'clinton': True,\n",
       " 'kind': True,\n",
       " 'everything': True,\n",
       " 'cars': True,\n",
       " 'wish': True,\n",
       " 'glad': True,\n",
       " 'orgasm': True,\n",
       " 'republican': True,\n",
       " 'relationships': True,\n",
       " 'pimples': True,\n",
       " 'evidence': True,\n",
       " 'bush': True,\n",
       " 'makes': True,\n",
       " 'take': True,\n",
       " 'pretty': True,\n",
       " 'baj': True,\n",
       " 'diagnosis': True,\n",
       " 'snail': True,\n",
       " 'thankfully': True,\n",
       " 'work': True,\n",
       " 'alpha': True,\n",
       " 'female': True,\n",
       " 'movies': True,\n",
       " 'israel': True,\n",
       " 'terrified': True,\n",
       " 'thinking': True,\n",
       " 'selfesteem': True,\n",
       " 'chronic': True,\n",
       " 'bray': True,\n",
       " 'republicans': True,\n",
       " 'wattpad': True,\n",
       " 'telling': True,\n",
       " 'viper': True,\n",
       " 'market': True,\n",
       " 'report': True,\n",
       " 'legia': True,\n",
       " 'offleash': True,\n",
       " 'mass': True,\n",
       " 'little': True,\n",
       " 'gluten': True,\n",
       " 'away': True,\n",
       " 'aegis': True,\n",
       " 'vyvanse': True,\n",
       " 'pick': True,\n",
       " 'system': True,\n",
       " 'luvox': True,\n",
       " 'vechs': True,\n",
       " 'broke': True,\n",
       " 'enough': True,\n",
       " 'worse': True,\n",
       " 'bf': True,\n",
       " 'comforting': True,\n",
       " 'pudge': True,\n",
       " 'benton': True,\n",
       " 'counseling': True,\n",
       " 'partner': True,\n",
       " 'treads': True,\n",
       " 'sledgehammer': True,\n",
       " 'how': True,\n",
       " 'roshan': True,\n",
       " 'warlord': True,\n",
       " 'coldplay': True,\n",
       " 'bill': True,\n",
       " 'celiac': True,\n",
       " 'asocial': True,\n",
       " 'kissed': True,\n",
       " 'trpers': True,\n",
       " 'power': True,\n",
       " 'rune': True,\n",
       " 'piggies': True,\n",
       " 'nuclear': True,\n",
       " 'blablabla': True,\n",
       " 'or': True,\n",
       " 'politics': True,\n",
       " 'gun': True,\n",
       " 'contractions': True,\n",
       " 'gop': True,\n",
       " 'heels': True,\n",
       " 'midas': True,\n",
       " 'dizziness': True,\n",
       " 'austin': True,\n",
       " 'guess': True,\n",
       " 'awful': True,\n",
       " 'price': True,\n",
       " 'epidural': True,\n",
       " 'million': True,\n",
       " 'spiders': True,\n",
       " 'severe': True,\n",
       " 'uterus': True,\n",
       " 'diffusal': True,\n",
       " 'trimester': True,\n",
       " 'submitted': True,\n",
       " 'isis': True,\n",
       " 'clinically': True,\n",
       " 'pantyhose': True,\n",
       " 'contortionist': True,\n",
       " 'sexual': True,\n",
       " 'weaned': True,\n",
       " 'batrider': True,\n",
       " 'honest': True,\n",
       " 'botania': True,\n",
       " 'tramadol': True,\n",
       " 'until': True,\n",
       " 'study': True,\n",
       " 'lexapro': True,\n",
       " 'congress': True,\n",
       " 'play': True,\n",
       " 'physical': True,\n",
       " 'wards': True,\n",
       " 'washington': True,\n",
       " 'axe': True,\n",
       " 'overheats': True,\n",
       " 'hate': True,\n",
       " 'ear': True,\n",
       " 'shower': True,\n",
       " 'that': True,\n",
       " 'media': True,\n",
       " 'anyone': True,\n",
       " 'tampon': True,\n",
       " 'lykke': True,\n",
       " 'fwb': True,\n",
       " 'references': True,\n",
       " 'mind': True,\n",
       " 'arkas': True,\n",
       " 'generikb': True,\n",
       " 'jug': True,\n",
       " 'nasa': True,\n",
       " 'ovulating': True,\n",
       " 'gpm': True,\n",
       " 'back': True,\n",
       " 'montreal': True,\n",
       " 'slade': True,\n",
       " 'tips': True,\n",
       " 'csgo': True,\n",
       " 'spectre': True,\n",
       " 'exfoliation': True,\n",
       " 'hillary': True,\n",
       " 'tarantulas': True,\n",
       " 'better': True,\n",
       " 'hurts': True,\n",
       " 'lately': True,\n",
       " 'twostory': True,\n",
       " 'taking': True,\n",
       " 'woke': True,\n",
       " 'obsessions': True,\n",
       " 'lesnar': True,\n",
       " 'lesbians': True,\n",
       " 'paul': True,\n",
       " 'fph': True,\n",
       " 'security': True,\n",
       " 'stormcloaks': True,\n",
       " 'dispenser': True,\n",
       " 'tbqh': True,\n",
       " 'angry': True,\n",
       " 'them': True,\n",
       " 'billion': True,\n",
       " 'mine': True,\n",
       " 'court': True,\n",
       " 'able': True,\n",
       " 'buspar': True,\n",
       " 'united': True,\n",
       " 'pierced': True,\n",
       " 'merlyn': True,\n",
       " 'situations': True,\n",
       " 'review': True,\n",
       " 'randomed': True,\n",
       " 'california': True,\n",
       " 'bracket': True,\n",
       " 'venlafaxine': True,\n",
       " 'tp': True,\n",
       " 'guude': True,\n",
       " 'klonopin': True,\n",
       " 'intimate': True,\n",
       " 'apple': True,\n",
       " 'miscarriage': True,\n",
       " 'prison': True,\n",
       " 'cleanse': True,\n",
       " 'fibromyalga': True,\n",
       " 'ebola': True,\n",
       " 'exotic': True,\n",
       " 'tmj': True,\n",
       " 'glutenfree': True,\n",
       " 'russia': True,\n",
       " 'hawkman': True,\n",
       " 'sick': True,\n",
       " 'bestfriend': True,\n",
       " 'psychotherapist': True,\n",
       " 'recently': True,\n",
       " 'wondering': True,\n",
       " 'fanfiction': True,\n",
       " 'rand': True,\n",
       " 'weird': True,\n",
       " 'campaign': True,\n",
       " 'be': True,\n",
       " 'scrupulosity': True,\n",
       " 'sims': True,\n",
       " 'prescription': True,\n",
       " 'bumpy': True,\n",
       " 'geomancer': True,\n",
       " 'nsa': True,\n",
       " 'everythingscience': True,\n",
       " 'army': True,\n",
       " 'pill': True,\n",
       " 'medea': True,\n",
       " 'eyebrows': True,\n",
       " 'arrow': True,\n",
       " 'film': True,\n",
       " 'fragrance': True,\n",
       " 'semester': True,\n",
       " 'juggernaut': True,\n",
       " 'lovely': True,\n",
       " 'its': True,\n",
       " 'policy': True,\n",
       " 'abyssal': True,\n",
       " 'progesterone': True,\n",
       " 'gallbladder': True,\n",
       " 'would': True,\n",
       " 'comfortable': True,\n",
       " 'celexa': True,\n",
       " 'outfarm': True,\n",
       " 'daydream': True,\n",
       " 'sexualizing': True,\n",
       " 'drying': True,\n",
       " 'at': True,\n",
       " 'sunflower': True,\n",
       " 'stress': True,\n",
       " 'bloodshot': True,\n",
       " 'motivation': True,\n",
       " 'pl': True,\n",
       " 'sexually': True,\n",
       " 'times': True,\n",
       " 'international': True,\n",
       " 'xbl': True,\n",
       " 'stomach': True,\n",
       " 'fevers': True,\n",
       " 'ultrasounds': True,\n",
       " 'also': True,\n",
       " 'bloodstone': True,\n",
       " 'headaches': True,\n",
       " 'stressed': True,\n",
       " 'tax': True,\n",
       " 'boyfriends': True,\n",
       " 'magnus': True,\n",
       " 'quests': True,\n",
       " 'ursa': True,\n",
       " 'wanting': True,\n",
       " 'mineral': True,\n",
       " 'been': True,\n",
       " 'calibrated': True,\n",
       " 'lutheran': True,\n",
       " 'connective': True,\n",
       " 'lorazepam': True,\n",
       " 'afraid': True,\n",
       " 'android': True,\n",
       " 'aunt': True,\n",
       " 'thing': True,\n",
       " 'conspiracy': True,\n",
       " 'china': True,\n",
       " 'vertigo': True,\n",
       " 'car': True,\n",
       " 'intimacy': True,\n",
       " 'hypermobile': True,\n",
       " 'ivar': True,\n",
       " 'public': True,\n",
       " 'hes': True,\n",
       " 'ortons': True,\n",
       " 'scientists': True,\n",
       " 'psych': True,\n",
       " 'zxcvfr': True,\n",
       " 'selfconscious': True,\n",
       " 'economic': True,\n",
       " 'gasin': True,\n",
       " 'oh': True,\n",
       " 'childfree': True,\n",
       " 'crutches': True,\n",
       " 'industry': True,\n",
       " 'kane': True,\n",
       " 'hypothyroidism': True,\n",
       " 'tumblr': True,\n",
       " 'constantine': True,\n",
       " 'gabapentin': True,\n",
       " 'ganking': True,\n",
       " 'discouraged': True,\n",
       " 'tf': True,\n",
       " 'narcotics': True,\n",
       " 'showering': True,\n",
       " 'mycareer': True,\n",
       " 'guys': True,\n",
       " 'piggie': True,\n",
       " 'spiderbro': True,\n",
       " 'cyst': True,\n",
       " 'experiences': True,\n",
       " 'clinique': True,\n",
       " 'htp': True,\n",
       " 'films': True,\n",
       " 'kunkka': True,\n",
       " 'doll': True,\n",
       " 'whiteheads': True,\n",
       " 'bteam': True,\n",
       " 'decided': True,\n",
       " 'forces': True,\n",
       " 'book': True,\n",
       " 'applying': True,\n",
       " 'til': True}"
      ]
     },
     "execution_count": 43,
     "metadata": {},
     "output_type": "execute_result"
    }
   ],
   "source": [
    "selection.top_words"
   ]
  },
  {
   "cell_type": "markdown",
   "metadata": {},
   "source": [
    "**Guardar secuencias como documentos**"
   ]
  },
  {
   "cell_type": "code",
   "execution_count": 85,
   "metadata": {},
   "outputs": [],
   "source": [
    "from collections import defaultdict"
   ]
  },
  {
   "cell_type": "code",
   "execution_count": 86,
   "metadata": {},
   "outputs": [],
   "source": [
    "uniques_ids_neg = defaultdict(list)\n",
    "for c_id, c_label, c_doc in zip(cand_ids, cand_labels, cand_docs):\n",
    "    uniques_ids_neg[c_id].append(c_doc)"
   ]
  },
  {
   "cell_type": "code",
   "execution_count": null,
   "metadata": {},
   "outputs": [],
   "source": []
  },
  {
   "cell_type": "markdown",
   "metadata": {},
   "source": []
  },
  {
   "cell_type": "code",
   "execution_count": 87,
   "metadata": {},
   "outputs": [],
   "source": [
    "import numpy as np"
   ]
  },
  {
   "cell_type": "code",
   "execution_count": 88,
   "metadata": {},
   "outputs": [],
   "source": [
    "from word_level_da.preprocessing.process_data import ProcessData"
   ]
  },
  {
   "cell_type": "code",
   "execution_count": null,
   "metadata": {},
   "outputs": [],
   "source": []
  },
  {
   "cell_type": "code",
   "execution_count": 89,
   "metadata": {},
   "outputs": [],
   "source": [
    "neg_lab=[0]*len(uniques_ids_neg.keys())"
   ]
  },
  {
   "cell_type": "code",
   "execution_count": 90,
   "metadata": {},
   "outputs": [],
   "source": [
    "neg_ids=list(uniques_ids_neg.keys())"
   ]
  },
  {
   "cell_type": "code",
   "execution_count": 91,
   "metadata": {},
   "outputs": [
    {
     "data": {
      "text/plain": [
       "401"
      ]
     },
     "execution_count": 91,
     "metadata": {},
     "output_type": "execute_result"
    }
   ],
   "source": [
    "len(neg_lab)"
   ]
  },
  {
   "cell_type": "code",
   "execution_count": 92,
   "metadata": {},
   "outputs": [
    {
     "data": {
      "text/plain": [
       "True"
      ]
     },
     "execution_count": 92,
     "metadata": {},
     "output_type": "execute_result"
    }
   ],
   "source": [
    "ProcessData.write_labels(neg_ids, neg_lab,\n",
    "                         r\"D:\\corpus\\DepresionEriskCollections\\2017\\train\"\n",
    "                         ,\"golden_truth_val_filtered0.txt\")"
   ]
  },
  {
   "cell_type": "code",
   "execution_count": 93,
   "metadata": {},
   "outputs": [],
   "source": [
    "all_docs=[]"
   ]
  },
  {
   "cell_type": "code",
   "execution_count": 94,
   "metadata": {},
   "outputs": [],
   "source": [
    "all_ids=neg_ids"
   ]
  },
  {
   "cell_type": "code",
   "execution_count": 95,
   "metadata": {},
   "outputs": [],
   "source": [
    "uniques_ids_pos=[]"
   ]
  },
  {
   "cell_type": "code",
   "execution_count": 79,
   "metadata": {},
   "outputs": [],
   "source": [
    "#\" \".join(uniques_ids_neg[all_ids[0]])"
   ]
  },
  {
   "cell_type": "code",
   "execution_count": 96,
   "metadata": {},
   "outputs": [],
   "source": [
    "for id_docs in all_ids:\n",
    "    if id_docs in uniques_ids_pos:\n",
    "        all_docs.append(uniques_ids_pos[id_docs])\n",
    "    else:\n",
    "        all_docs.append(uniques_ids_neg[id_docs])\n",
    "        "
   ]
  },
  {
   "cell_type": "code",
   "execution_count": 97,
   "metadata": {},
   "outputs": [
    {
     "data": {
      "text/plain": [
       "401"
      ]
     },
     "execution_count": 97,
     "metadata": {},
     "output_type": "execute_result"
    }
   ],
   "source": [
    "len(all_docs)"
   ]
  },
  {
   "cell_type": "code",
   "execution_count": null,
   "metadata": {},
   "outputs": [],
   "source": []
  },
  {
   "cell_type": "code",
   "execution_count": 98,
   "metadata": {},
   "outputs": [],
   "source": [
    "ProcessData.plain_docs_to_txt(all_ids, all_docs, \n",
    "                                     r\"D:\\corpus\\DepresionEriskCollections\\2017\\train\",\n",
    "                                     \"prep_chunks_val_filtered\")"
   ]
  },
  {
   "cell_type": "code",
   "execution_count": null,
   "metadata": {},
   "outputs": [],
   "source": []
  }
 ],
 "metadata": {
  "kernelspec": {
   "display_name": "Python 3",
   "language": "python",
   "name": "python3"
  },
  "language_info": {
   "codemirror_mode": {
    "name": "ipython",
    "version": 3
   },
   "file_extension": ".py",
   "mimetype": "text/x-python",
   "name": "python",
   "nbconvert_exporter": "python",
   "pygments_lexer": "ipython3",
   "version": "3.7.6"
  }
 },
 "nbformat": 4,
 "nbformat_minor": 4
}
