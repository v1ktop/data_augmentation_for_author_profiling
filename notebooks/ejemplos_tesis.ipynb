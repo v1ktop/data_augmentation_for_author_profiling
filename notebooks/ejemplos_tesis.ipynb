{
 "cells": [
  {
   "cell_type": "markdown",
   "metadata": {},
   "source": [
    "## Bolsa de palabras"
   ]
  },
  {
   "cell_type": "code",
   "execution_count": 7,
   "metadata": {},
   "outputs": [],
   "source": [
    "original=\"Informalmente , un algoritmo es cualquier procedimiento computacional bien definido que recibe algun valor , o conjunto de valores , como entrada y produce un valor , o conjunto de valores , como salida . Un algoritmo es entonces un conjunto de pasos computaciones que transforman la entrada en la salida .\""
   ]
  },
  {
   "cell_type": "code",
   "execution_count": 8,
   "metadata": {},
   "outputs": [],
   "source": [
    "tokens=original.split()"
   ]
  },
  {
   "cell_type": "code",
   "execution_count": 9,
   "metadata": {},
   "outputs": [],
   "source": [
    "bow=set(tokens)"
   ]
  },
  {
   "cell_type": "code",
   "execution_count": 11,
   "metadata": {},
   "outputs": [
    {
     "name": "stdout",
     "output_type": "stream",
     "text": [
      "procedimiento\n",
      "valores\n",
      "algoritmo\n",
      "bien\n",
      "de\n",
      "o\n",
      "que\n",
      "algun\n",
      "como\n",
      "valor\n",
      "salida\n",
      "transforman\n",
      "pasos\n",
      "recibe\n",
      "computaciones\n",
      "computacional\n",
      ",\n",
      "Un\n",
      "la\n",
      "definido\n",
      "cualquier\n",
      "en\n",
      "Informalmente\n",
      "es\n",
      "produce\n",
      ".\n",
      "un\n",
      "entonces\n",
      "entrada\n",
      "conjunto\n",
      "y\n"
     ]
    }
   ],
   "source": [
    "vector=[]\n",
    "for word in bow:\n",
    "    print(word)\n",
    "    count=0\n",
    "    for w2 in tokens:\n",
    "        if word==w2:\n",
    "            count+=1\n",
    "    vector.append(count)\n",
    "    "
   ]
  },
  {
   "cell_type": "code",
   "execution_count": 13,
   "metadata": {},
   "outputs": [
    {
     "name": "stdout",
     "output_type": "stream",
     "text": [
      "[1, 2, 2, 1, 3, 2, 2, 1, 2, 2, 2, 1, 1, 1, 1, 1, 5, 1, 2, 1, 1, 1, 1, 2, 1, 2, 3, 1, 2, 3, 1]\n"
     ]
    }
   ],
   "source": [
    "print(vector)"
   ]
  },
  {
   "cell_type": "markdown",
   "metadata": {},
   "source": [
    "## Etiqueta POS"
   ]
  },
  {
   "cell_type": "code",
   "execution_count": 1,
   "metadata": {},
   "outputs": [],
   "source": [
    "import nltk\n",
    "from nltk import *"
   ]
  },
  {
   "cell_type": "code",
   "execution_count": 13,
   "metadata": {},
   "outputs": [],
   "source": [
    "secuencia_original=\"I am running out of ideas\""
   ]
  },
  {
   "cell_type": "code",
   "execution_count": 16,
   "metadata": {},
   "outputs": [
    {
     "data": {
      "text/plain": [
       "['I', 'am', 'running', 'out', 'of', 'ideas']"
      ]
     },
     "execution_count": 16,
     "metadata": {},
     "output_type": "execute_result"
    }
   ],
   "source": [
    "secuencia_original.split(\" \")"
   ]
  },
  {
   "cell_type": "code",
   "execution_count": 15,
   "metadata": {},
   "outputs": [
    {
     "data": {
      "text/plain": [
       "[('I', 'PRP'),\n",
       " ('am', 'VBP'),\n",
       " ('running', 'VBG'),\n",
       " ('out', 'IN'),\n",
       " ('of', 'IN'),\n",
       " ('ideas', 'NNS')]"
      ]
     },
     "execution_count": 15,
     "metadata": {},
     "output_type": "execute_result"
    }
   ],
   "source": [
    "nltk.pos_tag(secuencia_original.split(\" \"))"
   ]
  },
  {
   "cell_type": "code",
   "execution_count": null,
   "metadata": {},
   "outputs": [],
   "source": []
  }
 ],
 "metadata": {
  "kernelspec": {
   "display_name": "Python 3",
   "language": "python",
   "name": "python3"
  },
  "language_info": {
   "codemirror_mode": {
    "name": "ipython",
    "version": 3
   },
   "file_extension": ".py",
   "mimetype": "text/x-python",
   "name": "python",
   "nbconvert_exporter": "python",
   "pygments_lexer": "ipython3",
   "version": "3.7.6"
  }
 },
 "nbformat": 4,
 "nbformat_minor": 4
}
