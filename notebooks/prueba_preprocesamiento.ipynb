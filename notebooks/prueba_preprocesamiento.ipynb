{
 "cells": [
  {
   "cell_type": "code",
   "execution_count": 114,
   "metadata": {},
   "outputs": [
    {
     "name": "stderr",
     "output_type": "stream",
     "text": [
      "[nltk_data] Downloading package punkt to\n",
      "[nltk_data]     C:\\Users\\v1kto\\AppData\\Roaming\\nltk_data...\n",
      "[nltk_data]   Package punkt is already up-to-date!\n"
     ]
    },
    {
     "data": {
      "text/plain": [
       "True"
      ]
     },
     "execution_count": 114,
     "metadata": {},
     "output_type": "execute_result"
    }
   ],
   "source": [
    "import re\n",
    "import preprocesing.preprocessor as prep\n",
    "import nltk\n",
    "nltk.download('punkt')"
   ]
  },
  {
   "cell_type": "code",
   "execution_count": 115,
   "metadata": {},
   "outputs": [
    {
     "data": {
      "text/plain": [
       "<module 'preprocesing.preprocessor' from 'D:\\\\v1ktop\\\\Repos\\\\gender-augmented\\\\preprocesing\\\\preprocessor.py'>"
      ]
     },
     "execution_count": 115,
     "metadata": {},
     "output_type": "execute_result"
    }
   ],
   "source": [
    "import importlib\n",
    "importlib.reload(prep)"
   ]
  },
  {
   "cell_type": "code",
   "execution_count": 112,
   "metadata": {},
   "outputs": [],
   "source": [
    "text=\"i\\'m sure i\\'ll get flamed for this, but true friends don\\'t write each other off for life choices. my bff JEJEJE is pregnant. if she\\'s happy, i\\'m happy. really want to respond with? u/op http://d  _lll_\""
   ]
  },
  {
   "cell_type": "code",
   "execution_count": 80,
   "metadata": {},
   "outputs": [],
   "source": [
    "text2=\"I TEST alllll kinds of #hashtags and #HASHTAGS, @mentions and 3000 (http://t.co/dkfjkdf). w/ <3 :) haha!!!!!\""
   ]
  },
  {
   "cell_type": "code",
   "execution_count": 122,
   "metadata": {},
   "outputs": [],
   "source": [
    "preproc= prep.Preprocessor()"
   ]
  },
  {
   "cell_type": "code",
   "execution_count": 123,
   "metadata": {},
   "outputs": [],
   "source": [
    "new_text=preproc.tokenize_redit(text)"
   ]
  },
  {
   "cell_type": "code",
   "execution_count": 124,
   "metadata": {},
   "outputs": [
    {
     "data": {
      "text/plain": [
       "['i',\n",
       " \"'m\",\n",
       " 'sure',\n",
       " 'i',\n",
       " \"'ll\",\n",
       " 'get',\n",
       " 'flamed',\n",
       " 'for',\n",
       " 'this',\n",
       " ',',\n",
       " 'but',\n",
       " 'true',\n",
       " 'friends',\n",
       " 'do',\n",
       " \"n't\",\n",
       " 'write',\n",
       " 'each',\n",
       " 'other',\n",
       " 'off',\n",
       " 'for',\n",
       " 'life',\n",
       " 'choices',\n",
       " '.',\n",
       " 'my',\n",
       " 'bff',\n",
       " 'jejeje',\n",
       " '_allcaps_',\n",
       " 'is',\n",
       " 'pregnant',\n",
       " '.',\n",
       " 'if',\n",
       " 'she',\n",
       " \"'s\",\n",
       " 'happy',\n",
       " ',',\n",
       " 'i',\n",
       " \"'m\",\n",
       " 'happy',\n",
       " '.',\n",
       " 'really',\n",
       " 'want',\n",
       " 'to',\n",
       " 'respond',\n",
       " 'with',\n",
       " '?',\n",
       " '_user_',\n",
       " '_url_',\n",
       " '_lll_']"
      ]
     },
     "execution_count": 124,
     "metadata": {},
     "output_type": "execute_result"
    }
   ],
   "source": [
    "tokens=new_text.split(' ')\n",
    "tokens"
   ]
  },
  {
   "cell_type": "code",
   "execution_count": 125,
   "metadata": {},
   "outputs": [],
   "source": [
    "only_words=[w for w in tokens if w.isalpha() and len(w)>2]"
   ]
  },
  {
   "cell_type": "code",
   "execution_count": 126,
   "metadata": {},
   "outputs": [
    {
     "data": {
      "text/plain": [
       "['sure',\n",
       " 'get',\n",
       " 'flamed',\n",
       " 'for',\n",
       " 'this',\n",
       " 'but',\n",
       " 'true',\n",
       " 'friends',\n",
       " 'write',\n",
       " 'each',\n",
       " 'other',\n",
       " 'off',\n",
       " 'for',\n",
       " 'life',\n",
       " 'choices',\n",
       " 'bff',\n",
       " 'jejeje',\n",
       " 'pregnant',\n",
       " 'she',\n",
       " 'happy',\n",
       " 'happy',\n",
       " 'really',\n",
       " 'want',\n",
       " 'respond',\n",
       " 'with']"
      ]
     },
     "execution_count": 126,
     "metadata": {},
     "output_type": "execute_result"
    }
   ],
   "source": [
    "only_words"
   ]
  },
  {
   "cell_type": "code",
   "execution_count": null,
   "metadata": {},
   "outputs": [],
   "source": []
  }
 ],
 "metadata": {
  "kernelspec": {
   "display_name": "Python 3",
   "language": "python",
   "name": "python3"
  },
  "language_info": {
   "codemirror_mode": {
    "name": "ipython",
    "version": 3
   },
   "file_extension": ".py",
   "mimetype": "text/x-python",
   "name": "python",
   "nbconvert_exporter": "python",
   "pygments_lexer": "ipython3",
   "version": "3.7.6"
  }
 },
 "nbformat": 4,
 "nbformat_minor": 2
}
