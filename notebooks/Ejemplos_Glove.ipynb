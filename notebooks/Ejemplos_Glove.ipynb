{
 "cells": [
  {
   "cell_type": "code",
   "execution_count": 11,
   "metadata": {},
   "outputs": [],
   "source": [
    "import sys\n",
    "sys.path.append('D:/v1ktop/Drive/REPOS/augmentation_ap/')"
   ]
  },
  {
   "cell_type": "code",
   "execution_count": 16,
   "metadata": {},
   "outputs": [],
   "source": [
    "from gensim.test.utils import datapath, get_tmpfile\n",
    "from gensim.models import KeyedVectors\n",
    "from gensim.scripts.glove2word2vec import glove2word2vec"
   ]
  },
  {
   "cell_type": "code",
   "execution_count": 27,
   "metadata": {},
   "outputs": [],
   "source": [
    "#%matplotlib notebook\n",
    "import matplotlib.pyplot as plt\n",
    "#plt.style.use('ggplot')\n",
    "import numpy as np\n",
    "from sklearn.decomposition import PCA"
   ]
  },
  {
   "cell_type": "code",
   "execution_count": 17,
   "metadata": {},
   "outputs": [],
   "source": [
    "glove_dir=\"D:\\Models\\glove\\glove.42B\\glove.42B.300d.txt\""
   ]
  },
  {
   "cell_type": "code",
   "execution_count": null,
   "metadata": {},
   "outputs": [],
   "source": []
  },
  {
   "cell_type": "code",
   "execution_count": 18,
   "metadata": {},
   "outputs": [],
   "source": [
    "word2vec_glove_file = get_tmpfile(\"glove2.txt\")\n",
    "glove2word2vec(glove_dir, word2vec_glove_file)\n",
    "model = KeyedVectors.load_word2vec_format(word2vec_glove_file)"
   ]
  },
  {
   "cell_type": "code",
   "execution_count": 31,
   "metadata": {},
   "outputs": [],
   "source": [
    " %matplotlib inline\n",
    "def display_pca_scatterplot(model, words=None, sample=0):\n",
    "    if words == None:\n",
    "        if sample > 0:\n",
    "            words = np.random.choice(list(model.vocab.keys()), sample)\n",
    "        else:\n",
    "            words = [ word for word in model.vocab ]\n",
    "        \n",
    "    word_vectors = np.array([model[w] for w in words])\n",
    "\n",
    "    twodim = PCA().fit_transform(word_vectors)[:,:2]\n",
    "    \n",
    "    plt.figure(figsize=(6,6))\n",
    "    plt.scatter(twodim[:,0], twodim[:,1], edgecolors='k', c='r')\n",
    "    for word, (x,y) in zip(words, twodim):\n",
    "        plt.text(x+0.05, y+0.05, word)"
   ]
  },
  {
   "cell_type": "markdown",
   "metadata": {},
   "source": [
    "## Operaciones con vectores"
   ]
  },
  {
   "cell_type": "markdown",
   "metadata": {},
   "source": [
    "vector(home) + vector(depressed)\n",
    "\n",
    "vector(home) + vector(anxious)\n",
    "\n",
    "vector(thesis) + vector(depressed)\n",
    "\n",
    "vector(thesis) + vector(anxious)\n",
    "\n",
    "vector(boyfriend) - vector (happy) + vector(depressed)\n",
    "\n",
    "vector(boyfriend) + vector(depressed)\n"
   ]
  },
  {
   "cell_type": "code",
   "execution_count": 142,
   "metadata": {},
   "outputs": [],
   "source": [
    "a=model.get_vector(\"depressed\")"
   ]
  },
  {
   "cell_type": "code",
   "execution_count": 143,
   "metadata": {},
   "outputs": [],
   "source": [
    "a_star=model.get_vector(\"anxious\")"
   ]
  },
  {
   "cell_type": "code",
   "execution_count": 144,
   "metadata": {},
   "outputs": [],
   "source": [
    "b=model.get_vector(\"home\")"
   ]
  },
  {
   "cell_type": "code",
   "execution_count": 145,
   "metadata": {},
   "outputs": [
    {
     "data": {
      "text/plain": [
       "0.65649515"
      ]
     },
     "execution_count": 145,
     "metadata": {},
     "output_type": "execute_result"
    }
   ],
   "source": [
    "np.dot(a/np.linalg.norm(a), a_star/np.linalg.norm(a_star))"
   ]
  },
  {
   "cell_type": "code",
   "execution_count": 118,
   "metadata": {},
   "outputs": [],
   "source": []
  },
  {
   "cell_type": "code",
   "execution_count": 146,
   "metadata": {},
   "outputs": [],
   "source": [
    "b1=b+a"
   ]
  },
  {
   "cell_type": "code",
   "execution_count": 147,
   "metadata": {},
   "outputs": [
    {
     "data": {
      "text/plain": [
       "[('home', 0.8240600228309631),\n",
       " ('depressed', 0.7620851397514343),\n",
       " ('when', 0.663192868232727),\n",
       " ('feel', 0.6591447591781616),\n",
       " ('because', 0.6443967223167419),\n",
       " ('even', 0.6382004022598267),\n",
       " ('get', 0.6376794576644897),\n",
       " ('find', 0.6324734687805176),\n",
       " ('being', 0.630422055721283),\n",
       " ('feeling', 0.629224956035614),\n",
       " ('going', 0.6232327222824097),\n",
       " ('living', 0.6224124431610107),\n",
       " ('still', 0.6222504377365112),\n",
       " ('but', 0.6217948794364929),\n",
       " ('well', 0.6217288970947266),\n",
       " ('if', 0.6201186180114746),\n",
       " ('after', 0.6198452115058899),\n",
       " ('life', 0.6197786331176758),\n",
       " ('looking', 0.617672324180603),\n",
       " ('while', 0.6171057224273682)]"
      ]
     },
     "execution_count": 147,
     "metadata": {},
     "output_type": "execute_result"
    }
   ],
   "source": [
    "model.similar_by_vector(b1,20)"
   ]
  },
  {
   "cell_type": "code",
   "execution_count": 148,
   "metadata": {},
   "outputs": [],
   "source": [
    "b2=b+a_star"
   ]
  },
  {
   "cell_type": "code",
   "execution_count": 150,
   "metadata": {},
   "outputs": [
    {
     "data": {
      "text/plain": [
       "[('home', 0.8575233817100525),\n",
       " ('anxious', 0.7525773048400879),\n",
       " ('feel', 0.6731334924697876),\n",
       " ('get', 0.6678358316421509),\n",
       " ('when', 0.6625792384147644),\n",
       " ('looking', 0.661033034324646),\n",
       " ('worried', 0.6600176692008972),\n",
       " ('find', 0.6553210020065308),\n",
       " ('going', 0.655280351638794),\n",
       " ('feeling', 0.6468145847320557),\n",
       " ('getting', 0.6456416249275208),\n",
       " ('make', 0.644668459892273),\n",
       " ('want', 0.6424398422241211),\n",
       " ('help', 0.6420262455940247),\n",
       " ('ready', 0.6404595375061035),\n",
       " ('today', 0.6403713226318359),\n",
       " ('able', 0.6401380300521851),\n",
       " ('we', 0.6400351524353027),\n",
       " ('even', 0.6390644311904907),\n",
       " ('go', 0.6370422840118408)]"
      ]
     },
     "execution_count": 150,
     "metadata": {},
     "output_type": "execute_result"
    }
   ],
   "source": [
    "model.similar_by_vector(b2,20)"
   ]
  },
  {
   "cell_type": "code",
   "execution_count": 151,
   "metadata": {},
   "outputs": [],
   "source": [
    "b3=b-a+a_star"
   ]
  },
  {
   "cell_type": "code",
   "execution_count": 153,
   "metadata": {},
   "outputs": [
    {
     "data": {
      "text/plain": [
       "[('home', 0.8253693580627441),\n",
       " ('house', 0.5762505531311035),\n",
       " ('ready', 0.5637504458427429),\n",
       " ('visit', 0.5575703382492065),\n",
       " ('homes', 0.543260931968689),\n",
       " ('our', 0.5396041870117188),\n",
       " ('family', 0.5370161533355713),\n",
       " ('come', 0.5355870723724365),\n",
       " ('today', 0.5348531603813171),\n",
       " ('make', 0.5293577909469604),\n",
       " ('go', 0.5287762880325317),\n",
       " ('we', 0.5248925089836121),\n",
       " ('welcome', 0.522683322429657),\n",
       " ('find', 0.51869797706604),\n",
       " ('out', 0.5174014568328857),\n",
       " ('take', 0.5125767588615417),\n",
       " ('looking', 0.5099717378616333),\n",
       " ('bring', 0.509946882724762),\n",
       " ('place', 0.5094887614250183),\n",
       " ('get', 0.5090073943138123)]"
      ]
     },
     "execution_count": 153,
     "metadata": {},
     "output_type": "execute_result"
    }
   ],
   "source": [
    "model.similar_by_vector(b3,20)"
   ]
  },
  {
   "cell_type": "code",
   "execution_count": 156,
   "metadata": {},
   "outputs": [
    {
     "data": {
      "text/plain": [
       "[('house', 0.687491774559021),\n",
       " ('homes', 0.68471360206604),\n",
       " ('living', 0.6529521346092224),\n",
       " ('family', 0.6425895094871521),\n",
       " ('today', 0.6320656538009644),\n",
       " ('find', 0.6310160160064697),\n",
       " ('>', 0.6207315921783447),\n",
       " ('out', 0.6194740533828735),\n",
       " ('real', 0.6192852854728699),\n",
       " ('go', 0.6148315668106079)]"
      ]
     },
     "execution_count": 156,
     "metadata": {},
     "output_type": "execute_result"
    }
   ],
   "source": [
    "model.most_similar(\"home\")"
   ]
  },
  {
   "cell_type": "code",
   "execution_count": 157,
   "metadata": {},
   "outputs": [
    {
     "data": {
      "text/plain": [
       "[('ready', 0.9036892056465149),\n",
       " ('visit', 0.8871597051620483),\n",
       " ('house', 0.877490758895874),\n",
       " ('come', 0.8669388890266418),\n",
       " ('our', 0.865932822227478),\n",
       " ('welcome', 0.8639915585517883),\n",
       " ('make', 0.8611336946487427),\n",
       " ('we', 0.8586493134498596),\n",
       " ('today', 0.8575487732887268),\n",
       " ('go', 0.8563326001167297),\n",
       " ('opportunity', 0.8558668494224548),\n",
       " ('family', 0.8544706106185913),\n",
       " ('bring', 0.8532106876373291),\n",
       " ('take', 0.852249026298523),\n",
       " ('learn', 0.8502967953681946),\n",
       " ('able', 0.8501840233802795),\n",
       " ('to', 0.8499132394790649),\n",
       " ('wanted', 0.8489853143692017),\n",
       " ('sure', 0.8477268218994141),\n",
       " ('looking', 0.8467501997947693)]"
      ]
     },
     "execution_count": 157,
     "metadata": {},
     "output_type": "execute_result"
    }
   ],
   "source": [
    "model.most_similar_cosmul([\"anxious\", \"home\"], [\"depressed\"],20)"
   ]
  },
  {
   "cell_type": "code",
   "execution_count": 163,
   "metadata": {},
   "outputs": [],
   "source": [
    "b=model.get_vector(\"thesis\")"
   ]
  },
  {
   "cell_type": "code",
   "execution_count": 164,
   "metadata": {},
   "outputs": [],
   "source": [
    "b1=b+a\n",
    "b2=b+a_star"
   ]
  },
  {
   "cell_type": "code",
   "execution_count": null,
   "metadata": {},
   "outputs": [],
   "source": []
  },
  {
   "cell_type": "code",
   "execution_count": 165,
   "metadata": {},
   "outputs": [
    {
     "data": {
      "text/plain": [
       "[('depressed', 0.7468442320823669),\n",
       " ('thesis', 0.7443063259124756),\n",
       " ('dissertation', 0.649459719657898),\n",
       " ('essay', 0.5603485703468323),\n",
       " ('stressed', 0.5523277521133423),\n",
       " ('study', 0.5504658818244934),\n",
       " ('studies', 0.5488053560256958),\n",
       " ('confused', 0.5476121306419373),\n",
       " ('psychology', 0.5421875715255737),\n",
       " ('writing', 0.5394567251205444),\n",
       " ('conclusion', 0.5360116958618164),\n",
       " ('subjects', 0.5328078269958496),\n",
       " ('feel', 0.5318431854248047),\n",
       " ('feeling', 0.5279021263122559),\n",
       " ('anxious', 0.5262178182601929),\n",
       " ('concerned', 0.5255228877067566),\n",
       " ('sad', 0.5243000388145447),\n",
       " ('depression', 0.524106502532959),\n",
       " ('thinking', 0.5220327377319336),\n",
       " ('however', 0.5208316445350647)]"
      ]
     },
     "execution_count": 165,
     "metadata": {},
     "output_type": "execute_result"
    }
   ],
   "source": [
    "model.similar_by_vector(b1,20)"
   ]
  },
  {
   "cell_type": "code",
   "execution_count": 167,
   "metadata": {},
   "outputs": [
    {
     "data": {
      "text/plain": [
       "[('thesis', 0.7814486622810364),\n",
       " ('anxious', 0.718195915222168),\n",
       " ('dissertation', 0.6731830835342407),\n",
       " ('concerned', 0.6032109260559082),\n",
       " ('essay', 0.5934287905693054),\n",
       " ('stressed', 0.5877351760864258),\n",
       " ('confused', 0.5723710656166077),\n",
       " ('nervous', 0.5721797347068787),\n",
       " ('studying', 0.5686253309249878),\n",
       " ('conclusion', 0.5673273205757141),\n",
       " ('understand', 0.5658544301986694),\n",
       " ('worried', 0.5651125907897949),\n",
       " ('afraid', 0.5612106323242188),\n",
       " ('feeling', 0.5508912801742554),\n",
       " ('frustrated', 0.5503315925598145),\n",
       " ('feel', 0.5497386455535889),\n",
       " ('difficult', 0.5491670370101929),\n",
       " ('mind', 0.546875),\n",
       " ('writing', 0.5463109016418457),\n",
       " ('thinking', 0.5454944372177124)]"
      ]
     },
     "execution_count": 167,
     "metadata": {},
     "output_type": "execute_result"
    }
   ],
   "source": [
    "model.similar_by_vector(b2,20)"
   ]
  },
  {
   "cell_type": "code",
   "execution_count": 168,
   "metadata": {},
   "outputs": [
    {
     "data": {
      "text/plain": [
       "[('dissertation', 0.8610484600067139),\n",
       " ('doctoral', 0.6831880807876587),\n",
       " ('essay', 0.6796340346336365),\n",
       " ('phd', 0.6511988043785095),\n",
       " ('ph.d.', 0.5988938212394714),\n",
       " ('theses', 0.5899792313575745),\n",
       " ('coursework', 0.5830454230308533),\n",
       " ('studies', 0.5664132237434387),\n",
       " ('essays', 0.5654727220535278),\n",
       " ('graduate', 0.5589427947998047)]"
      ]
     },
     "execution_count": 168,
     "metadata": {},
     "output_type": "execute_result"
    }
   ],
   "source": [
    "model.most_similar(\"thesis\")"
   ]
  },
  {
   "cell_type": "code",
   "execution_count": 216,
   "metadata": {},
   "outputs": [],
   "source": [
    "a=model.get_vector(\"happiness\")\n",
    "a_start=model.get_vector(\"despondent\")\n",
    "b=model.get_vector(\"time\")"
   ]
  },
  {
   "cell_type": "code",
   "execution_count": 217,
   "metadata": {},
   "outputs": [],
   "source": [
    "b1=b-a\n",
    "#+a_star\n",
    "b2=b+a_start"
   ]
  },
  {
   "cell_type": "code",
   "execution_count": 218,
   "metadata": {},
   "outputs": [
    {
     "data": {
      "text/plain": [
       "[('time', 0.5892292857170105),\n",
       " ('content/ending', 0.44374316930770874),\n",
       " ('announcer/fixed', 0.41664308309555054),\n",
       " ('before', 0.41244709491729736),\n",
       " ('left', 0.4043484032154083),\n",
       " ('after', 0.4013848900794983),\n",
       " ('sydney?event', 0.3973034620285034),\n",
       " ('during', 0.3972114026546478),\n",
       " ('content/beginning', 0.3968387246131897),\n",
       " ('last', 0.3918135464191437),\n",
       " ('days', 0.3901593089103699),\n",
       " ('w/precip', 0.3859311640262604),\n",
       " ('until', 0.384033739566803),\n",
       " ('scheduled', 0.38221168518066406),\n",
       " ('first', 0.3821410536766052),\n",
       " ('off', 0.38000255823135376),\n",
       " ('prior', 0.37967440485954285),\n",
       " ('early', 0.3741416335105896),\n",
       " ('tied-1', 0.3697614073753357),\n",
       " ('when', 0.3685150742530823)]"
      ]
     },
     "execution_count": 218,
     "metadata": {},
     "output_type": "execute_result"
    }
   ],
   "source": [
    "model.similar_by_vector(b1,20)"
   ]
  },
  {
   "cell_type": "code",
   "execution_count": null,
   "metadata": {},
   "outputs": [],
   "source": [
    "m"
   ]
  },
  {
   "cell_type": "code",
   "execution_count": 215,
   "metadata": {},
   "outputs": [
    {
     "data": {
      "text/plain": [
       "[('joy', 0.7405859231948853),\n",
       " ('contentment', 0.685244083404541),\n",
       " ('prosperity', 0.6683913469314575),\n",
       " ('well-being', 0.6273314952850342),\n",
       " ('life', 0.614605188369751),\n",
       " ('sadness', 0.6108625531196594),\n",
       " ('enjoyment', 0.6104636788368225),\n",
       " ('peace', 0.602667510509491),\n",
       " ('gratitude', 0.5973808169364929),\n",
       " ('bliss', 0.5966559648513794)]"
      ]
     },
     "execution_count": 215,
     "metadata": {},
     "output_type": "execute_result"
    }
   ],
   "source": [
    "model.most_similar(\"happiness\")"
   ]
  },
  {
   "cell_type": "code",
   "execution_count": 172,
   "metadata": {},
   "outputs": [
    {
     "data": {
      "text/plain": [
       "[('boyfriend', 0.8143901824951172),\n",
       " ('depressed', 0.8131309747695923),\n",
       " ('girlfriend', 0.6927303075790405),\n",
       " ('husband', 0.6723172664642334),\n",
       " ('dad', 0.6419754028320312),\n",
       " ('frustrated', 0.6329512596130371),\n",
       " ('friend', 0.6315502524375916),\n",
       " ('teenager', 0.6225461959838867),\n",
       " ('unhappy', 0.6199014186859131),\n",
       " ('bored', 0.6187597513198853)]"
      ]
     },
     "execution_count": 172,
     "metadata": {},
     "output_type": "execute_result"
    }
   ],
   "source": [
    "model.similar_by_vector(b2)"
   ]
  },
  {
   "cell_type": "code",
   "execution_count": 223,
   "metadata": {},
   "outputs": [
    {
     "data": {
      "text/plain": [
       "[('tired', 0.9846603274345398),\n",
       " ('annoyed', 0.9835669994354248),\n",
       " ('worried', 0.9471193552017212),\n",
       " ('when', 0.9410865306854248),\n",
       " ('frustrating', 0.9369889497756958),\n",
       " ('busy', 0.9347677826881409),\n",
       " ('complained', 0.9334535002708435),\n",
       " ('disappointed', 0.9320485591888428),\n",
       " ('after', 0.9297372698783875),\n",
       " ('confused', 0.9294464588165283),\n",
       " ('impatient', 0.9238008260726929),\n",
       " ('anxious', 0.9186730980873108),\n",
       " ('bothered', 0.9185717105865479),\n",
       " ('too', 0.9148674011230469),\n",
       " ('already', 0.9147830605506897),\n",
       " ('getting', 0.9138886332511902),\n",
       " ('trying', 0.9128968715667725),\n",
       " ('left', 0.9126608371734619),\n",
       " ('pissed', 0.9097249507904053),\n",
       " ('angry', 0.9094396829605103),\n",
       " ('now', 0.9091846942901611),\n",
       " ('complaining', 0.9084832668304443),\n",
       " ('upset', 0.9082472324371338),\n",
       " ('before', 0.9050672650337219),\n",
       " ('unable', 0.9045911431312561),\n",
       " ('difficult', 0.9039572477340698),\n",
       " ('times', 0.9036885499954224),\n",
       " ('bored', 0.9035945534706116),\n",
       " ('so', 0.8989686965942383),\n",
       " ('still', 0.8973837494850159)]"
      ]
     },
     "execution_count": 223,
     "metadata": {},
     "output_type": "execute_result"
    }
   ],
   "source": [
    "model.most_similar_cosmul([\"frustrated\", \"time\"], [\"happiness\"],30)"
   ]
  },
  {
   "cell_type": "code",
   "execution_count": 224,
   "metadata": {},
   "outputs": [
    {
     "data": {
      "text/plain": [
       "[('joy', 0.7405859231948853),\n",
       " ('contentment', 0.685244083404541),\n",
       " ('prosperity', 0.6683913469314575),\n",
       " ('well-being', 0.6273314952850342),\n",
       " ('life', 0.614605188369751),\n",
       " ('sadness', 0.6108625531196594),\n",
       " ('enjoyment', 0.6104636788368225),\n",
       " ('peace', 0.602667510509491),\n",
       " ('gratitude', 0.5973808169364929),\n",
       " ('bliss', 0.5966559648513794)]"
      ]
     },
     "execution_count": 224,
     "metadata": {},
     "output_type": "execute_result"
    }
   ],
   "source": [
    "model.most_similar(\"happiness\")"
   ]
  },
  {
   "cell_type": "markdown",
   "metadata": {},
   "source": [
    "1. Context_1: Palabras cercanas con POS. Sinonimos mas. p=0.2; promedio 6\n",
    "2. Context_0: Contrario restar la clase contraria (happiness, ...). p=0=1; promedio 9. Revisar la etiqueta POS.\n",
    "\n",
    "\n"
   ]
  }
 ],
 "metadata": {
  "kernelspec": {
   "display_name": "Python 3",
   "language": "python",
   "name": "python3"
  },
  "language_info": {
   "codemirror_mode": {
    "name": "ipython",
    "version": 3
   },
   "file_extension": ".py",
   "mimetype": "text/x-python",
   "name": "python",
   "nbconvert_exporter": "python",
   "pygments_lexer": "ipython3",
   "version": "3.7.6"
  }
 },
 "nbformat": 4,
 "nbformat_minor": 4
}
