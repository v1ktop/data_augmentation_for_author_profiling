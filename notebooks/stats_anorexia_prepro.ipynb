{
 "cells": [
  {
   "cell_type": "code",
   "execution_count": 24,
   "metadata": {},
   "outputs": [],
   "source": [
    "import sys\n",
    "sys.path.append(\"D:/v1ktop/Drive/REPOS/augmentation_ap/\")"
   ]
  },
  {
   "cell_type": "code",
   "execution_count": 25,
   "metadata": {},
   "outputs": [
    {
     "name": "stdout",
     "output_type": "stream",
     "text": [
      "The autoreload extension is already loaded. To reload it, use:\n",
      "  %reload_ext autoreload\n"
     ]
    }
   ],
   "source": [
    " %load_ext autoreload"
   ]
  },
  {
   "cell_type": "code",
   "execution_count": 26,
   "metadata": {},
   "outputs": [],
   "source": [
    " %autoreload 2"
   ]
  },
  {
   "cell_type": "code",
   "execution_count": 27,
   "metadata": {},
   "outputs": [],
   "source": [
    "man_dir=\"D:/corpus/anorexia/2018/train/\""
   ]
  },
  {
   "cell_type": "code",
   "execution_count": 28,
   "metadata": {},
   "outputs": [],
   "source": [
    "import os"
   ]
  },
  {
   "cell_type": "markdown",
   "metadata": {},
   "source": [
    "# Preprocess Docs"
   ]
  },
  {
   "cell_type": "code",
   "execution_count": 29,
   "metadata": {},
   "outputs": [],
   "source": [
    "#from preprocesing import process_data_files"
   ]
  },
  {
   "cell_type": "code",
   "execution_count": 30,
   "metadata": {},
   "outputs": [],
   "source": [
    "#process_data_files.prep_anorexia_data(man_dir+\"original_files/\", man_dir+\"train_golden_truth.txt\", \n",
    "#                                     man_dir+\"prep_chunks/\")"
   ]
  },
  {
   "cell_type": "code",
   "execution_count": 31,
   "metadata": {},
   "outputs": [],
   "source": [
    "#man_dir=\"D:/corpus/anorexia/2018/test/\""
   ]
  },
  {
   "cell_type": "code",
   "execution_count": 32,
   "metadata": {},
   "outputs": [],
   "source": [
    "#process_data_files.prep_anorexia_data(man_dir+\"original_files/\", man_dir+\"test_golden_truth.txt\", \n",
    "#                                     man_dir+\"prep_chunks/\")"
   ]
  },
  {
   "cell_type": "code",
   "execution_count": 33,
   "metadata": {},
   "outputs": [],
   "source": [
    "#man_dir=\"D:/corpus/anorexia/2019/\""
   ]
  },
  {
   "cell_type": "code",
   "execution_count": 34,
   "metadata": {},
   "outputs": [],
   "source": [
    "#process_data_files.prep_anorexia_data(man_dir+\"original_files/\", man_dir+\"test_golden_truth.txt\", \n",
    "#                                     man_dir+\"prep_chunks/\")"
   ]
  },
  {
   "cell_type": "markdown",
   "metadata": {},
   "source": [
    "# Read training docs"
   ]
  },
  {
   "cell_type": "code",
   "execution_count": 35,
   "metadata": {},
   "outputs": [],
   "source": [
    "from preprocesing.load_datasets import Dataset"
   ]
  },
  {
   "cell_type": "code",
   "execution_count": 36,
   "metadata": {},
   "outputs": [],
   "source": [
    "data= Dataset(key=\"anorexia18_dev\", chunking=False, remove_end=True)"
   ]
  },
  {
   "cell_type": "code",
   "execution_count": null,
   "metadata": {},
   "outputs": [],
   "source": []
  },
  {
   "cell_type": "markdown",
   "metadata": {},
   "source": [
    "## Positive docs"
   ]
  },
  {
   "cell_type": "code",
   "execution_count": 37,
   "metadata": {},
   "outputs": [],
   "source": [
    "pos_docs=data.get_dataset(folder_name=\"prep_chunks\", truth_name=\"train_golden_truth.txt\",\n",
    "                          partition=\"training\", chunks=False)"
   ]
  },
  {
   "cell_type": "code",
   "execution_count": 38,
   "metadata": {},
   "outputs": [
    {
     "data": {
      "text/plain": [
       "152"
      ]
     },
     "execution_count": 38,
     "metadata": {},
     "output_type": "execute_result"
    }
   ],
   "source": [
    "len(pos_docs[0])"
   ]
  },
  {
   "cell_type": "code",
   "execution_count": 39,
   "metadata": {},
   "outputs": [],
   "source": [
    "from classifier.explore_data import explore_data"
   ]
  },
  {
   "cell_type": "markdown",
   "metadata": {},
   "source": [
    "## Explore data"
   ]
  },
  {
   "cell_type": "code",
   "execution_count": 41,
   "metadata": {},
   "outputs": [],
   "source": [
    "exp_dta=explore_data(pos_docs[0], pos_docs[1], man_dir)"
   ]
  },
  {
   "cell_type": "code",
   "execution_count": 42,
   "metadata": {},
   "outputs": [
    {
     "data": {
      "image/png": "[encoded data removed]",
      "text/plain": [
       "<Figure size 432x288 with 1 Axes>"
      ]
     },
     "metadata": {
      "needs_background": "light"
     },
     "output_type": "display_data"
    }
   ],
   "source": [
    "exp_dta.plot_sample_length_distribution()"
   ]
  },
  {
   "cell_type": "code",
   "execution_count": null,
   "metadata": {},
   "outputs": [],
   "source": []
  },
  {
   "cell_type": "code",
   "execution_count": null,
   "metadata": {},
   "outputs": [],
   "source": []
  },
  {
   "cell_type": "code",
   "execution_count": null,
   "metadata": {},
   "outputs": [],
   "source": []
  },
  {
   "cell_type": "code",
   "execution_count": null,
   "metadata": {},
   "outputs": [],
   "source": []
  },
  {
   "cell_type": "code",
   "execution_count": null,
   "metadata": {},
   "outputs": [],
   "source": []
  },
  {
   "cell_type": "code",
   "execution_count": null,
   "metadata": {},
   "outputs": [],
   "source": []
  },
  {
   "cell_type": "code",
   "execution_count": 18,
   "metadata": {},
   "outputs": [],
   "source": [
    "import pandas as pd"
   ]
  },
  {
   "cell_type": "code",
   "execution_count": 19,
   "metadata": {},
   "outputs": [],
   "source": [
    "df = pd.DataFrame(pos_docs[0],index=[i for i in range (len(pos_docs[0]))], columns=[\"doc\"])"
   ]
  },
  {
   "cell_type": "code",
   "execution_count": 20,
   "metadata": {},
   "outputs": [],
   "source": [
    "df[\"truth\"]=pos_docs[1]"
   ]
  },
  {
   "cell_type": "code",
   "execution_count": 21,
   "metadata": {},
   "outputs": [],
   "source": [
    "pos_docs_1=list (df[df[\"truth\"]==1][\"doc\"])"
   ]
  },
  {
   "cell_type": "code",
   "execution_count": 22,
   "metadata": {},
   "outputs": [
    {
     "data": {
      "text/plain": [
       "20"
      ]
     },
     "execution_count": 22,
     "metadata": {},
     "output_type": "execute_result"
    }
   ],
   "source": [
    "len(pos_docs_1)"
   ]
  },
  {
   "cell_type": "code",
   "execution_count": null,
   "metadata": {},
   "outputs": [],
   "source": []
  },
  {
   "cell_type": "code",
   "execution_count": 23,
   "metadata": {},
   "outputs": [
    {
     "ename": "AttributeError",
     "evalue": "module 'classifier.explore_data' has no attribute 'plot_sample_length_distribution'",
     "output_type": "error",
     "traceback": [
      "\u001b[1;31m---------------------------------------------------------------------------\u001b[0m",
      "\u001b[1;31mAttributeError\u001b[0m                            Traceback (most recent call last)",
      "\u001b[1;32m<ipython-input-23-acb0001e43df>\u001b[0m in \u001b[0;36m<module>\u001b[1;34m\u001b[0m\n\u001b[1;32m----> 1\u001b[1;33m \u001b[0mexplore_data\u001b[0m\u001b[1;33m.\u001b[0m\u001b[0mplot_sample_length_distribution\u001b[0m\u001b[1;33m(\u001b[0m\u001b[0mpos_docs_1\u001b[0m\u001b[1;33m)\u001b[0m\u001b[1;33m\u001b[0m\u001b[1;33m\u001b[0m\u001b[0m\n\u001b[0m",
      "\u001b[1;31mAttributeError\u001b[0m: module 'classifier.explore_data' has no attribute 'plot_sample_length_distribution'"
     ]
    }
   ],
   "source": [
    "explore_data.plot_sample_length_distribution(pos_docs_1)"
   ]
  },
  {
   "cell_type": "code",
   "execution_count": null,
   "metadata": {},
   "outputs": [],
   "source": [
    "explore_data.plot_frequency_distribution_of_ngrams(pos_docs_1, (1,1), 20)"
   ]
  },
  {
   "cell_type": "markdown",
   "metadata": {},
   "source": [
    "## Negative docs"
   ]
  },
  {
   "cell_type": "code",
   "execution_count": null,
   "metadata": {},
   "outputs": [],
   "source": [
    "pos_docs_0=list (df[df[\"truth\"]==0][\"doc\"])"
   ]
  },
  {
   "cell_type": "code",
   "execution_count": null,
   "metadata": {},
   "outputs": [],
   "source": [
    "explore_data.plot_sample_length_distribution(pos_docs_0)"
   ]
  },
  {
   "cell_type": "code",
   "execution_count": null,
   "metadata": {},
   "outputs": [],
   "source": [
    "explore_data.plot_frequency_distribution_of_ngrams(pos_docs_0, (1,1), 20)"
   ]
  },
  {
   "cell_type": "markdown",
   "metadata": {},
   "source": [
    "## Both clases"
   ]
  },
  {
   "cell_type": "code",
   "execution_count": null,
   "metadata": {},
   "outputs": [],
   "source": [
    "explore_data.plot_class_distribution(pos_docs[1])"
   ]
  },
  {
   "cell_type": "code",
   "execution_count": null,
   "metadata": {},
   "outputs": [],
   "source": [
    "explore_data.plot_sample_length_distribution(pos_docs[0])"
   ]
  },
  {
   "cell_type": "code",
   "execution_count": null,
   "metadata": {
    "scrolled": true
   },
   "outputs": [],
   "source": [
    "explore_data.plot_frequency_distribution_of_ngrams(pos_docs[0], (1,1), 20)"
   ]
  },
  {
   "cell_type": "code",
   "execution_count": null,
   "metadata": {},
   "outputs": [],
   "source": [
    "explore_data.plot_frequency_distribution_of_ngrams(pos_docs[0], (2,2), 20)"
   ]
  },
  {
   "cell_type": "code",
   "execution_count": null,
   "metadata": {},
   "outputs": [],
   "source": [
    "explore_data.plot_frequency_distribution_of_ngrams(pos_docs[0], (3,3), 20)"
   ]
  },
  {
   "cell_type": "code",
   "execution_count": null,
   "metadata": {},
   "outputs": [],
   "source": []
  },
  {
   "cell_type": "markdown",
   "metadata": {},
   "source": [
    "# Clasificacion y ganancia de informacion"
   ]
  },
  {
   "cell_type": "code",
   "execution_count": 122,
   "metadata": {},
   "outputs": [],
   "source": [
    "from classifier.SVM_Text import SVM_text"
   ]
  },
  {
   "cell_type": "code",
   "execution_count": 123,
   "metadata": {},
   "outputs": [],
   "source": [
    "from classifier.FeactureExtraction import feature_extraction"
   ]
  },
  {
   "cell_type": "code",
   "execution_count": 124,
   "metadata": {},
   "outputs": [],
   "source": [
    "svm_obj=SVM_text(pos_docs[0], pos_docs[1], weighted=True)"
   ]
  },
  {
   "cell_type": "markdown",
   "metadata": {},
   "source": [
    "## Cargar conjunto de test"
   ]
  },
  {
   "cell_type": "code",
   "execution_count": 146,
   "metadata": {},
   "outputs": [
    {
     "name": "stdout",
     "output_type": "stream",
     "text": [
      "# Features:  (152, 67724)\n",
      "Training:  (152, 67724)\n",
      "Testing:  (152, 67724)\n"
     ]
    }
   ],
   "source": [
    "svm_obj.extract_features(pos_docs[0], idf=True, stop_words=None, norm=\"l2\")"
   ]
  },
  {
   "cell_type": "code",
   "execution_count": 147,
   "metadata": {},
   "outputs": [
    {
     "name": "stdout",
     "output_type": "stream",
     "text": [
      "Confusion matrix:  [[129   3]\n",
      " [  2  18]]\n",
      "Scores: [67724, 0.9671052631578947, 0.8571428571428571, 0.9, 0.8780487804878048]\n"
     ]
    },
    {
     "data": {
      "text/plain": [
       "[67724, 0.9671052631578947, 0.8571428571428571, 0.9, 0.8780487804878048]"
      ]
     },
     "execution_count": 147,
     "metadata": {},
     "output_type": "execute_result"
    }
   ],
   "source": [
    "svm_obj.train_and_test(pos_docs[1], p_label=1)"
   ]
  },
  {
   "cell_type": "code",
   "execution_count": 148,
   "metadata": {},
   "outputs": [
    {
     "data": {
      "text/plain": [
       "Index(['calories', 'weight', 'autism', 'anorexia', 'lbs', 'skipped', 'eating',\n",
       "       'treatments', 'my', 'fasting', 'diet', 'autistic', 'mince', 'binge',\n",
       "       'dinner', 'cf', 'butter', 'snacks', 'breakfast', 'disorder', 'binging',\n",
       "       'peanut', 'im', 'recovery', 'bronkaid', 'boyfriend', 'mio', 'nausea',\n",
       "       'celery', 'anxiety', 'dubai', 'the', 'belfast', 'bmi', 'cal', 'tbsp',\n",
       "       'caffeine', 'purging', 'diagnosed', 'backpackers', 'yj', 'cucumber',\n",
       "       'ed', 'recovering', 'cinnamon', 'chubby', 'gain', 'coke', 'cals',\n",
       "       'meal', 'medication', 'barbell', 'depression', 'oatmeal', 'lunch',\n",
       "       'calorie', 'rice', 'antacids', 'cardio', 'hallucinations', 'anorexic',\n",
       "       'fat', 'food', 'tea', 'adhd', 'myself', 'luna', 'hostel', 'macros',\n",
       "       'fork', 'tofu', 'vegan', 'restriction', 'stroked', 'tims', 'furyball',\n",
       "       'perimeters', 'shimmery', 'makeupless', 'peachypink', 'charliehorseing',\n",
       "       'treatment', 'sugar', 'auditory', 'neuro', 'purged', 'therapist',\n",
       "       'underweight', 'cheesecake', 'days', 'relapsed', 'auntie', 'hiit',\n",
       "       'eat', 'prozac', 'oats', 'sensations', 'protein', 'and', 'wavy'],\n",
       "      dtype='object')"
      ]
     },
     "execution_count": 148,
     "metadata": {},
     "output_type": "execute_result"
    }
   ],
   "source": [
    "svm_obj.ft.get_chi_2(pos_docs[1], 100)"
   ]
  },
  {
   "cell_type": "markdown",
   "metadata": {},
   "source": [
    "## Validation"
   ]
  },
  {
   "cell_type": "code",
   "execution_count": 128,
   "metadata": {},
   "outputs": [],
   "source": [
    "val=data.get_dataset(folder_name=\"prep_chunks\", truth_name=\"test_golden_truth.txt\",\n",
    "                          partition=\"test\", chunks=False)"
   ]
  },
  {
   "cell_type": "code",
   "execution_count": 129,
   "metadata": {},
   "outputs": [
    {
     "name": "stdout",
     "output_type": "stream",
     "text": [
      "# Features:  (152, 67416)\n",
      "Training:  (152, 67416)\n",
      "Testing:  (320, 67416)\n"
     ]
    }
   ],
   "source": [
    "svm_obj.extract_features(val[0], idf=True, stop_words=\"None\", norm=\"l2\")"
   ]
  },
  {
   "cell_type": "code",
   "execution_count": 130,
   "metadata": {},
   "outputs": [
    {
     "name": "stdout",
     "output_type": "stream",
     "text": [
      "Confusion matrix:  [[278   1]\n",
      " [ 17  24]]\n",
      "Scores: [67416, 0.94375, 0.96, 0.5853658536585366, 0.7272727272727272]\n"
     ]
    },
    {
     "data": {
      "text/plain": [
       "[67416, 0.94375, 0.96, 0.5853658536585366, 0.7272727272727272]"
      ]
     },
     "execution_count": 130,
     "metadata": {},
     "output_type": "execute_result"
    }
   ],
   "source": [
    "svm_obj.train_and_test(val[1], p_label=1)"
   ]
  },
  {
   "cell_type": "code",
   "execution_count": null,
   "metadata": {},
   "outputs": [],
   "source": []
  },
  {
   "cell_type": "markdown",
   "metadata": {},
   "source": [
    "# Test real"
   ]
  },
  {
   "cell_type": "code",
   "execution_count": null,
   "metadata": {},
   "outputs": [],
   "source": []
  },
  {
   "cell_type": "code",
   "execution_count": 131,
   "metadata": {},
   "outputs": [],
   "source": [
    "data2= Dataset(key=\"anorexia18_test\", chunking=False, remove_end=True)"
   ]
  },
  {
   "cell_type": "code",
   "execution_count": 132,
   "metadata": {},
   "outputs": [],
   "source": [
    "test=data2.get_dataset(folder_name=\"prep_chunks\", truth_name=\"test_golden_truth.txt\",\n",
    "                          partition=\"test\", chunks=False)"
   ]
  },
  {
   "cell_type": "code",
   "execution_count": 133,
   "metadata": {},
   "outputs": [
    {
     "name": "stdout",
     "output_type": "stream",
     "text": [
      "# Features:  (152, 67416)\n",
      "Training:  (152, 67416)\n",
      "Testing:  (815, 67416)\n"
     ]
    }
   ],
   "source": [
    "svm_obj.extract_features(test[0], idf=True, stop_words=\"english\", norm=\"l2\")"
   ]
  },
  {
   "cell_type": "code",
   "execution_count": 134,
   "metadata": {},
   "outputs": [
    {
     "name": "stdout",
     "output_type": "stream",
     "text": [
      "Confusion matrix:  [[739   3]\n",
      " [ 31  42]]\n",
      "Scores: [67416, 0.9582822085889571, 0.9333333333333333, 0.5753424657534246, 0.7118644067796611]\n"
     ]
    },
    {
     "data": {
      "text/plain": [
       "[67416,\n",
       " 0.9582822085889571,\n",
       " 0.9333333333333333,\n",
       " 0.5753424657534246,\n",
       " 0.7118644067796611]"
      ]
     },
     "execution_count": 134,
     "metadata": {},
     "output_type": "execute_result"
    }
   ],
   "source": [
    "svm_obj.train_and_test(test[1], p_label=1)"
   ]
  },
  {
   "cell_type": "code",
   "execution_count": null,
   "metadata": {},
   "outputs": [],
   "source": []
  }
 ],
 "metadata": {
  "kernelspec": {
   "display_name": "Python 3",
   "language": "python",
   "name": "python3"
  },
  "language_info": {
   "codemirror_mode": {
    "name": "ipython",
    "version": 3
   },
   "file_extension": ".py",
   "mimetype": "text/x-python",
   "name": "python",
   "nbconvert_exporter": "python",
   "pygments_lexer": "ipython3",
   "version": "3.7.6"
  }
 },
 "nbformat": 4,
 "nbformat_minor": 2
}
